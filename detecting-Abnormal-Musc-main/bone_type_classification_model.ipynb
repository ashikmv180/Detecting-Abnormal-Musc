{
  "nbformat": 4,
  "nbformat_minor": 0,
  "metadata": {
    "colab": {
      "provenance": [],
      "machine_shape": "hm",
      "gpuType": "T4"
    },
    "kernelspec": {
      "name": "python3",
      "display_name": "Python 3"
    },
    "language_info": {
      "name": "python"
    },
    "accelerator": "GPU"
  },
  "cells": [
    {
      "cell_type": "markdown",
      "source": [
        "#import libraries"
      ],
      "metadata": {
        "id": "BiuhtK7eYkvt"
      }
    },
    {
      "cell_type": "code",
      "source": [
        "import os\n",
        "import pandas as pd\n",
        "from tensorflow import keras\n",
        "from tensorflow.keras.models import load_model\n",
        "from tensorflow.keras.preprocessing.image import ImageDataGenerator\n",
        "import numpy as np\n",
        "from google.colab import drive\n",
        "from tensorflow.keras.losses import categorical_crossentropy\n",
        "from sklearn.metrics import f1_score, accuracy_score, precision_score, recall_score, classification_report, roc_curve, auc, confusion_matrix\n",
        "drive.mount('/content/drive')\n",
        "import matplotlib.pyplot as plt\n",
        "import seaborn as sns\n",
        "from tensorflow.keras.optimizers import Adam\n",
        "from sklearn.model_selection import train_test_split\n",
        "# Layers to be used for building our model\n",
        "from tensorflow.keras.layers import Input, Conv2D,BatchNormalization\n",
        "from tensorflow.keras.layers import Activation,SpatialDropout2D,AvgPool2D\n",
        "from tensorflow.keras.layers import MaxPool2D,Dropout,GlobalAveragePooling2D\n",
        "from tensorflow.keras.layers import GlobalMaxPooling2D,Flatten,Dropout,Dense\n",
        "\n",
        "from tensorflow.keras.models import Model\n",
        "from tensorflow.keras.callbacks import EarlyStopping\n",
        "from tensorflow.keras import Sequential"
      ],
      "metadata": {
        "colab": {
          "base_uri": "https://localhost:8080/"
        },
        "id": "Ze0sRfyLdynz",
        "outputId": "57f28716-bd7b-4616-cc1c-2b04236f4c12"
      },
      "execution_count": 4,
      "outputs": [
        {
          "output_type": "stream",
          "name": "stdout",
          "text": [
            "Drive already mounted at /content/drive; to attempt to forcibly remount, call drive.mount(\"/content/drive\", force_remount=True).\n"
          ]
        }
      ]
    },
    {
      "cell_type": "markdown",
      "source": [
        "#load model"
      ],
      "metadata": {
        "id": "XDiD-E-KYoeh"
      }
    },
    {
      "cell_type": "code",
      "source": [
        "# Load the saved model\n",
        "cnn_model = keras.models.load_model('/content/drive/My Drive/Project/Final models/cnn_model.h5')"
      ],
      "metadata": {
        "id": "6qgrKrjKd5-b"
      },
      "execution_count": 5,
      "outputs": []
    },
    {
      "cell_type": "markdown",
      "source": [
        "#load train dataset"
      ],
      "metadata": {
        "id": "BP8JDhDX3qpm"
      }
    },
    {
      "cell_type": "code",
      "source": [
        "#defining base path\n",
        "base_path = \"/content/drive/My Drive/Project/MURA-v1.1\"\n",
        "#construct the file path to the CSV file named \"train_image_paths.csv\" by joining the base_path and the CSV file's name using the os.path.join\n",
        "train_image_csv_path = os.path.join(base_path, \"train_image_paths.csv\")\n",
        "#will read the above csv file and save in the data frame with column name paths\n",
        "train_images_df = pd.read_csv(train_image_csv_path, names=['paths'])\n",
        "#create complete file paths for each X-ray image.\n",
        "train_images_df[\"paths\"] = \"/content/drive/My Drive/Project/\" + train_images_df[\"paths\"]\n",
        "#create new column label in the dataframe  will indicate +ve or -ve\n",
        "# If a path contains the word 'positive,' it is assigned a label of 1 (abnormal), and if not, it's assigned a label of 0 (normal).\n",
        "train_images_df['label'] = train_images_df['paths'].str.contains('positive').astype(int)\n",
        "# It extracts the seventh element (index 7) of each path after splitting the path using '/'\n",
        "train_images_df['body_part'] = train_images_df['paths'].str.split('/').str[7]\n",
        "#  'label' column was initially created as integers (0 or 1), it is now converted to strings.\n",
        "train_images_df['label'] = train_images_df['label'].astype(str)"
      ],
      "metadata": {
        "id": "FC1wR7hV3uWg"
      },
      "execution_count": 6,
      "outputs": []
    },
    {
      "cell_type": "code",
      "source": [
        "train_images_df['label_index']= train_images_df.body_part"
      ],
      "metadata": {
        "id": "XtA2EwOY34UO"
      },
      "execution_count": 7,
      "outputs": []
    },
    {
      "cell_type": "code",
      "source": [
        "train_images_df.label_index.replace('XR_SHOULDER', 6, inplace=True)\n",
        "train_images_df.label_index.replace('XR_HUMERUS', 5, inplace=True)\n",
        "train_images_df.label_index.replace('XR_FINGER', 4, inplace=True)\n",
        "train_images_df.label_index.replace('XR_ELBOW', 3, inplace=True)\n",
        "train_images_df.label_index.replace('XR_WRIST', 2, inplace=True)\n",
        "train_images_df.label_index.replace('XR_FOREARM', 1, inplace=True)\n",
        "train_images_df.label_index.replace('XR_HAND', 0, inplace=True)"
      ],
      "metadata": {
        "id": "Tup49Yd84FXP"
      },
      "execution_count": 8,
      "outputs": []
    },
    {
      "cell_type": "code",
      "source": [
        "train_images_df.head()"
      ],
      "metadata": {
        "colab": {
          "base_uri": "https://localhost:8080/",
          "height": 0
        },
        "id": "kNPNlHr54Fby",
        "outputId": "caf107a2-f99a-4d5d-82d8-881f913cec79"
      },
      "execution_count": 9,
      "outputs": [
        {
          "output_type": "execute_result",
          "data": {
            "text/plain": [
              "                                               paths label    body_part  \\\n",
              "0  /content/drive/My Drive/Project/MURA-v1.1/trai...     1  XR_SHOULDER   \n",
              "1  /content/drive/My Drive/Project/MURA-v1.1/trai...     1  XR_SHOULDER   \n",
              "2  /content/drive/My Drive/Project/MURA-v1.1/trai...     1  XR_SHOULDER   \n",
              "3  /content/drive/My Drive/Project/MURA-v1.1/trai...     1  XR_SHOULDER   \n",
              "4  /content/drive/My Drive/Project/MURA-v1.1/trai...     1  XR_SHOULDER   \n",
              "\n",
              "   label_index  \n",
              "0            6  \n",
              "1            6  \n",
              "2            6  \n",
              "3            6  \n",
              "4            6  "
            ],
            "text/html": [
              "\n",
              "  <div id=\"df-56ca5484-703b-42ed-8c11-f0913da988a3\" class=\"colab-df-container\">\n",
              "    <div>\n",
              "<style scoped>\n",
              "    .dataframe tbody tr th:only-of-type {\n",
              "        vertical-align: middle;\n",
              "    }\n",
              "\n",
              "    .dataframe tbody tr th {\n",
              "        vertical-align: top;\n",
              "    }\n",
              "\n",
              "    .dataframe thead th {\n",
              "        text-align: right;\n",
              "    }\n",
              "</style>\n",
              "<table border=\"1\" class=\"dataframe\">\n",
              "  <thead>\n",
              "    <tr style=\"text-align: right;\">\n",
              "      <th></th>\n",
              "      <th>paths</th>\n",
              "      <th>label</th>\n",
              "      <th>body_part</th>\n",
              "      <th>label_index</th>\n",
              "    </tr>\n",
              "  </thead>\n",
              "  <tbody>\n",
              "    <tr>\n",
              "      <th>0</th>\n",
              "      <td>/content/drive/My Drive/Project/MURA-v1.1/trai...</td>\n",
              "      <td>1</td>\n",
              "      <td>XR_SHOULDER</td>\n",
              "      <td>6</td>\n",
              "    </tr>\n",
              "    <tr>\n",
              "      <th>1</th>\n",
              "      <td>/content/drive/My Drive/Project/MURA-v1.1/trai...</td>\n",
              "      <td>1</td>\n",
              "      <td>XR_SHOULDER</td>\n",
              "      <td>6</td>\n",
              "    </tr>\n",
              "    <tr>\n",
              "      <th>2</th>\n",
              "      <td>/content/drive/My Drive/Project/MURA-v1.1/trai...</td>\n",
              "      <td>1</td>\n",
              "      <td>XR_SHOULDER</td>\n",
              "      <td>6</td>\n",
              "    </tr>\n",
              "    <tr>\n",
              "      <th>3</th>\n",
              "      <td>/content/drive/My Drive/Project/MURA-v1.1/trai...</td>\n",
              "      <td>1</td>\n",
              "      <td>XR_SHOULDER</td>\n",
              "      <td>6</td>\n",
              "    </tr>\n",
              "    <tr>\n",
              "      <th>4</th>\n",
              "      <td>/content/drive/My Drive/Project/MURA-v1.1/trai...</td>\n",
              "      <td>1</td>\n",
              "      <td>XR_SHOULDER</td>\n",
              "      <td>6</td>\n",
              "    </tr>\n",
              "  </tbody>\n",
              "</table>\n",
              "</div>\n",
              "    <div class=\"colab-df-buttons\">\n",
              "\n",
              "  <div class=\"colab-df-container\">\n",
              "    <button class=\"colab-df-convert\" onclick=\"convertToInteractive('df-56ca5484-703b-42ed-8c11-f0913da988a3')\"\n",
              "            title=\"Convert this dataframe to an interactive table.\"\n",
              "            style=\"display:none;\">\n",
              "\n",
              "  <svg xmlns=\"http://www.w3.org/2000/svg\" height=\"24px\" viewBox=\"0 -960 960 960\">\n",
              "    <path d=\"M120-120v-720h720v720H120Zm60-500h600v-160H180v160Zm220 220h160v-160H400v160Zm0 220h160v-160H400v160ZM180-400h160v-160H180v160Zm440 0h160v-160H620v160ZM180-180h160v-160H180v160Zm440 0h160v-160H620v160Z\"/>\n",
              "  </svg>\n",
              "    </button>\n",
              "\n",
              "  <style>\n",
              "    .colab-df-container {\n",
              "      display:flex;\n",
              "      gap: 12px;\n",
              "    }\n",
              "\n",
              "    .colab-df-convert {\n",
              "      background-color: #E8F0FE;\n",
              "      border: none;\n",
              "      border-radius: 50%;\n",
              "      cursor: pointer;\n",
              "      display: none;\n",
              "      fill: #1967D2;\n",
              "      height: 32px;\n",
              "      padding: 0 0 0 0;\n",
              "      width: 32px;\n",
              "    }\n",
              "\n",
              "    .colab-df-convert:hover {\n",
              "      background-color: #E2EBFA;\n",
              "      box-shadow: 0px 1px 2px rgba(60, 64, 67, 0.3), 0px 1px 3px 1px rgba(60, 64, 67, 0.15);\n",
              "      fill: #174EA6;\n",
              "    }\n",
              "\n",
              "    .colab-df-buttons div {\n",
              "      margin-bottom: 4px;\n",
              "    }\n",
              "\n",
              "    [theme=dark] .colab-df-convert {\n",
              "      background-color: #3B4455;\n",
              "      fill: #D2E3FC;\n",
              "    }\n",
              "\n",
              "    [theme=dark] .colab-df-convert:hover {\n",
              "      background-color: #434B5C;\n",
              "      box-shadow: 0px 1px 3px 1px rgba(0, 0, 0, 0.15);\n",
              "      filter: drop-shadow(0px 1px 2px rgba(0, 0, 0, 0.3));\n",
              "      fill: #FFFFFF;\n",
              "    }\n",
              "  </style>\n",
              "\n",
              "    <script>\n",
              "      const buttonEl =\n",
              "        document.querySelector('#df-56ca5484-703b-42ed-8c11-f0913da988a3 button.colab-df-convert');\n",
              "      buttonEl.style.display =\n",
              "        google.colab.kernel.accessAllowed ? 'block' : 'none';\n",
              "\n",
              "      async function convertToInteractive(key) {\n",
              "        const element = document.querySelector('#df-56ca5484-703b-42ed-8c11-f0913da988a3');\n",
              "        const dataTable =\n",
              "          await google.colab.kernel.invokeFunction('convertToInteractive',\n",
              "                                                    [key], {});\n",
              "        if (!dataTable) return;\n",
              "\n",
              "        const docLinkHtml = 'Like what you see? Visit the ' +\n",
              "          '<a target=\"_blank\" href=https://colab.research.google.com/notebooks/data_table.ipynb>data table notebook</a>'\n",
              "          + ' to learn more about interactive tables.';\n",
              "        element.innerHTML = '';\n",
              "        dataTable['output_type'] = 'display_data';\n",
              "        await google.colab.output.renderOutput(dataTable, element);\n",
              "        const docLink = document.createElement('div');\n",
              "        docLink.innerHTML = docLinkHtml;\n",
              "        element.appendChild(docLink);\n",
              "      }\n",
              "    </script>\n",
              "  </div>\n",
              "\n",
              "\n",
              "<div id=\"df-1c2ac46d-2a7e-42cc-9a57-63a5957d07a1\">\n",
              "  <button class=\"colab-df-quickchart\" onclick=\"quickchart('df-1c2ac46d-2a7e-42cc-9a57-63a5957d07a1')\"\n",
              "            title=\"Suggest charts\"\n",
              "            style=\"display:none;\">\n",
              "\n",
              "<svg xmlns=\"http://www.w3.org/2000/svg\" height=\"24px\"viewBox=\"0 0 24 24\"\n",
              "     width=\"24px\">\n",
              "    <g>\n",
              "        <path d=\"M19 3H5c-1.1 0-2 .9-2 2v14c0 1.1.9 2 2 2h14c1.1 0 2-.9 2-2V5c0-1.1-.9-2-2-2zM9 17H7v-7h2v7zm4 0h-2V7h2v10zm4 0h-2v-4h2v4z\"/>\n",
              "    </g>\n",
              "</svg>\n",
              "  </button>\n",
              "\n",
              "<style>\n",
              "  .colab-df-quickchart {\n",
              "      --bg-color: #E8F0FE;\n",
              "      --fill-color: #1967D2;\n",
              "      --hover-bg-color: #E2EBFA;\n",
              "      --hover-fill-color: #174EA6;\n",
              "      --disabled-fill-color: #AAA;\n",
              "      --disabled-bg-color: #DDD;\n",
              "  }\n",
              "\n",
              "  [theme=dark] .colab-df-quickchart {\n",
              "      --bg-color: #3B4455;\n",
              "      --fill-color: #D2E3FC;\n",
              "      --hover-bg-color: #434B5C;\n",
              "      --hover-fill-color: #FFFFFF;\n",
              "      --disabled-bg-color: #3B4455;\n",
              "      --disabled-fill-color: #666;\n",
              "  }\n",
              "\n",
              "  .colab-df-quickchart {\n",
              "    background-color: var(--bg-color);\n",
              "    border: none;\n",
              "    border-radius: 50%;\n",
              "    cursor: pointer;\n",
              "    display: none;\n",
              "    fill: var(--fill-color);\n",
              "    height: 32px;\n",
              "    padding: 0;\n",
              "    width: 32px;\n",
              "  }\n",
              "\n",
              "  .colab-df-quickchart:hover {\n",
              "    background-color: var(--hover-bg-color);\n",
              "    box-shadow: 0 1px 2px rgba(60, 64, 67, 0.3), 0 1px 3px 1px rgba(60, 64, 67, 0.15);\n",
              "    fill: var(--button-hover-fill-color);\n",
              "  }\n",
              "\n",
              "  .colab-df-quickchart-complete:disabled,\n",
              "  .colab-df-quickchart-complete:disabled:hover {\n",
              "    background-color: var(--disabled-bg-color);\n",
              "    fill: var(--disabled-fill-color);\n",
              "    box-shadow: none;\n",
              "  }\n",
              "\n",
              "  .colab-df-spinner {\n",
              "    border: 2px solid var(--fill-color);\n",
              "    border-color: transparent;\n",
              "    border-bottom-color: var(--fill-color);\n",
              "    animation:\n",
              "      spin 1s steps(1) infinite;\n",
              "  }\n",
              "\n",
              "  @keyframes spin {\n",
              "    0% {\n",
              "      border-color: transparent;\n",
              "      border-bottom-color: var(--fill-color);\n",
              "      border-left-color: var(--fill-color);\n",
              "    }\n",
              "    20% {\n",
              "      border-color: transparent;\n",
              "      border-left-color: var(--fill-color);\n",
              "      border-top-color: var(--fill-color);\n",
              "    }\n",
              "    30% {\n",
              "      border-color: transparent;\n",
              "      border-left-color: var(--fill-color);\n",
              "      border-top-color: var(--fill-color);\n",
              "      border-right-color: var(--fill-color);\n",
              "    }\n",
              "    40% {\n",
              "      border-color: transparent;\n",
              "      border-right-color: var(--fill-color);\n",
              "      border-top-color: var(--fill-color);\n",
              "    }\n",
              "    60% {\n",
              "      border-color: transparent;\n",
              "      border-right-color: var(--fill-color);\n",
              "    }\n",
              "    80% {\n",
              "      border-color: transparent;\n",
              "      border-right-color: var(--fill-color);\n",
              "      border-bottom-color: var(--fill-color);\n",
              "    }\n",
              "    90% {\n",
              "      border-color: transparent;\n",
              "      border-bottom-color: var(--fill-color);\n",
              "    }\n",
              "  }\n",
              "</style>\n",
              "\n",
              "  <script>\n",
              "    async function quickchart(key) {\n",
              "      const quickchartButtonEl =\n",
              "        document.querySelector('#' + key + ' button');\n",
              "      quickchartButtonEl.disabled = true;  // To prevent multiple clicks.\n",
              "      quickchartButtonEl.classList.add('colab-df-spinner');\n",
              "      try {\n",
              "        const charts = await google.colab.kernel.invokeFunction(\n",
              "            'suggestCharts', [key], {});\n",
              "      } catch (error) {\n",
              "        console.error('Error during call to suggestCharts:', error);\n",
              "      }\n",
              "      quickchartButtonEl.classList.remove('colab-df-spinner');\n",
              "      quickchartButtonEl.classList.add('colab-df-quickchart-complete');\n",
              "    }\n",
              "    (() => {\n",
              "      let quickchartButtonEl =\n",
              "        document.querySelector('#df-1c2ac46d-2a7e-42cc-9a57-63a5957d07a1 button');\n",
              "      quickchartButtonEl.style.display =\n",
              "        google.colab.kernel.accessAllowed ? 'block' : 'none';\n",
              "    })();\n",
              "  </script>\n",
              "</div>\n",
              "\n",
              "    </div>\n",
              "  </div>\n"
            ]
          },
          "metadata": {},
          "execution_count": 9
        }
      ]
    },
    {
      "cell_type": "code",
      "source": [
        "train_images_df['label']=train_images_df['label'].astype(int)"
      ],
      "metadata": {
        "id": "fo8iGMFn4Jre"
      },
      "execution_count": 10,
      "outputs": []
    },
    {
      "cell_type": "code",
      "source": [
        "train_images_df.info()"
      ],
      "metadata": {
        "colab": {
          "base_uri": "https://localhost:8080/"
        },
        "id": "OZ1ruT3i4JvC",
        "outputId": "a382f9ec-fc28-4283-de5e-571e9eed64c9"
      },
      "execution_count": 11,
      "outputs": [
        {
          "output_type": "stream",
          "name": "stdout",
          "text": [
            "<class 'pandas.core.frame.DataFrame'>\n",
            "RangeIndex: 36808 entries, 0 to 36807\n",
            "Data columns (total 4 columns):\n",
            " #   Column       Non-Null Count  Dtype \n",
            "---  ------       --------------  ----- \n",
            " 0   paths        36808 non-null  object\n",
            " 1   label        36808 non-null  int64 \n",
            " 2   body_part    36808 non-null  object\n",
            " 3   label_index  36808 non-null  int64 \n",
            "dtypes: int64(2), object(2)\n",
            "memory usage: 1.1+ MB\n"
          ]
        }
      ]
    },
    {
      "cell_type": "code",
      "source": [
        "train_images_df.shape"
      ],
      "metadata": {
        "colab": {
          "base_uri": "https://localhost:8080/"
        },
        "id": "OQauzyVU6no4",
        "outputId": "1323598b-6aea-429b-ba4a-c6fea59d566a"
      },
      "execution_count": 12,
      "outputs": [
        {
          "output_type": "execute_result",
          "data": {
            "text/plain": [
              "(36808, 4)"
            ]
          },
          "metadata": {},
          "execution_count": 12
        }
      ]
    },
    {
      "cell_type": "markdown",
      "source": [
        "#load test dataset"
      ],
      "metadata": {
        "id": "Pzvza0hlYraV"
      }
    },
    {
      "cell_type": "code",
      "source": [
        "#defining base path\n",
        "base_path = \"/content/drive/My Drive/Project/MURA-v1.1\"\n",
        "#construct the file path to the CSV file named \"train_image_paths.csv\" by joining the base_path and the CSV file's name using the os.path.join\n",
        "test_image_csv_path = os.path.join(base_path, \"valid_image_paths.csv\")\n",
        "#will read the above csv file and save in the data frame with column name paths\n",
        "test_images_df = pd.read_csv(test_image_csv_path, names=['paths'])\n",
        "#create complete file paths for each X-ray image.\n",
        "test_images_df[\"paths\"] = \"/content/drive/My Drive/Project/\" + test_images_df[\"paths\"]\n",
        "#create new column label in the dataframe  will indicate +ve or -ve\n",
        "# If a path contains the word 'positive,' it is assigned a label of 1 (abnormal), and if not, it's assigned a label of 0 (normal).\n",
        "test_images_df['label'] = test_images_df['paths'].str.contains('positive').astype(int)\n",
        "# It extracts the seventh element (index 7) of each path after splitting the path using '/'\n",
        "test_images_df['body_part'] = test_images_df['paths'].str.split('/').str[7]\n",
        "#  'label' column was initially created as integers (0 or 1), it is now converted to strings.\n",
        "test_images_df['label'] = test_images_df['label'].astype(str)"
      ],
      "metadata": {
        "id": "5PFO0hLnXJa3"
      },
      "execution_count": 13,
      "outputs": []
    },
    {
      "cell_type": "code",
      "source": [
        "test_images_df['label_index']= test_images_df.body_part"
      ],
      "metadata": {
        "id": "NX4A9za6aYbo"
      },
      "execution_count": 14,
      "outputs": []
    },
    {
      "cell_type": "code",
      "source": [
        "test_images_df.label_index.replace('XR_SHOULDER', 6, inplace=True)\n",
        "test_images_df.label_index.replace('XR_HUMERUS', 5, inplace=True)\n",
        "test_images_df.label_index.replace('XR_FINGER', 4, inplace=True)\n",
        "test_images_df.label_index.replace('XR_ELBOW', 3, inplace=True)\n",
        "test_images_df.label_index.replace('XR_WRIST', 2, inplace=True)\n",
        "test_images_df.label_index.replace('XR_FOREARM', 1, inplace=True)\n",
        "test_images_df.label_index.replace('XR_HAND', 0, inplace=True)"
      ],
      "metadata": {
        "id": "SB1n2h0RX9e_"
      },
      "execution_count": 15,
      "outputs": []
    },
    {
      "cell_type": "code",
      "source": [
        "test_images_df.head()"
      ],
      "metadata": {
        "id": "P46nXiS6YF8e",
        "colab": {
          "base_uri": "https://localhost:8080/",
          "height": 0
        },
        "outputId": "e9401082-b2fa-4ef9-ea61-7305f2a57c09"
      },
      "execution_count": 16,
      "outputs": [
        {
          "output_type": "execute_result",
          "data": {
            "text/plain": [
              "                                               paths label body_part  \\\n",
              "0  /content/drive/My Drive/Project/MURA-v1.1/vali...     1  XR_WRIST   \n",
              "1  /content/drive/My Drive/Project/MURA-v1.1/vali...     1  XR_WRIST   \n",
              "2  /content/drive/My Drive/Project/MURA-v1.1/vali...     1  XR_WRIST   \n",
              "3  /content/drive/My Drive/Project/MURA-v1.1/vali...     1  XR_WRIST   \n",
              "4  /content/drive/My Drive/Project/MURA-v1.1/vali...     1  XR_WRIST   \n",
              "\n",
              "   label_index  \n",
              "0            2  \n",
              "1            2  \n",
              "2            2  \n",
              "3            2  \n",
              "4            2  "
            ],
            "text/html": [
              "\n",
              "  <div id=\"df-9a0f4f84-7c8f-41a1-b055-9c4efcb363ea\" class=\"colab-df-container\">\n",
              "    <div>\n",
              "<style scoped>\n",
              "    .dataframe tbody tr th:only-of-type {\n",
              "        vertical-align: middle;\n",
              "    }\n",
              "\n",
              "    .dataframe tbody tr th {\n",
              "        vertical-align: top;\n",
              "    }\n",
              "\n",
              "    .dataframe thead th {\n",
              "        text-align: right;\n",
              "    }\n",
              "</style>\n",
              "<table border=\"1\" class=\"dataframe\">\n",
              "  <thead>\n",
              "    <tr style=\"text-align: right;\">\n",
              "      <th></th>\n",
              "      <th>paths</th>\n",
              "      <th>label</th>\n",
              "      <th>body_part</th>\n",
              "      <th>label_index</th>\n",
              "    </tr>\n",
              "  </thead>\n",
              "  <tbody>\n",
              "    <tr>\n",
              "      <th>0</th>\n",
              "      <td>/content/drive/My Drive/Project/MURA-v1.1/vali...</td>\n",
              "      <td>1</td>\n",
              "      <td>XR_WRIST</td>\n",
              "      <td>2</td>\n",
              "    </tr>\n",
              "    <tr>\n",
              "      <th>1</th>\n",
              "      <td>/content/drive/My Drive/Project/MURA-v1.1/vali...</td>\n",
              "      <td>1</td>\n",
              "      <td>XR_WRIST</td>\n",
              "      <td>2</td>\n",
              "    </tr>\n",
              "    <tr>\n",
              "      <th>2</th>\n",
              "      <td>/content/drive/My Drive/Project/MURA-v1.1/vali...</td>\n",
              "      <td>1</td>\n",
              "      <td>XR_WRIST</td>\n",
              "      <td>2</td>\n",
              "    </tr>\n",
              "    <tr>\n",
              "      <th>3</th>\n",
              "      <td>/content/drive/My Drive/Project/MURA-v1.1/vali...</td>\n",
              "      <td>1</td>\n",
              "      <td>XR_WRIST</td>\n",
              "      <td>2</td>\n",
              "    </tr>\n",
              "    <tr>\n",
              "      <th>4</th>\n",
              "      <td>/content/drive/My Drive/Project/MURA-v1.1/vali...</td>\n",
              "      <td>1</td>\n",
              "      <td>XR_WRIST</td>\n",
              "      <td>2</td>\n",
              "    </tr>\n",
              "  </tbody>\n",
              "</table>\n",
              "</div>\n",
              "    <div class=\"colab-df-buttons\">\n",
              "\n",
              "  <div class=\"colab-df-container\">\n",
              "    <button class=\"colab-df-convert\" onclick=\"convertToInteractive('df-9a0f4f84-7c8f-41a1-b055-9c4efcb363ea')\"\n",
              "            title=\"Convert this dataframe to an interactive table.\"\n",
              "            style=\"display:none;\">\n",
              "\n",
              "  <svg xmlns=\"http://www.w3.org/2000/svg\" height=\"24px\" viewBox=\"0 -960 960 960\">\n",
              "    <path d=\"M120-120v-720h720v720H120Zm60-500h600v-160H180v160Zm220 220h160v-160H400v160Zm0 220h160v-160H400v160ZM180-400h160v-160H180v160Zm440 0h160v-160H620v160ZM180-180h160v-160H180v160Zm440 0h160v-160H620v160Z\"/>\n",
              "  </svg>\n",
              "    </button>\n",
              "\n",
              "  <style>\n",
              "    .colab-df-container {\n",
              "      display:flex;\n",
              "      gap: 12px;\n",
              "    }\n",
              "\n",
              "    .colab-df-convert {\n",
              "      background-color: #E8F0FE;\n",
              "      border: none;\n",
              "      border-radius: 50%;\n",
              "      cursor: pointer;\n",
              "      display: none;\n",
              "      fill: #1967D2;\n",
              "      height: 32px;\n",
              "      padding: 0 0 0 0;\n",
              "      width: 32px;\n",
              "    }\n",
              "\n",
              "    .colab-df-convert:hover {\n",
              "      background-color: #E2EBFA;\n",
              "      box-shadow: 0px 1px 2px rgba(60, 64, 67, 0.3), 0px 1px 3px 1px rgba(60, 64, 67, 0.15);\n",
              "      fill: #174EA6;\n",
              "    }\n",
              "\n",
              "    .colab-df-buttons div {\n",
              "      margin-bottom: 4px;\n",
              "    }\n",
              "\n",
              "    [theme=dark] .colab-df-convert {\n",
              "      background-color: #3B4455;\n",
              "      fill: #D2E3FC;\n",
              "    }\n",
              "\n",
              "    [theme=dark] .colab-df-convert:hover {\n",
              "      background-color: #434B5C;\n",
              "      box-shadow: 0px 1px 3px 1px rgba(0, 0, 0, 0.15);\n",
              "      filter: drop-shadow(0px 1px 2px rgba(0, 0, 0, 0.3));\n",
              "      fill: #FFFFFF;\n",
              "    }\n",
              "  </style>\n",
              "\n",
              "    <script>\n",
              "      const buttonEl =\n",
              "        document.querySelector('#df-9a0f4f84-7c8f-41a1-b055-9c4efcb363ea button.colab-df-convert');\n",
              "      buttonEl.style.display =\n",
              "        google.colab.kernel.accessAllowed ? 'block' : 'none';\n",
              "\n",
              "      async function convertToInteractive(key) {\n",
              "        const element = document.querySelector('#df-9a0f4f84-7c8f-41a1-b055-9c4efcb363ea');\n",
              "        const dataTable =\n",
              "          await google.colab.kernel.invokeFunction('convertToInteractive',\n",
              "                                                    [key], {});\n",
              "        if (!dataTable) return;\n",
              "\n",
              "        const docLinkHtml = 'Like what you see? Visit the ' +\n",
              "          '<a target=\"_blank\" href=https://colab.research.google.com/notebooks/data_table.ipynb>data table notebook</a>'\n",
              "          + ' to learn more about interactive tables.';\n",
              "        element.innerHTML = '';\n",
              "        dataTable['output_type'] = 'display_data';\n",
              "        await google.colab.output.renderOutput(dataTable, element);\n",
              "        const docLink = document.createElement('div');\n",
              "        docLink.innerHTML = docLinkHtml;\n",
              "        element.appendChild(docLink);\n",
              "      }\n",
              "    </script>\n",
              "  </div>\n",
              "\n",
              "\n",
              "<div id=\"df-22f20282-95d0-493d-b0ed-c12f3ed33388\">\n",
              "  <button class=\"colab-df-quickchart\" onclick=\"quickchart('df-22f20282-95d0-493d-b0ed-c12f3ed33388')\"\n",
              "            title=\"Suggest charts\"\n",
              "            style=\"display:none;\">\n",
              "\n",
              "<svg xmlns=\"http://www.w3.org/2000/svg\" height=\"24px\"viewBox=\"0 0 24 24\"\n",
              "     width=\"24px\">\n",
              "    <g>\n",
              "        <path d=\"M19 3H5c-1.1 0-2 .9-2 2v14c0 1.1.9 2 2 2h14c1.1 0 2-.9 2-2V5c0-1.1-.9-2-2-2zM9 17H7v-7h2v7zm4 0h-2V7h2v10zm4 0h-2v-4h2v4z\"/>\n",
              "    </g>\n",
              "</svg>\n",
              "  </button>\n",
              "\n",
              "<style>\n",
              "  .colab-df-quickchart {\n",
              "      --bg-color: #E8F0FE;\n",
              "      --fill-color: #1967D2;\n",
              "      --hover-bg-color: #E2EBFA;\n",
              "      --hover-fill-color: #174EA6;\n",
              "      --disabled-fill-color: #AAA;\n",
              "      --disabled-bg-color: #DDD;\n",
              "  }\n",
              "\n",
              "  [theme=dark] .colab-df-quickchart {\n",
              "      --bg-color: #3B4455;\n",
              "      --fill-color: #D2E3FC;\n",
              "      --hover-bg-color: #434B5C;\n",
              "      --hover-fill-color: #FFFFFF;\n",
              "      --disabled-bg-color: #3B4455;\n",
              "      --disabled-fill-color: #666;\n",
              "  }\n",
              "\n",
              "  .colab-df-quickchart {\n",
              "    background-color: var(--bg-color);\n",
              "    border: none;\n",
              "    border-radius: 50%;\n",
              "    cursor: pointer;\n",
              "    display: none;\n",
              "    fill: var(--fill-color);\n",
              "    height: 32px;\n",
              "    padding: 0;\n",
              "    width: 32px;\n",
              "  }\n",
              "\n",
              "  .colab-df-quickchart:hover {\n",
              "    background-color: var(--hover-bg-color);\n",
              "    box-shadow: 0 1px 2px rgba(60, 64, 67, 0.3), 0 1px 3px 1px rgba(60, 64, 67, 0.15);\n",
              "    fill: var(--button-hover-fill-color);\n",
              "  }\n",
              "\n",
              "  .colab-df-quickchart-complete:disabled,\n",
              "  .colab-df-quickchart-complete:disabled:hover {\n",
              "    background-color: var(--disabled-bg-color);\n",
              "    fill: var(--disabled-fill-color);\n",
              "    box-shadow: none;\n",
              "  }\n",
              "\n",
              "  .colab-df-spinner {\n",
              "    border: 2px solid var(--fill-color);\n",
              "    border-color: transparent;\n",
              "    border-bottom-color: var(--fill-color);\n",
              "    animation:\n",
              "      spin 1s steps(1) infinite;\n",
              "  }\n",
              "\n",
              "  @keyframes spin {\n",
              "    0% {\n",
              "      border-color: transparent;\n",
              "      border-bottom-color: var(--fill-color);\n",
              "      border-left-color: var(--fill-color);\n",
              "    }\n",
              "    20% {\n",
              "      border-color: transparent;\n",
              "      border-left-color: var(--fill-color);\n",
              "      border-top-color: var(--fill-color);\n",
              "    }\n",
              "    30% {\n",
              "      border-color: transparent;\n",
              "      border-left-color: var(--fill-color);\n",
              "      border-top-color: var(--fill-color);\n",
              "      border-right-color: var(--fill-color);\n",
              "    }\n",
              "    40% {\n",
              "      border-color: transparent;\n",
              "      border-right-color: var(--fill-color);\n",
              "      border-top-color: var(--fill-color);\n",
              "    }\n",
              "    60% {\n",
              "      border-color: transparent;\n",
              "      border-right-color: var(--fill-color);\n",
              "    }\n",
              "    80% {\n",
              "      border-color: transparent;\n",
              "      border-right-color: var(--fill-color);\n",
              "      border-bottom-color: var(--fill-color);\n",
              "    }\n",
              "    90% {\n",
              "      border-color: transparent;\n",
              "      border-bottom-color: var(--fill-color);\n",
              "    }\n",
              "  }\n",
              "</style>\n",
              "\n",
              "  <script>\n",
              "    async function quickchart(key) {\n",
              "      const quickchartButtonEl =\n",
              "        document.querySelector('#' + key + ' button');\n",
              "      quickchartButtonEl.disabled = true;  // To prevent multiple clicks.\n",
              "      quickchartButtonEl.classList.add('colab-df-spinner');\n",
              "      try {\n",
              "        const charts = await google.colab.kernel.invokeFunction(\n",
              "            'suggestCharts', [key], {});\n",
              "      } catch (error) {\n",
              "        console.error('Error during call to suggestCharts:', error);\n",
              "      }\n",
              "      quickchartButtonEl.classList.remove('colab-df-spinner');\n",
              "      quickchartButtonEl.classList.add('colab-df-quickchart-complete');\n",
              "    }\n",
              "    (() => {\n",
              "      let quickchartButtonEl =\n",
              "        document.querySelector('#df-22f20282-95d0-493d-b0ed-c12f3ed33388 button');\n",
              "      quickchartButtonEl.style.display =\n",
              "        google.colab.kernel.accessAllowed ? 'block' : 'none';\n",
              "    })();\n",
              "  </script>\n",
              "</div>\n",
              "\n",
              "    </div>\n",
              "  </div>\n"
            ]
          },
          "metadata": {},
          "execution_count": 16
        }
      ]
    },
    {
      "cell_type": "code",
      "source": [
        "test_images_df['label']=test_images_df['label'].astype(int)"
      ],
      "metadata": {
        "id": "9lKaKUMkbdyI"
      },
      "execution_count": 17,
      "outputs": []
    },
    {
      "cell_type": "code",
      "source": [
        "test_images_df.info()"
      ],
      "metadata": {
        "colab": {
          "base_uri": "https://localhost:8080/"
        },
        "id": "1bg5RqmDbKRg",
        "outputId": "8d2b8227-484d-4def-a0c8-56a64761d46a"
      },
      "execution_count": 18,
      "outputs": [
        {
          "output_type": "stream",
          "name": "stdout",
          "text": [
            "<class 'pandas.core.frame.DataFrame'>\n",
            "RangeIndex: 3197 entries, 0 to 3196\n",
            "Data columns (total 4 columns):\n",
            " #   Column       Non-Null Count  Dtype \n",
            "---  ------       --------------  ----- \n",
            " 0   paths        3197 non-null   object\n",
            " 1   label        3197 non-null   int64 \n",
            " 2   body_part    3197 non-null   object\n",
            " 3   label_index  3197 non-null   int64 \n",
            "dtypes: int64(2), object(2)\n",
            "memory usage: 100.0+ KB\n"
          ]
        }
      ]
    },
    {
      "cell_type": "code",
      "source": [
        "test_images_df.shape"
      ],
      "metadata": {
        "colab": {
          "base_uri": "https://localhost:8080/"
        },
        "id": "VNZTOiYB6Lsn",
        "outputId": "391d24f7-9f5b-497f-b48d-f05f6c54e571"
      },
      "execution_count": 19,
      "outputs": [
        {
          "output_type": "execute_result",
          "data": {
            "text/plain": [
              "(3197, 4)"
            ]
          },
          "metadata": {},
          "execution_count": 19
        }
      ]
    },
    {
      "cell_type": "markdown",
      "source": [
        "#train-valid split"
      ],
      "metadata": {
        "id": "_utRi0gu59vA"
      }
    },
    {
      "cell_type": "code",
      "source": [
        "train, valid = train_test_split(train_images_df,\n",
        "                               test_size=0.2,\n",
        "                               random_state=40)"
      ],
      "metadata": {
        "id": "Hovk5p836CFW"
      },
      "execution_count": 20,
      "outputs": []
    },
    {
      "cell_type": "markdown",
      "source": [
        "#Train-Valid-Test data preprocessing"
      ],
      "metadata": {
        "id": "cLdC3QeiY0d_"
      }
    },
    {
      "cell_type": "code",
      "source": [
        "# Define a list of bone types\n",
        "bone_types = ['XR_HAND', 'XR_FOREARM', 'XR_WRIST', 'XR_ELBOW', 'XR_FINGER', 'XR_HUMERUS', 'XR_SHOULDER']"
      ],
      "metadata": {
        "id": "tVtAFVpB3xoX"
      },
      "execution_count": 21,
      "outputs": []
    },
    {
      "cell_type": "code",
      "source": [
        "# Create an image data generator for validation\n",
        "Image_Generator = ImageDataGenerator(rescale=1./255)"
      ],
      "metadata": {
        "id": "ldB7k3tkeC2H"
      },
      "execution_count": 22,
      "outputs": []
    },
    {
      "cell_type": "code",
      "source": [
        "#train data\n",
        "train_generator = Image_Generator.flow_from_dataframe(\n",
        "    dataframe=train,\n",
        "    x_col=\"paths\",\n",
        "    y_col=\"body_part\",\n",
        "    target_size=(256, 256),  # Match the input size of your model\n",
        "    color_mode='rgb',\n",
        "    class_mode='categorical',  # Use 'categorical' since you have more than two classes\n",
        "    batch_size=64,\n",
        "    shuffle=False  # Keep it False to match predictions with filenames\n",
        ")\n"
      ],
      "metadata": {
        "colab": {
          "base_uri": "https://localhost:8080/"
        },
        "id": "HksWI8jveEU6",
        "outputId": "c685fc17-9c6b-406c-c049-7b8d118f35f7"
      },
      "execution_count": 23,
      "outputs": [
        {
          "output_type": "stream",
          "name": "stdout",
          "text": [
            "Found 29446 validated image filenames belonging to 7 classes.\n"
          ]
        }
      ]
    },
    {
      "cell_type": "code",
      "source": [
        "#valid data\n",
        "valid_generator = Image_Generator.flow_from_dataframe(\n",
        "    dataframe=valid,\n",
        "    x_col=\"paths\",\n",
        "    y_col=\"body_part\",\n",
        "    target_size=(256, 256),  # Match the input size of your model\n",
        "    color_mode='rgb',\n",
        "    class_mode='categorical',  # Use 'categorical' since you have more than two classes\n",
        "    batch_size=64,\n",
        "    shuffle=False  # Keep it False to match predictions with filenames\n",
        ")\n"
      ],
      "metadata": {
        "colab": {
          "base_uri": "https://localhost:8080/"
        },
        "id": "Hbo2roA67ZKD",
        "outputId": "01c20631-971e-4677-9102-04a193ee0102"
      },
      "execution_count": 24,
      "outputs": [
        {
          "output_type": "stream",
          "name": "stdout",
          "text": [
            "Found 7362 validated image filenames belonging to 7 classes.\n"
          ]
        }
      ]
    },
    {
      "cell_type": "code",
      "source": [
        "#test data\n",
        "test_generator = Image_Generator.flow_from_dataframe(\n",
        "    dataframe=test_images_df,\n",
        "    x_col=\"paths\",\n",
        "    y_col=\"body_part\",\n",
        "    target_size=(256, 256),  # Match the input size of your model\n",
        "    color_mode='rgb',\n",
        "    class_mode='categorical',  # Use 'categorical' since you have more than two classes\n",
        "    batch_size=64,\n",
        "    shuffle=False  # Keep it False to match predictions with filenames\n",
        ")\n"
      ],
      "metadata": {
        "colab": {
          "base_uri": "https://localhost:8080/"
        },
        "id": "PZ1aiTdm7ZTc",
        "outputId": "0964e5c1-6738-42d4-ad4c-875f5260a733"
      },
      "execution_count": 25,
      "outputs": [
        {
          "output_type": "stream",
          "name": "stdout",
          "text": [
            "Found 3197 validated image filenames belonging to 7 classes.\n"
          ]
        }
      ]
    },
    {
      "cell_type": "markdown",
      "source": [
        "#CNN model"
      ],
      "metadata": {
        "id": "trJ-M22O76iW"
      }
    },
    {
      "cell_type": "code",
      "source": [
        "def cnn_builder(\n",
        "    input_shape=(256, 256, 3),\n",
        "    starting_filters=32,\n",
        "    conv_layers=1,\n",
        "    conv_strides=(1, 1),\n",
        "    conv_kernel=(3, 3),\n",
        "    convs_per_layer=1,\n",
        "    pooling=\"max\",\n",
        "    pool_size=(2, 2),\n",
        "    pool_strides=(2, 2),\n",
        "    last_pooling=None\n",
        "):\n",
        "\n",
        "    # Define the input layer\n",
        "    inputs = Input(shape=input_shape, name=\"input\")\n",
        "    x = inputs\n",
        "\n",
        "    # Build the convolutional layers\n",
        "    for conv_level in range(conv_layers):\n",
        "        current_filters = starting_filters * (2 ** conv_level)\n",
        "\n",
        "        for conv_number in range(convs_per_layer):\n",
        "            x = Conv2D(\n",
        "                filters=current_filters,\n",
        "                kernel_size=conv_kernel,\n",
        "                strides=conv_strides,\n",
        "                padding='same'\n",
        "            )(x)\n",
        "\n",
        "            x = Activation(\"relu\")(x)\n",
        "\n",
        "        if pooling == 'max':\n",
        "            x = MaxPool2D(pool_size=pool_size,\n",
        "                          strides=pool_strides,\n",
        "                          padding='same')(x)\n",
        "\n",
        "    # Apply global pooling and flattening\n",
        "    if last_pooling == \"max\":\n",
        "        x = GlobalMaxPooling2D(name=f\"lp_{last_pooling}\")(x)\n",
        "    x = Flatten(name=\"flatten\")(x)\n",
        "\n",
        "\n",
        "    # Add the output layer\n",
        "    output = Dense(7, activation='softmax', name=\"output\")(x)\n",
        "\n",
        "    # Create the model\n",
        "    model = Model(inputs=inputs, outputs=output)\n",
        "    return model\n",
        "epochs = 100"
      ],
      "metadata": {
        "id": "B_4WlAupYN7G"
      },
      "execution_count": null,
      "outputs": []
    },
    {
      "cell_type": "code",
      "source": [
        "cnn_model = cnn_builder(starting_filters=32, conv_layers=4, convs_per_layer=1, pooling='max')"
      ],
      "metadata": {
        "id": "OSARYQ9Q8hKW"
      },
      "execution_count": null,
      "outputs": []
    },
    {
      "cell_type": "code",
      "source": [
        "# Model compilation\n",
        "cnn_model.compile(optimizer=Adam(), loss=categorical_crossentropy, metrics=[\"accuracy\"])"
      ],
      "metadata": {
        "id": "s4SqDYXREafI"
      },
      "execution_count": null,
      "outputs": []
    },
    {
      "cell_type": "code",
      "source": [
        "early_stop = EarlyStopping(monitor=\"val_loss\", mode=\"min\",  patience=10, restore_best_weights=True)"
      ],
      "metadata": {
        "id": "UXRrA-Nx79Ny"
      },
      "execution_count": null,
      "outputs": []
    },
    {
      "cell_type": "code",
      "source": [
        "#train model\n",
        "cnn_model.fit(train_generator, validation_data = valid_generator, epochs = epochs, callbacks=[early_stop] )"
      ],
      "metadata": {
        "colab": {
          "base_uri": "https://localhost:8080/"
        },
        "id": "aYLrAxr58Tha",
        "outputId": "a28af5e9-8f4a-4641-8d51-43619e2c4995"
      },
      "execution_count": null,
      "outputs": [
        {
          "output_type": "stream",
          "name": "stdout",
          "text": [
            "Epoch 1/100\n",
            "461/461 [==============================] - 205s 442ms/step - loss: 0.8346 - accuracy: 0.7261 - val_loss: 0.6066 - val_accuracy: 0.8002\n",
            "Epoch 2/100\n",
            "461/461 [==============================] - 203s 440ms/step - loss: 0.4054 - accuracy: 0.8721 - val_loss: 0.3598 - val_accuracy: 0.8905\n",
            "Epoch 3/100\n",
            "461/461 [==============================] - 203s 440ms/step - loss: 0.2472 - accuracy: 0.9222 - val_loss: 0.3050 - val_accuracy: 0.9030\n",
            "Epoch 4/100\n",
            "461/461 [==============================] - 202s 438ms/step - loss: 0.1576 - accuracy: 0.9498 - val_loss: 0.3280 - val_accuracy: 0.9018\n",
            "Epoch 5/100\n",
            "461/461 [==============================] - 201s 437ms/step - loss: 0.0931 - accuracy: 0.9715 - val_loss: 0.3916 - val_accuracy: 0.9018\n",
            "Epoch 6/100\n",
            "461/461 [==============================] - 201s 436ms/step - loss: 0.0592 - accuracy: 0.9809 - val_loss: 0.4817 - val_accuracy: 0.8886\n",
            "Epoch 7/100\n",
            "461/461 [==============================] - 201s 436ms/step - loss: 0.0451 - accuracy: 0.9849 - val_loss: 0.4623 - val_accuracy: 0.8950\n",
            "Epoch 8/100\n",
            "461/461 [==============================] - 201s 436ms/step - loss: 0.0265 - accuracy: 0.9910 - val_loss: 0.5804 - val_accuracy: 0.9012\n",
            "Epoch 9/100\n",
            "461/461 [==============================] - 202s 439ms/step - loss: 0.0243 - accuracy: 0.9916 - val_loss: 0.5803 - val_accuracy: 0.9083\n",
            "Epoch 10/100\n",
            "461/461 [==============================] - 201s 435ms/step - loss: 0.0338 - accuracy: 0.9882 - val_loss: 0.5989 - val_accuracy: 0.8979\n",
            "Epoch 11/100\n",
            "461/461 [==============================] - 202s 438ms/step - loss: 0.0280 - accuracy: 0.9907 - val_loss: 0.6254 - val_accuracy: 0.9014\n",
            "Epoch 12/100\n",
            "461/461 [==============================] - 202s 437ms/step - loss: 0.0262 - accuracy: 0.9909 - val_loss: 0.7266 - val_accuracy: 0.8927\n",
            "Epoch 13/100\n",
            "461/461 [==============================] - 201s 435ms/step - loss: 0.0218 - accuracy: 0.9932 - val_loss: 0.7033 - val_accuracy: 0.8998\n"
          ]
        },
        {
          "output_type": "execute_result",
          "data": {
            "text/plain": [
              "<keras.src.callbacks.History at 0x790835386440>"
            ]
          },
          "metadata": {},
          "execution_count": 135
        }
      ]
    },
    {
      "cell_type": "markdown",
      "source": [
        "#Model Evaluation and performance check"
      ],
      "metadata": {
        "id": "p2ktM5sbY6uj"
      }
    },
    {
      "cell_type": "code",
      "source": [
        "# Evaluate the models\n",
        "model_eval = cnn_model.evaluate(test_generator)"
      ],
      "metadata": {
        "colab": {
          "base_uri": "https://localhost:8080/"
        },
        "id": "IO5U-DxNqi4Q",
        "outputId": "267d842e-21b3-4818-841a-0d5c06117e5d"
      },
      "execution_count": 26,
      "outputs": [
        {
          "output_type": "stream",
          "name": "stdout",
          "text": [
            "50/50 [==============================] - 21s 361ms/step - loss: 0.4451 - accuracy: 0.8739\n"
          ]
        }
      ]
    },
    {
      "cell_type": "code",
      "source": [
        "print(\"model Evaluation:\", '\\n')\n",
        "print(\"Loss:\", model_eval[0], '\\n')\n",
        "print(\"Accuracy:\", model_eval[1])"
      ],
      "metadata": {
        "colab": {
          "base_uri": "https://localhost:8080/"
        },
        "id": "XVBqrspQqdgq",
        "outputId": "9695d8e1-af76-4c1f-85f0-da0cf00b0d24"
      },
      "execution_count": 27,
      "outputs": [
        {
          "output_type": "stream",
          "name": "stdout",
          "text": [
            "model Evaluation: \n",
            "\n",
            "Loss: 0.44509199261665344 \n",
            "\n",
            "Accuracy: 0.8739443421363831\n"
          ]
        }
      ]
    },
    {
      "cell_type": "code",
      "source": [
        "# Make predictions on the test data\n",
        "y_pred = cnn_model.predict(test_generator)\n",
        "y_pred_classes = np.argmax(y_pred, axis=1)\n",
        "\n",
        "# Use the true labels from the test data generator\n",
        "y_true = test_generator.labels\n",
        "\n",
        "# Compute the confusion matrix\n",
        "confusion_mtx = confusion_matrix(y_true, y_pred_classes)"
      ],
      "metadata": {
        "colab": {
          "base_uri": "https://localhost:8080/"
        },
        "id": "4y8rGiPQrFN9",
        "outputId": "e99d8e09-af44-4755-8c72-94d84a3fce85"
      },
      "execution_count": 28,
      "outputs": [
        {
          "output_type": "stream",
          "name": "stdout",
          "text": [
            "50/50 [==============================] - 17s 343ms/step\n"
          ]
        }
      ]
    },
    {
      "cell_type": "code",
      "source": [
        "# Visualize the confusion matrix as a heatmap\n",
        "plt.figure(figsize=(10, 8))\n",
        "sns.heatmap(confusion_mtx, annot=True, fmt='d', cmap='Blues', xticklabels=bone_types, yticklabels=bone_types)\n",
        "plt.xlabel('Predicted')\n",
        "plt.ylabel('True')\n",
        "plt.title('Confusion Matrix')\n",
        "plt.show()"
      ],
      "metadata": {
        "colab": {
          "base_uri": "https://localhost:8080/",
          "height": 807
        },
        "id": "txgj2bMXrWVn",
        "outputId": "506a32dc-0ce7-435b-ead2-67afacadb65f"
      },
      "execution_count": 29,
      "outputs": [
        {
          "output_type": "display_data",
          "data": {
            "text/plain": [
              "<Figure size 1000x800 with 2 Axes>"
            ],
            "image/png": "[encoded data removed]"
          },
          "metadata": {}
        }
      ]
    },
    {
      "cell_type": "code",
      "source": [
        "# Print a classification report with additional metrics\n",
        "class_report = classification_report(y_true, y_pred_classes, target_names=bone_types)\n",
        "print(class_report)"
      ],
      "metadata": {
        "colab": {
          "base_uri": "https://localhost:8080/"
        },
        "id": "HxJWbQzwrjJJ",
        "outputId": "00ffc6fd-3256-4b8d-82d5-bbb6379933c8"
      },
      "execution_count": 30,
      "outputs": [
        {
          "output_type": "stream",
          "name": "stdout",
          "text": [
            "              precision    recall  f1-score   support\n",
            "\n",
            "     XR_HAND       0.85      0.86      0.86       465\n",
            "  XR_FOREARM       0.92      0.88      0.90       461\n",
            "    XR_WRIST       0.72      0.64      0.68       301\n",
            "    XR_ELBOW       0.93      0.91      0.92       460\n",
            "   XR_FINGER       0.91      0.68      0.78       288\n",
            "  XR_HUMERUS       0.88      0.98      0.93       563\n",
            " XR_SHOULDER       0.87      0.95      0.91       659\n",
            "\n",
            "    accuracy                           0.87      3197\n",
            "   macro avg       0.87      0.84      0.85      3197\n",
            "weighted avg       0.87      0.87      0.87      3197\n",
            "\n"
          ]
        }
      ]
    },
    {
      "cell_type": "markdown",
      "source": [
        "#save model"
      ],
      "metadata": {
        "id": "_RLcyyw7xUoK"
      }
    },
    {
      "cell_type": "code",
      "source": [
        "cnn_model.save('/content/drive/My Drive/Project/cnn_model_2.h5')"
      ],
      "metadata": {
        "id": "X8Mnz0txGXNp"
      },
      "execution_count": null,
      "outputs": []
    },
    {
      "cell_type": "markdown",
      "source": [],
      "metadata": {
        "id": "PpdCvzviGwEG"
      }
    }
  ]
}