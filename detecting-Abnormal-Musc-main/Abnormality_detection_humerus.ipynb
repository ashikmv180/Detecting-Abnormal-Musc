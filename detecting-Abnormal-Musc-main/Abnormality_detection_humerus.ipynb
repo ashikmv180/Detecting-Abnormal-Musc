{
  "cells": [
    {
      "cell_type": "markdown",
      "metadata": {
        "id": "BiuhtK7eYkvt"
      },
      "source": [
        "#import libraries"
      ]
    },
    {
      "cell_type": "code",
      "execution_count": null,
      "metadata": {
        "colab": {
          "base_uri": "https://localhost:8080/"
        },
        "id": "K1EZej_K7Xcr",
        "outputId": "90a658ff-7592-4bcf-af9d-3b1fcc8408e9"
      },
      "outputs": [
        {
          "name": "stdout",
          "output_type": "stream",
          "text": [
            "Collecting focal_loss\n",
            "  Downloading focal_loss-0.0.7-py3-none-any.whl (19 kB)\n",
            "Requirement already satisfied: tensorflow>=2.2 in /usr/local/lib/python3.10/dist-packages (from focal_loss) (2.14.0)\n",
            "Requirement already satisfied: absl-py>=1.0.0 in /usr/local/lib/python3.10/dist-packages (from tensorflow>=2.2->focal_loss) (1.4.0)\n",
            "Requirement already satisfied: astunparse>=1.6.0 in /usr/local/lib/python3.10/dist-packages (from tensorflow>=2.2->focal_loss) (1.6.3)\n",
            "Requirement already satisfied: flatbuffers>=23.5.26 in /usr/local/lib/python3.10/dist-packages (from tensorflow>=2.2->focal_loss) (23.5.26)\n",
            "Requirement already satisfied: gast!=0.5.0,!=0.5.1,!=0.5.2,>=0.2.1 in /usr/local/lib/python3.10/dist-packages (from tensorflow>=2.2->focal_loss) (0.5.4)\n",
            "Requirement already satisfied: google-pasta>=0.1.1 in /usr/local/lib/python3.10/dist-packages (from tensorflow>=2.2->focal_loss) (0.2.0)\n",
            "Requirement already satisfied: h5py>=2.9.0 in /usr/local/lib/python3.10/dist-packages (from tensorflow>=2.2->focal_loss) (3.9.0)\n",
            "Requirement already satisfied: libclang>=13.0.0 in /usr/local/lib/python3.10/dist-packages (from tensorflow>=2.2->focal_loss) (16.0.6)\n",
            "Requirement already satisfied: ml-dtypes==0.2.0 in /usr/local/lib/python3.10/dist-packages (from tensorflow>=2.2->focal_loss) (0.2.0)\n",
            "Requirement already satisfied: numpy>=1.23.5 in /usr/local/lib/python3.10/dist-packages (from tensorflow>=2.2->focal_loss) (1.23.5)\n",
            "Requirement already satisfied: opt-einsum>=2.3.2 in /usr/local/lib/python3.10/dist-packages (from tensorflow>=2.2->focal_loss) (3.3.0)\n",
            "Requirement already satisfied: packaging in /usr/local/lib/python3.10/dist-packages (from tensorflow>=2.2->focal_loss) (23.2)\n",
            "Requirement already satisfied: protobuf!=4.21.0,!=4.21.1,!=4.21.2,!=4.21.3,!=4.21.4,!=4.21.5,<5.0.0dev,>=3.20.3 in /usr/local/lib/python3.10/dist-packages (from tensorflow>=2.2->focal_loss) (3.20.3)\n",
            "Requirement already satisfied: setuptools in /usr/local/lib/python3.10/dist-packages (from tensorflow>=2.2->focal_loss) (67.7.2)\n",
            "Requirement already satisfied: six>=1.12.0 in /usr/local/lib/python3.10/dist-packages (from tensorflow>=2.2->focal_loss) (1.16.0)\n",
            "Requirement already satisfied: termcolor>=1.1.0 in /usr/local/lib/python3.10/dist-packages (from tensorflow>=2.2->focal_loss) (2.3.0)\n",
            "Requirement already satisfied: typing-extensions>=3.6.6 in /usr/local/lib/python3.10/dist-packages (from tensorflow>=2.2->focal_loss) (4.5.0)\n",
            "Requirement already satisfied: wrapt<1.15,>=1.11.0 in /usr/local/lib/python3.10/dist-packages (from tensorflow>=2.2->focal_loss) (1.14.1)\n",
            "Requirement already satisfied: tensorflow-io-gcs-filesystem>=0.23.1 in /usr/local/lib/python3.10/dist-packages (from tensorflow>=2.2->focal_loss) (0.34.0)\n",
            "Requirement already satisfied: grpcio<2.0,>=1.24.3 in /usr/local/lib/python3.10/dist-packages (from tensorflow>=2.2->focal_loss) (1.59.2)\n",
            "Requirement already satisfied: tensorboard<2.15,>=2.14 in /usr/local/lib/python3.10/dist-packages (from tensorflow>=2.2->focal_loss) (2.14.1)\n",
            "Requirement already satisfied: tensorflow-estimator<2.15,>=2.14.0 in /usr/local/lib/python3.10/dist-packages (from tensorflow>=2.2->focal_loss) (2.14.0)\n",
            "Requirement already satisfied: keras<2.15,>=2.14.0 in /usr/local/lib/python3.10/dist-packages (from tensorflow>=2.2->focal_loss) (2.14.0)\n",
            "Requirement already satisfied: wheel<1.0,>=0.23.0 in /usr/local/lib/python3.10/dist-packages (from astunparse>=1.6.0->tensorflow>=2.2->focal_loss) (0.41.3)\n",
            "Requirement already satisfied: google-auth<3,>=1.6.3 in /usr/local/lib/python3.10/dist-packages (from tensorboard<2.15,>=2.14->tensorflow>=2.2->focal_loss) (2.17.3)\n",
            "Requirement already satisfied: google-auth-oauthlib<1.1,>=0.5 in /usr/local/lib/python3.10/dist-packages (from tensorboard<2.15,>=2.14->tensorflow>=2.2->focal_loss) (1.0.0)\n",
            "Requirement already satisfied: markdown>=2.6.8 in /usr/local/lib/python3.10/dist-packages (from tensorboard<2.15,>=2.14->tensorflow>=2.2->focal_loss) (3.5.1)\n",
            "Requirement already satisfied: requests<3,>=2.21.0 in /usr/local/lib/python3.10/dist-packages (from tensorboard<2.15,>=2.14->tensorflow>=2.2->focal_loss) (2.31.0)\n",
            "Requirement already satisfied: tensorboard-data-server<0.8.0,>=0.7.0 in /usr/local/lib/python3.10/dist-packages (from tensorboard<2.15,>=2.14->tensorflow>=2.2->focal_loss) (0.7.2)\n",
            "Requirement already satisfied: werkzeug>=1.0.1 in /usr/local/lib/python3.10/dist-packages (from tensorboard<2.15,>=2.14->tensorflow>=2.2->focal_loss) (3.0.1)\n",
            "Requirement already satisfied: cachetools<6.0,>=2.0.0 in /usr/local/lib/python3.10/dist-packages (from google-auth<3,>=1.6.3->tensorboard<2.15,>=2.14->tensorflow>=2.2->focal_loss) (5.3.2)\n",
            "Requirement already satisfied: pyasn1-modules>=0.2.1 in /usr/local/lib/python3.10/dist-packages (from google-auth<3,>=1.6.3->tensorboard<2.15,>=2.14->tensorflow>=2.2->focal_loss) (0.3.0)\n",
            "Requirement already satisfied: rsa<5,>=3.1.4 in /usr/local/lib/python3.10/dist-packages (from google-auth<3,>=1.6.3->tensorboard<2.15,>=2.14->tensorflow>=2.2->focal_loss) (4.9)\n",
            "Requirement already satisfied: requests-oauthlib>=0.7.0 in /usr/local/lib/python3.10/dist-packages (from google-auth-oauthlib<1.1,>=0.5->tensorboard<2.15,>=2.14->tensorflow>=2.2->focal_loss) (1.3.1)\n",
            "Requirement already satisfied: charset-normalizer<4,>=2 in /usr/local/lib/python3.10/dist-packages (from requests<3,>=2.21.0->tensorboard<2.15,>=2.14->tensorflow>=2.2->focal_loss) (3.3.2)\n",
            "Requirement already satisfied: idna<4,>=2.5 in /usr/local/lib/python3.10/dist-packages (from requests<3,>=2.21.0->tensorboard<2.15,>=2.14->tensorflow>=2.2->focal_loss) (3.4)\n",
            "Requirement already satisfied: urllib3<3,>=1.21.1 in /usr/local/lib/python3.10/dist-packages (from requests<3,>=2.21.0->tensorboard<2.15,>=2.14->tensorflow>=2.2->focal_loss) (2.0.7)\n",
            "Requirement already satisfied: certifi>=2017.4.17 in /usr/local/lib/python3.10/dist-packages (from requests<3,>=2.21.0->tensorboard<2.15,>=2.14->tensorflow>=2.2->focal_loss) (2023.7.22)\n",
            "Requirement already satisfied: MarkupSafe>=2.1.1 in /usr/local/lib/python3.10/dist-packages (from werkzeug>=1.0.1->tensorboard<2.15,>=2.14->tensorflow>=2.2->focal_loss) (2.1.3)\n",
            "Requirement already satisfied: pyasn1<0.6.0,>=0.4.6 in /usr/local/lib/python3.10/dist-packages (from pyasn1-modules>=0.2.1->google-auth<3,>=1.6.3->tensorboard<2.15,>=2.14->tensorflow>=2.2->focal_loss) (0.5.0)\n",
            "Requirement already satisfied: oauthlib>=3.0.0 in /usr/local/lib/python3.10/dist-packages (from requests-oauthlib>=0.7.0->google-auth-oauthlib<1.1,>=0.5->tensorboard<2.15,>=2.14->tensorflow>=2.2->focal_loss) (3.2.2)\n",
            "Installing collected packages: focal_loss\n",
            "Successfully installed focal_loss-0.0.7\n"
          ]
        }
      ],
      "source": [
        "!pip install focal_loss"
      ]
    },
    {
      "cell_type": "code",
      "execution_count": null,
      "metadata": {
        "colab": {
          "base_uri": "https://localhost:8080/"
        },
        "id": "Ze0sRfyLdynz",
        "outputId": "23cc75a5-cf52-42c4-b7a9-d6ee2364d1c1"
      },
      "outputs": [
        {
          "name": "stdout",
          "output_type": "stream",
          "text": [
            "Drive already mounted at /content/drive; to attempt to forcibly remount, call drive.mount(\"/content/drive\", force_remount=True).\n"
          ]
        }
      ],
      "source": [
        "import os\n",
        "import pandas as pd\n",
        "from tensorflow import keras\n",
        "from tensorflow.keras.models import load_model\n",
        "from tensorflow.keras.preprocessing.image import ImageDataGenerator\n",
        "import numpy as np\n",
        "from google.colab import drive\n",
        "from tensorflow.keras.losses import binary_crossentropy\n",
        "from sklearn.metrics import f1_score, accuracy_score, precision_score, recall_score, classification_report, roc_curve, auc, confusion_matrix\n",
        "drive.mount('/content/drive')\n",
        "import matplotlib.pyplot as plt\n",
        "import seaborn as sns\n",
        "from tensorflow.keras.optimizers import Adam\n",
        "from sklearn.model_selection import train_test_split\n",
        "# Layers to be used for building our model\n",
        "from tensorflow.keras.layers import Activation, Input, Conv2D, MaxPool2D, GlobalMaxPooling2D,Flatten,Dense, Dropout\n",
        "from tensorflow.keras.models import Model\n",
        "from tensorflow.keras import Sequential\n",
        "from keras.applications.densenet import DenseNet169\n",
        "from focal_loss import BinaryFocalLoss\n",
        "from keras.callbacks import EarlyStopping, ReduceLROnPlateau, ModelCheckpoint, Callback"
      ]
    },
    {
      "cell_type": "code",
      "execution_count": null,
      "metadata": {
        "id": "R_gSbEUY7n44"
      },
      "outputs": [],
      "source": [
        "from keras.callbacks import EarlyStopping, ReduceLROnPlateau, ModelCheckpoint, Callback"
      ]
    },
    {
      "cell_type": "markdown",
      "metadata": {
        "id": "BP8JDhDX3qpm"
      },
      "source": [
        "#load train dataset for humerus"
      ]
    },
    {
      "cell_type": "code",
      "execution_count": null,
      "metadata": {
        "id": "FC1wR7hV3uWg"
      },
      "outputs": [],
      "source": [
        "#defining base path\n",
        "base_path = \"/content/drive/My Drive/Project/MURA-v1.1\"\n",
        "#construct the file path to the CSV file named \"train_image_paths.csv\" by joining the base_path and the CSV file's name using the os.path.join\n",
        "train_image_csv_path = os.path.join(base_path, \"train_image_paths.csv\")\n",
        "#will read the above csv file and save in the data frame with column name paths\n",
        "train_images_df = pd.read_csv(train_image_csv_path, names=['paths'])\n",
        "#create complete file paths for each X-ray image.\n",
        "train_images_df[\"paths\"] = \"/content/drive/My Drive/Project/\" + train_images_df[\"paths\"]\n",
        "#create new column label in the dataframe  will indicate +ve or -ve\n",
        "# If a path contains the word 'positive,' it is assigned a label of 1 (abnormal), and if not, it's assigned a label of 0 (normal).\n",
        "train_images_df['label'] = train_images_df['paths'].str.contains('positive').astype(int)\n",
        "# It extracts the seventh element (index 7) of each path after splitting the path using '/'\n",
        "train_images_df['body_part'] = train_images_df['paths'].str.split('/').str[7]\n",
        "#  'label' column was initially created as integers (0 or 1), it is now converted to strings.\n",
        "train_images_df['label'] = train_images_df['label'].astype(str)"
      ]
    },
    {
      "cell_type": "code",
      "execution_count": null,
      "metadata": {
        "id": "XtA2EwOY34UO"
      },
      "outputs": [],
      "source": [
        "train_images_df['label_index']= train_images_df.body_part"
      ]
    },
    {
      "cell_type": "code",
      "execution_count": null,
      "metadata": {
        "id": "Tup49Yd84FXP"
      },
      "outputs": [],
      "source": [
        "train_images_df.label_index.replace('XR_SHOULDER', 6, inplace=True)\n",
        "train_images_df.label_index.replace('XR_HUMERUS', 5, inplace=True)\n",
        "train_images_df.label_index.replace('XR_FINGER', 4, inplace=True)\n",
        "train_images_df.label_index.replace('XR_ELBOW', 3, inplace=True)\n",
        "train_images_df.label_index.replace('XR_WRIST', 2, inplace=True)\n",
        "train_images_df.label_index.replace('XR_FOREARM', 1, inplace=True)\n",
        "train_images_df.label_index.replace('XR_HAND', 0, inplace=True)"
      ]
    },
    {
      "cell_type": "code",
      "execution_count": null,
      "metadata": {
        "colab": {
          "base_uri": "https://localhost:8080/"
        },
        "id": "kNPNlHr54Fby",
        "outputId": "498eb28b-5ef4-4e80-f7b2-8c9a4febd57d"
      },
      "outputs": [
        {
          "data": {
            "text/html": [
              "\n",
              "  <div id=\"df-a121fea0-eea5-4906-88a2-1ef84a9abed4\" class=\"colab-df-container\">\n",
              "    <div>\n",
              "<style scoped>\n",
              "    .dataframe tbody tr th:only-of-type {\n",
              "        vertical-align: middle;\n",
              "    }\n",
              "\n",
              "    .dataframe tbody tr th {\n",
              "        vertical-align: top;\n",
              "    }\n",
              "\n",
              "    .dataframe thead th {\n",
              "        text-align: right;\n",
              "    }\n",
              "</style>\n",
              "<table border=\"1\" class=\"dataframe\">\n",
              "  <thead>\n",
              "    <tr style=\"text-align: right;\">\n",
              "      <th></th>\n",
              "      <th>paths</th>\n",
              "      <th>label</th>\n",
              "      <th>body_part</th>\n",
              "      <th>label_index</th>\n",
              "    </tr>\n",
              "  </thead>\n",
              "  <tbody>\n",
              "    <tr>\n",
              "      <th>0</th>\n",
              "      <td>/content/drive/My Drive/Project/MURA-v1.1/trai...</td>\n",
              "      <td>1</td>\n",
              "      <td>XR_SHOULDER</td>\n",
              "      <td>6</td>\n",
              "    </tr>\n",
              "    <tr>\n",
              "      <th>1</th>\n",
              "      <td>/content/drive/My Drive/Project/MURA-v1.1/trai...</td>\n",
              "      <td>1</td>\n",
              "      <td>XR_SHOULDER</td>\n",
              "      <td>6</td>\n",
              "    </tr>\n",
              "    <tr>\n",
              "      <th>2</th>\n",
              "      <td>/content/drive/My Drive/Project/MURA-v1.1/trai...</td>\n",
              "      <td>1</td>\n",
              "      <td>XR_SHOULDER</td>\n",
              "      <td>6</td>\n",
              "    </tr>\n",
              "    <tr>\n",
              "      <th>3</th>\n",
              "      <td>/content/drive/My Drive/Project/MURA-v1.1/trai...</td>\n",
              "      <td>1</td>\n",
              "      <td>XR_SHOULDER</td>\n",
              "      <td>6</td>\n",
              "    </tr>\n",
              "    <tr>\n",
              "      <th>4</th>\n",
              "      <td>/content/drive/My Drive/Project/MURA-v1.1/trai...</td>\n",
              "      <td>1</td>\n",
              "      <td>XR_SHOULDER</td>\n",
              "      <td>6</td>\n",
              "    </tr>\n",
              "    <tr>\n",
              "      <th>...</th>\n",
              "      <td>...</td>\n",
              "      <td>...</td>\n",
              "      <td>...</td>\n",
              "      <td>...</td>\n",
              "    </tr>\n",
              "    <tr>\n",
              "      <th>36803</th>\n",
              "      <td>/content/drive/My Drive/Project/MURA-v1.1/trai...</td>\n",
              "      <td>0</td>\n",
              "      <td>XR_HAND</td>\n",
              "      <td>0</td>\n",
              "    </tr>\n",
              "    <tr>\n",
              "      <th>36804</th>\n",
              "      <td>/content/drive/My Drive/Project/MURA-v1.1/trai...</td>\n",
              "      <td>0</td>\n",
              "      <td>XR_HAND</td>\n",
              "      <td>0</td>\n",
              "    </tr>\n",
              "    <tr>\n",
              "      <th>36805</th>\n",
              "      <td>/content/drive/My Drive/Project/MURA-v1.1/trai...</td>\n",
              "      <td>0</td>\n",
              "      <td>XR_HAND</td>\n",
              "      <td>0</td>\n",
              "    </tr>\n",
              "    <tr>\n",
              "      <th>36806</th>\n",
              "      <td>/content/drive/My Drive/Project/MURA-v1.1/trai...</td>\n",
              "      <td>0</td>\n",
              "      <td>XR_HAND</td>\n",
              "      <td>0</td>\n",
              "    </tr>\n",
              "    <tr>\n",
              "      <th>36807</th>\n",
              "      <td>/content/drive/My Drive/Project/MURA-v1.1/trai...</td>\n",
              "      <td>0</td>\n",
              "      <td>XR_HAND</td>\n",
              "      <td>0</td>\n",
              "    </tr>\n",
              "  </tbody>\n",
              "</table>\n",
              "<p>36808 rows × 4 columns</p>\n",
              "</div>\n",
              "    <div class=\"colab-df-buttons\">\n",
              "\n",
              "  <div class=\"colab-df-container\">\n",
              "    <button class=\"colab-df-convert\" onclick=\"convertToInteractive('df-a121fea0-eea5-4906-88a2-1ef84a9abed4')\"\n",
              "            title=\"Convert this dataframe to an interactive table.\"\n",
              "            style=\"display:none;\">\n",
              "\n",
              "  <svg xmlns=\"http://www.w3.org/2000/svg\" height=\"24px\" viewBox=\"0 -960 960 960\">\n",
              "    <path d=\"M120-120v-720h720v720H120Zm60-500h600v-160H180v160Zm220 220h160v-160H400v160Zm0 220h160v-160H400v160ZM180-400h160v-160H180v160Zm440 0h160v-160H620v160ZM180-180h160v-160H180v160Zm440 0h160v-160H620v160Z\"/>\n",
              "  </svg>\n",
              "    </button>\n",
              "\n",
              "  <style>\n",
              "    .colab-df-container {\n",
              "      display:flex;\n",
              "      gap: 12px;\n",
              "    }\n",
              "\n",
              "    .colab-df-convert {\n",
              "      background-color: #E8F0FE;\n",
              "      border: none;\n",
              "      border-radius: 50%;\n",
              "      cursor: pointer;\n",
              "      display: none;\n",
              "      fill: #1967D2;\n",
              "      height: 32px;\n",
              "      padding: 0 0 0 0;\n",
              "      width: 32px;\n",
              "    }\n",
              "\n",
              "    .colab-df-convert:hover {\n",
              "      background-color: #E2EBFA;\n",
              "      box-shadow: 0px 1px 2px rgba(60, 64, 67, 0.3), 0px 1px 3px 1px rgba(60, 64, 67, 0.15);\n",
              "      fill: #174EA6;\n",
              "    }\n",
              "\n",
              "    .colab-df-buttons div {\n",
              "      margin-bottom: 4px;\n",
              "    }\n",
              "\n",
              "    [theme=dark] .colab-df-convert {\n",
              "      background-color: #3B4455;\n",
              "      fill: #D2E3FC;\n",
              "    }\n",
              "\n",
              "    [theme=dark] .colab-df-convert:hover {\n",
              "      background-color: #434B5C;\n",
              "      box-shadow: 0px 1px 3px 1px rgba(0, 0, 0, 0.15);\n",
              "      filter: drop-shadow(0px 1px 2px rgba(0, 0, 0, 0.3));\n",
              "      fill: #FFFFFF;\n",
              "    }\n",
              "  </style>\n",
              "\n",
              "    <script>\n",
              "      const buttonEl =\n",
              "        document.querySelector('#df-a121fea0-eea5-4906-88a2-1ef84a9abed4 button.colab-df-convert');\n",
              "      buttonEl.style.display =\n",
              "        google.colab.kernel.accessAllowed ? 'block' : 'none';\n",
              "\n",
              "      async function convertToInteractive(key) {\n",
              "        const element = document.querySelector('#df-a121fea0-eea5-4906-88a2-1ef84a9abed4');\n",
              "        const dataTable =\n",
              "          await google.colab.kernel.invokeFunction('convertToInteractive',\n",
              "                                                    [key], {});\n",
              "        if (!dataTable) return;\n",
              "\n",
              "        const docLinkHtml = 'Like what you see? Visit the ' +\n",
              "          '<a target=\"_blank\" href=https://colab.research.google.com/notebooks/data_table.ipynb>data table notebook</a>'\n",
              "          + ' to learn more about interactive tables.';\n",
              "        element.innerHTML = '';\n",
              "        dataTable['output_type'] = 'display_data';\n",
              "        await google.colab.output.renderOutput(dataTable, element);\n",
              "        const docLink = document.createElement('div');\n",
              "        docLink.innerHTML = docLinkHtml;\n",
              "        element.appendChild(docLink);\n",
              "      }\n",
              "    </script>\n",
              "  </div>\n",
              "\n",
              "\n",
              "<div id=\"df-45f6b9d7-d702-4d29-81f6-ae437b0a1142\">\n",
              "  <button class=\"colab-df-quickchart\" onclick=\"quickchart('df-45f6b9d7-d702-4d29-81f6-ae437b0a1142')\"\n",
              "            title=\"Suggest charts\"\n",
              "            style=\"display:none;\">\n",
              "\n",
              "<svg xmlns=\"http://www.w3.org/2000/svg\" height=\"24px\"viewBox=\"0 0 24 24\"\n",
              "     width=\"24px\">\n",
              "    <g>\n",
              "        <path d=\"M19 3H5c-1.1 0-2 .9-2 2v14c0 1.1.9 2 2 2h14c1.1 0 2-.9 2-2V5c0-1.1-.9-2-2-2zM9 17H7v-7h2v7zm4 0h-2V7h2v10zm4 0h-2v-4h2v4z\"/>\n",
              "    </g>\n",
              "</svg>\n",
              "  </button>\n",
              "\n",
              "<style>\n",
              "  .colab-df-quickchart {\n",
              "      --bg-color: #E8F0FE;\n",
              "      --fill-color: #1967D2;\n",
              "      --hover-bg-color: #E2EBFA;\n",
              "      --hover-fill-color: #174EA6;\n",
              "      --disabled-fill-color: #AAA;\n",
              "      --disabled-bg-color: #DDD;\n",
              "  }\n",
              "\n",
              "  [theme=dark] .colab-df-quickchart {\n",
              "      --bg-color: #3B4455;\n",
              "      --fill-color: #D2E3FC;\n",
              "      --hover-bg-color: #434B5C;\n",
              "      --hover-fill-color: #FFFFFF;\n",
              "      --disabled-bg-color: #3B4455;\n",
              "      --disabled-fill-color: #666;\n",
              "  }\n",
              "\n",
              "  .colab-df-quickchart {\n",
              "    background-color: var(--bg-color);\n",
              "    border: none;\n",
              "    border-radius: 50%;\n",
              "    cursor: pointer;\n",
              "    display: none;\n",
              "    fill: var(--fill-color);\n",
              "    height: 32px;\n",
              "    padding: 0;\n",
              "    width: 32px;\n",
              "  }\n",
              "\n",
              "  .colab-df-quickchart:hover {\n",
              "    background-color: var(--hover-bg-color);\n",
              "    box-shadow: 0 1px 2px rgba(60, 64, 67, 0.3), 0 1px 3px 1px rgba(60, 64, 67, 0.15);\n",
              "    fill: var(--button-hover-fill-color);\n",
              "  }\n",
              "\n",
              "  .colab-df-quickchart-complete:disabled,\n",
              "  .colab-df-quickchart-complete:disabled:hover {\n",
              "    background-color: var(--disabled-bg-color);\n",
              "    fill: var(--disabled-fill-color);\n",
              "    box-shadow: none;\n",
              "  }\n",
              "\n",
              "  .colab-df-spinner {\n",
              "    border: 2px solid var(--fill-color);\n",
              "    border-color: transparent;\n",
              "    border-bottom-color: var(--fill-color);\n",
              "    animation:\n",
              "      spin 1s steps(1) infinite;\n",
              "  }\n",
              "\n",
              "  @keyframes spin {\n",
              "    0% {\n",
              "      border-color: transparent;\n",
              "      border-bottom-color: var(--fill-color);\n",
              "      border-left-color: var(--fill-color);\n",
              "    }\n",
              "    20% {\n",
              "      border-color: transparent;\n",
              "      border-left-color: var(--fill-color);\n",
              "      border-top-color: var(--fill-color);\n",
              "    }\n",
              "    30% {\n",
              "      border-color: transparent;\n",
              "      border-left-color: var(--fill-color);\n",
              "      border-top-color: var(--fill-color);\n",
              "      border-right-color: var(--fill-color);\n",
              "    }\n",
              "    40% {\n",
              "      border-color: transparent;\n",
              "      border-right-color: var(--fill-color);\n",
              "      border-top-color: var(--fill-color);\n",
              "    }\n",
              "    60% {\n",
              "      border-color: transparent;\n",
              "      border-right-color: var(--fill-color);\n",
              "    }\n",
              "    80% {\n",
              "      border-color: transparent;\n",
              "      border-right-color: var(--fill-color);\n",
              "      border-bottom-color: var(--fill-color);\n",
              "    }\n",
              "    90% {\n",
              "      border-color: transparent;\n",
              "      border-bottom-color: var(--fill-color);\n",
              "    }\n",
              "  }\n",
              "</style>\n",
              "\n",
              "  <script>\n",
              "    async function quickchart(key) {\n",
              "      const quickchartButtonEl =\n",
              "        document.querySelector('#' + key + ' button');\n",
              "      quickchartButtonEl.disabled = true;  // To prevent multiple clicks.\n",
              "      quickchartButtonEl.classList.add('colab-df-spinner');\n",
              "      try {\n",
              "        const charts = await google.colab.kernel.invokeFunction(\n",
              "            'suggestCharts', [key], {});\n",
              "      } catch (error) {\n",
              "        console.error('Error during call to suggestCharts:', error);\n",
              "      }\n",
              "      quickchartButtonEl.classList.remove('colab-df-spinner');\n",
              "      quickchartButtonEl.classList.add('colab-df-quickchart-complete');\n",
              "    }\n",
              "    (() => {\n",
              "      let quickchartButtonEl =\n",
              "        document.querySelector('#df-45f6b9d7-d702-4d29-81f6-ae437b0a1142 button');\n",
              "      quickchartButtonEl.style.display =\n",
              "        google.colab.kernel.accessAllowed ? 'block' : 'none';\n",
              "    })();\n",
              "  </script>\n",
              "</div>\n",
              "\n",
              "  <div id=\"id_cf60b48e-622d-43c7-8ca2-bd7dd4f7eb32\">\n",
              "    <style>\n",
              "      .colab-df-generate {\n",
              "        background-color: #E8F0FE;\n",
              "        border: none;\n",
              "        border-radius: 50%;\n",
              "        cursor: pointer;\n",
              "        display: none;\n",
              "        fill: #1967D2;\n",
              "        height: 32px;\n",
              "        padding: 0 0 0 0;\n",
              "        width: 32px;\n",
              "      }\n",
              "\n",
              "      .colab-df-generate:hover {\n",
              "        background-color: #E2EBFA;\n",
              "        box-shadow: 0px 1px 2px rgba(60, 64, 67, 0.3), 0px 1px 3px 1px rgba(60, 64, 67, 0.15);\n",
              "        fill: #174EA6;\n",
              "      }\n",
              "\n",
              "      [theme=dark] .colab-df-generate {\n",
              "        background-color: #3B4455;\n",
              "        fill: #D2E3FC;\n",
              "      }\n",
              "\n",
              "      [theme=dark] .colab-df-generate:hover {\n",
              "        background-color: #434B5C;\n",
              "        box-shadow: 0px 1px 3px 1px rgba(0, 0, 0, 0.15);\n",
              "        filter: drop-shadow(0px 1px 2px rgba(0, 0, 0, 0.3));\n",
              "        fill: #FFFFFF;\n",
              "      }\n",
              "    </style>\n",
              "    <button class=\"colab-df-generate\" onclick=\"generateWithVariable('train_images_df')\"\n",
              "            title=\"Generate code using this dataframe.\"\n",
              "            style=\"display:none;\">\n",
              "\n",
              "  <svg xmlns=\"http://www.w3.org/2000/svg\" height=\"24px\"viewBox=\"0 0 24 24\"\n",
              "       width=\"24px\">\n",
              "    <path d=\"M7,19H8.4L18.45,9,17,7.55,7,17.6ZM5,21V16.75L18.45,3.32a2,2,0,0,1,2.83,0l1.4,1.43a1.91,1.91,0,0,1,.58,1.4,1.91,1.91,0,0,1-.58,1.4L9.25,21ZM18.45,9,17,7.55Zm-12,3A5.31,5.31,0,0,0,4.9,8.1,5.31,5.31,0,0,0,1,6.5,5.31,5.31,0,0,0,4.9,4.9,5.31,5.31,0,0,0,6.5,1,5.31,5.31,0,0,0,8.1,4.9,5.31,5.31,0,0,0,12,6.5,5.46,5.46,0,0,0,6.5,12Z\"/>\n",
              "  </svg>\n",
              "    </button>\n",
              "    <script>\n",
              "      (() => {\n",
              "      const buttonEl =\n",
              "        document.querySelector('#id_cf60b48e-622d-43c7-8ca2-bd7dd4f7eb32 button.colab-df-generate');\n",
              "      buttonEl.style.display =\n",
              "        google.colab.kernel.accessAllowed ? 'block' : 'none';\n",
              "\n",
              "      buttonEl.onclick = () => {\n",
              "        google.colab.notebook.generateWithVariable('train_images_df');\n",
              "      }\n",
              "      })();\n",
              "    </script>\n",
              "  </div>\n",
              "\n",
              "    </div>\n",
              "  </div>\n"
            ],
            "text/plain": [
              "                                                   paths label    body_part  \\\n",
              "0      /content/drive/My Drive/Project/MURA-v1.1/trai...     1  XR_SHOULDER   \n",
              "1      /content/drive/My Drive/Project/MURA-v1.1/trai...     1  XR_SHOULDER   \n",
              "2      /content/drive/My Drive/Project/MURA-v1.1/trai...     1  XR_SHOULDER   \n",
              "3      /content/drive/My Drive/Project/MURA-v1.1/trai...     1  XR_SHOULDER   \n",
              "4      /content/drive/My Drive/Project/MURA-v1.1/trai...     1  XR_SHOULDER   \n",
              "...                                                  ...   ...          ...   \n",
              "36803  /content/drive/My Drive/Project/MURA-v1.1/trai...     0      XR_HAND   \n",
              "36804  /content/drive/My Drive/Project/MURA-v1.1/trai...     0      XR_HAND   \n",
              "36805  /content/drive/My Drive/Project/MURA-v1.1/trai...     0      XR_HAND   \n",
              "36806  /content/drive/My Drive/Project/MURA-v1.1/trai...     0      XR_HAND   \n",
              "36807  /content/drive/My Drive/Project/MURA-v1.1/trai...     0      XR_HAND   \n",
              "\n",
              "       label_index  \n",
              "0                6  \n",
              "1                6  \n",
              "2                6  \n",
              "3                6  \n",
              "4                6  \n",
              "...            ...  \n",
              "36803            0  \n",
              "36804            0  \n",
              "36805            0  \n",
              "36806            0  \n",
              "36807            0  \n",
              "\n",
              "[36808 rows x 4 columns]"
            ]
          },
          "execution_count": 5,
          "metadata": {},
          "output_type": "execute_result"
        }
      ],
      "source": [
        "train_images_df"
      ]
    },
    {
      "cell_type": "code",
      "execution_count": null,
      "metadata": {
        "colab": {
          "base_uri": "https://localhost:8080/"
        },
        "id": "OZ1ruT3i4JvC",
        "outputId": "c1a9aa14-69b9-439f-84a0-10b126ed4b98"
      },
      "outputs": [
        {
          "name": "stdout",
          "output_type": "stream",
          "text": [
            "<class 'pandas.core.frame.DataFrame'>\n",
            "RangeIndex: 36808 entries, 0 to 36807\n",
            "Data columns (total 4 columns):\n",
            " #   Column       Non-Null Count  Dtype \n",
            "---  ------       --------------  ----- \n",
            " 0   paths        36808 non-null  object\n",
            " 1   label        36808 non-null  object\n",
            " 2   body_part    36808 non-null  object\n",
            " 3   label_index  36808 non-null  int64 \n",
            "dtypes: int64(1), object(3)\n",
            "memory usage: 1.1+ MB\n"
          ]
        }
      ],
      "source": [
        "train_images_df.info()"
      ]
    },
    {
      "cell_type": "code",
      "execution_count": null,
      "metadata": {
        "colab": {
          "base_uri": "https://localhost:8080/"
        },
        "id": "OQauzyVU6no4",
        "outputId": "8628c2b9-03e2-4923-f7a2-acb2e8a68c6a"
      },
      "outputs": [
        {
          "data": {
            "text/plain": [
              "(36808, 4)"
            ]
          },
          "execution_count": 7,
          "metadata": {},
          "output_type": "execute_result"
        }
      ],
      "source": [
        "train_images_df.shape"
      ]
    },
    {
      "cell_type": "code",
      "execution_count": null,
      "metadata": {
        "colab": {
          "base_uri": "https://localhost:8080/"
        },
        "id": "fqEuhYmRhRdR",
        "outputId": "c1d9a906-edf2-4868-9e96-1ba1b97bfcaa"
      },
      "outputs": [
        {
          "data": {
            "image/png": "[encoded data removed]",
            "text/plain": [
              "<Figure size 640x480 with 1 Axes>"
            ]
          },
          "metadata": {},
          "output_type": "display_data"
        }
      ],
      "source": [
        "sns.countplot(data= train_images_df, y='body_part' ,  palette=\"pastel\")\n",
        "plt.title('Distribution of Body Parts')\n",
        "plt.show()"
      ]
    },
    {
      "cell_type": "code",
      "execution_count": null,
      "metadata": {
        "id": "FJcaKG6PhkXz"
      },
      "outputs": [],
      "source": [
        "train_images_df=train_images_df[train_images_df['body_part']=='XR_HUMERUS']"
      ]
    },
    {
      "cell_type": "code",
      "execution_count": null,
      "metadata": {
        "colab": {
          "base_uri": "https://localhost:8080/"
        },
        "id": "1DubVaSNhvwB",
        "outputId": "b2fe666b-933a-4273-fbdb-fbcf8b271a90"
      },
      "outputs": [
        {
          "data": {
            "text/plain": [
              "<bound method NDFrame.head of                                                   paths label   body_part  \\\n",
              "8379  /content/drive/My Drive/Project/MURA-v1.1/trai...     1  XR_HUMERUS   \n",
              "8380  /content/drive/My Drive/Project/MURA-v1.1/trai...     1  XR_HUMERUS   \n",
              "8381  /content/drive/My Drive/Project/MURA-v1.1/trai...     1  XR_HUMERUS   \n",
              "8382  /content/drive/My Drive/Project/MURA-v1.1/trai...     1  XR_HUMERUS   \n",
              "8383  /content/drive/My Drive/Project/MURA-v1.1/trai...     1  XR_HUMERUS   \n",
              "...                                                 ...   ...         ...   \n",
              "9646  /content/drive/My Drive/Project/MURA-v1.1/trai...     0  XR_HUMERUS   \n",
              "9647  /content/drive/My Drive/Project/MURA-v1.1/trai...     0  XR_HUMERUS   \n",
              "9648  /content/drive/My Drive/Project/MURA-v1.1/trai...     0  XR_HUMERUS   \n",
              "9649  /content/drive/My Drive/Project/MURA-v1.1/trai...     0  XR_HUMERUS   \n",
              "9650  /content/drive/My Drive/Project/MURA-v1.1/trai...     0  XR_HUMERUS   \n",
              "\n",
              "      label_index  \n",
              "8379            5  \n",
              "8380            5  \n",
              "8381            5  \n",
              "8382            5  \n",
              "8383            5  \n",
              "...           ...  \n",
              "9646            5  \n",
              "9647            5  \n",
              "9648            5  \n",
              "9649            5  \n",
              "9650            5  \n",
              "\n",
              "[1272 rows x 4 columns]>"
            ]
          },
          "execution_count": 10,
          "metadata": {},
          "output_type": "execute_result"
        }
      ],
      "source": [
        "train_images_df.head"
      ]
    },
    {
      "cell_type": "code",
      "execution_count": null,
      "metadata": {
        "colab": {
          "base_uri": "https://localhost:8080/"
        },
        "id": "sixNNR5aiEZK",
        "outputId": "91f61ff3-3f00-4a01-ef05-f871f1fb1432"
      },
      "outputs": [
        {
          "data": {
            "text/plain": [
              "(1272, 4)"
            ]
          },
          "execution_count": 11,
          "metadata": {},
          "output_type": "execute_result"
        }
      ],
      "source": [
        "train_images_df.shape"
      ]
    },
    {
      "cell_type": "code",
      "execution_count": null,
      "metadata": {
        "colab": {
          "base_uri": "https://localhost:8080/"
        },
        "id": "lBdJ7JEqWVcf",
        "outputId": "f1fe82cb-bfa6-4da1-bc65-03cda4ab499c"
      },
      "outputs": [
        {
          "data": {
            "image/png": "[encoded data removed]",
            "text/plain": [
              "<Figure size 1000x600 with 1 Axes>"
            ]
          },
          "metadata": {},
          "output_type": "display_data"
        }
      ],
      "source": [
        "plt.figure(figsize=(10, 6))\n",
        "sns.countplot(data= train_images_df , x='body_part', hue='label' ,  palette=\"pastel\")\n",
        "plt.title('Distribution of Body Parts with Respect to Labels')\n",
        "plt.xlabel('humerus')\n",
        "plt.ylabel('Count')\n",
        "plt.legend(title='Label', loc='lower right', labels=['Negative(0)', 'Positive(1)'])\n",
        "plt.tight_layout()\n",
        "plt.show()"
      ]
    },
    {
      "cell_type": "markdown",
      "metadata": {
        "id": "Pzvza0hlYraV"
      },
      "source": [
        "#load test dataset for humerus"
      ]
    },
    {
      "cell_type": "code",
      "execution_count": null,
      "metadata": {
        "id": "5PFO0hLnXJa3"
      },
      "outputs": [],
      "source": [
        "#defining base path\n",
        "base_path = \"/content/drive/My Drive/Project/MURA-v1.1\"\n",
        "#construct the file path to the CSV file named \"train_image_paths.csv\" by joining the base_path and the CSV file's name using the os.path.join\n",
        "test_image_csv_path = os.path.join(base_path, \"valid_image_paths.csv\")\n",
        "#will read the above csv file and save in the data frame with column name paths\n",
        "test_images_df = pd.read_csv(test_image_csv_path, names=['paths'])\n",
        "#create complete file paths for each X-ray image.\n",
        "test_images_df[\"paths\"] = \"/content/drive/My Drive/Project/\" + test_images_df[\"paths\"]\n",
        "#create new column label in the dataframe  will indicate +ve or -ve\n",
        "# If a path contains the word 'positive,' it is assigned a label of 1 (abnormal), and if not, it's assigned a label of 0 (normal).\n",
        "test_images_df['label'] = test_images_df['paths'].str.contains('positive').astype(int)\n",
        "# It extracts the seventh element (index 7) of each path after splitting the path using '/'\n",
        "test_images_df['body_part'] = test_images_df['paths'].str.split('/').str[7]\n",
        "#  'label' column was initially created as integers (0 or 1), it is now converted to strings.\n",
        "test_images_df['label'] = test_images_df['label'].astype(str)"
      ]
    },
    {
      "cell_type": "code",
      "execution_count": null,
      "metadata": {
        "id": "NX4A9za6aYbo"
      },
      "outputs": [],
      "source": [
        "test_images_df['label_index']= test_images_df.body_part"
      ]
    },
    {
      "cell_type": "code",
      "execution_count": null,
      "metadata": {
        "id": "SB1n2h0RX9e_"
      },
      "outputs": [],
      "source": [
        "test_images_df.label_index.replace('XR_SHOULDER', 6, inplace=True)\n",
        "test_images_df.label_index.replace('XR_HUMERUS', 5, inplace=True)\n",
        "test_images_df.label_index.replace('XR_FINGER', 4, inplace=True)\n",
        "test_images_df.label_index.replace('XR_ELBOW', 3, inplace=True)\n",
        "test_images_df.label_index.replace('XR_WRIST', 2, inplace=True)\n",
        "test_images_df.label_index.replace('XR_FOREARM', 1, inplace=True)\n",
        "test_images_df.label_index.replace('XR_HAND', 0, inplace=True)"
      ]
    },
    {
      "cell_type": "code",
      "execution_count": null,
      "metadata": {
        "colab": {
          "base_uri": "https://localhost:8080/",
          "height": 423
        },
        "id": "P46nXiS6YF8e",
        "outputId": "0a61474a-41b8-4b41-c51f-4bf4d4123e95"
      },
      "outputs": [
        {
          "data": {
            "text/html": [
              "\n",
              "  <div id=\"df-3d0aec7b-14e9-4423-bfa5-a90f45f9b5c4\" class=\"colab-df-container\">\n",
              "    <div>\n",
              "<style scoped>\n",
              "    .dataframe tbody tr th:only-of-type {\n",
              "        vertical-align: middle;\n",
              "    }\n",
              "\n",
              "    .dataframe tbody tr th {\n",
              "        vertical-align: top;\n",
              "    }\n",
              "\n",
              "    .dataframe thead th {\n",
              "        text-align: right;\n",
              "    }\n",
              "</style>\n",
              "<table border=\"1\" class=\"dataframe\">\n",
              "  <thead>\n",
              "    <tr style=\"text-align: right;\">\n",
              "      <th></th>\n",
              "      <th>paths</th>\n",
              "      <th>label</th>\n",
              "      <th>body_part</th>\n",
              "      <th>label_index</th>\n",
              "    </tr>\n",
              "  </thead>\n",
              "  <tbody>\n",
              "    <tr>\n",
              "      <th>0</th>\n",
              "      <td>/content/drive/My Drive/Project/MURA-v1.1/vali...</td>\n",
              "      <td>1</td>\n",
              "      <td>XR_WRIST</td>\n",
              "      <td>2</td>\n",
              "    </tr>\n",
              "    <tr>\n",
              "      <th>1</th>\n",
              "      <td>/content/drive/My Drive/Project/MURA-v1.1/vali...</td>\n",
              "      <td>1</td>\n",
              "      <td>XR_WRIST</td>\n",
              "      <td>2</td>\n",
              "    </tr>\n",
              "    <tr>\n",
              "      <th>2</th>\n",
              "      <td>/content/drive/My Drive/Project/MURA-v1.1/vali...</td>\n",
              "      <td>1</td>\n",
              "      <td>XR_WRIST</td>\n",
              "      <td>2</td>\n",
              "    </tr>\n",
              "    <tr>\n",
              "      <th>3</th>\n",
              "      <td>/content/drive/My Drive/Project/MURA-v1.1/vali...</td>\n",
              "      <td>1</td>\n",
              "      <td>XR_WRIST</td>\n",
              "      <td>2</td>\n",
              "    </tr>\n",
              "    <tr>\n",
              "      <th>4</th>\n",
              "      <td>/content/drive/My Drive/Project/MURA-v1.1/vali...</td>\n",
              "      <td>1</td>\n",
              "      <td>XR_WRIST</td>\n",
              "      <td>2</td>\n",
              "    </tr>\n",
              "    <tr>\n",
              "      <th>...</th>\n",
              "      <td>...</td>\n",
              "      <td>...</td>\n",
              "      <td>...</td>\n",
              "      <td>...</td>\n",
              "    </tr>\n",
              "    <tr>\n",
              "      <th>3192</th>\n",
              "      <td>/content/drive/My Drive/Project/MURA-v1.1/vali...</td>\n",
              "      <td>0</td>\n",
              "      <td>XR_FINGER</td>\n",
              "      <td>4</td>\n",
              "    </tr>\n",
              "    <tr>\n",
              "      <th>3193</th>\n",
              "      <td>/content/drive/My Drive/Project/MURA-v1.1/vali...</td>\n",
              "      <td>0</td>\n",
              "      <td>XR_FINGER</td>\n",
              "      <td>4</td>\n",
              "    </tr>\n",
              "    <tr>\n",
              "      <th>3194</th>\n",
              "      <td>/content/drive/My Drive/Project/MURA-v1.1/vali...</td>\n",
              "      <td>0</td>\n",
              "      <td>XR_FINGER</td>\n",
              "      <td>4</td>\n",
              "    </tr>\n",
              "    <tr>\n",
              "      <th>3195</th>\n",
              "      <td>/content/drive/My Drive/Project/MURA-v1.1/vali...</td>\n",
              "      <td>0</td>\n",
              "      <td>XR_FINGER</td>\n",
              "      <td>4</td>\n",
              "    </tr>\n",
              "    <tr>\n",
              "      <th>3196</th>\n",
              "      <td>/content/drive/My Drive/Project/MURA-v1.1/vali...</td>\n",
              "      <td>0</td>\n",
              "      <td>XR_FINGER</td>\n",
              "      <td>4</td>\n",
              "    </tr>\n",
              "  </tbody>\n",
              "</table>\n",
              "<p>3197 rows × 4 columns</p>\n",
              "</div>\n",
              "    <div class=\"colab-df-buttons\">\n",
              "\n",
              "  <div class=\"colab-df-container\">\n",
              "    <button class=\"colab-df-convert\" onclick=\"convertToInteractive('df-3d0aec7b-14e9-4423-bfa5-a90f45f9b5c4')\"\n",
              "            title=\"Convert this dataframe to an interactive table.\"\n",
              "            style=\"display:none;\">\n",
              "\n",
              "  <svg xmlns=\"http://www.w3.org/2000/svg\" height=\"24px\" viewBox=\"0 -960 960 960\">\n",
              "    <path d=\"M120-120v-720h720v720H120Zm60-500h600v-160H180v160Zm220 220h160v-160H400v160Zm0 220h160v-160H400v160ZM180-400h160v-160H180v160Zm440 0h160v-160H620v160ZM180-180h160v-160H180v160Zm440 0h160v-160H620v160Z\"/>\n",
              "  </svg>\n",
              "    </button>\n",
              "\n",
              "  <style>\n",
              "    .colab-df-container {\n",
              "      display:flex;\n",
              "      gap: 12px;\n",
              "    }\n",
              "\n",
              "    .colab-df-convert {\n",
              "      background-color: #E8F0FE;\n",
              "      border: none;\n",
              "      border-radius: 50%;\n",
              "      cursor: pointer;\n",
              "      display: none;\n",
              "      fill: #1967D2;\n",
              "      height: 32px;\n",
              "      padding: 0 0 0 0;\n",
              "      width: 32px;\n",
              "    }\n",
              "\n",
              "    .colab-df-convert:hover {\n",
              "      background-color: #E2EBFA;\n",
              "      box-shadow: 0px 1px 2px rgba(60, 64, 67, 0.3), 0px 1px 3px 1px rgba(60, 64, 67, 0.15);\n",
              "      fill: #174EA6;\n",
              "    }\n",
              "\n",
              "    .colab-df-buttons div {\n",
              "      margin-bottom: 4px;\n",
              "    }\n",
              "\n",
              "    [theme=dark] .colab-df-convert {\n",
              "      background-color: #3B4455;\n",
              "      fill: #D2E3FC;\n",
              "    }\n",
              "\n",
              "    [theme=dark] .colab-df-convert:hover {\n",
              "      background-color: #434B5C;\n",
              "      box-shadow: 0px 1px 3px 1px rgba(0, 0, 0, 0.15);\n",
              "      filter: drop-shadow(0px 1px 2px rgba(0, 0, 0, 0.3));\n",
              "      fill: #FFFFFF;\n",
              "    }\n",
              "  </style>\n",
              "\n",
              "    <script>\n",
              "      const buttonEl =\n",
              "        document.querySelector('#df-3d0aec7b-14e9-4423-bfa5-a90f45f9b5c4 button.colab-df-convert');\n",
              "      buttonEl.style.display =\n",
              "        google.colab.kernel.accessAllowed ? 'block' : 'none';\n",
              "\n",
              "      async function convertToInteractive(key) {\n",
              "        const element = document.querySelector('#df-3d0aec7b-14e9-4423-bfa5-a90f45f9b5c4');\n",
              "        const dataTable =\n",
              "          await google.colab.kernel.invokeFunction('convertToInteractive',\n",
              "                                                    [key], {});\n",
              "        if (!dataTable) return;\n",
              "\n",
              "        const docLinkHtml = 'Like what you see? Visit the ' +\n",
              "          '<a target=\"_blank\" href=https://colab.research.google.com/notebooks/data_table.ipynb>data table notebook</a>'\n",
              "          + ' to learn more about interactive tables.';\n",
              "        element.innerHTML = '';\n",
              "        dataTable['output_type'] = 'display_data';\n",
              "        await google.colab.output.renderOutput(dataTable, element);\n",
              "        const docLink = document.createElement('div');\n",
              "        docLink.innerHTML = docLinkHtml;\n",
              "        element.appendChild(docLink);\n",
              "      }\n",
              "    </script>\n",
              "  </div>\n",
              "\n",
              "\n",
              "<div id=\"df-c9027f6d-2f76-43c1-9b61-0b4120a67243\">\n",
              "  <button class=\"colab-df-quickchart\" onclick=\"quickchart('df-c9027f6d-2f76-43c1-9b61-0b4120a67243')\"\n",
              "            title=\"Suggest charts\"\n",
              "            style=\"display:none;\">\n",
              "\n",
              "<svg xmlns=\"http://www.w3.org/2000/svg\" height=\"24px\"viewBox=\"0 0 24 24\"\n",
              "     width=\"24px\">\n",
              "    <g>\n",
              "        <path d=\"M19 3H5c-1.1 0-2 .9-2 2v14c0 1.1.9 2 2 2h14c1.1 0 2-.9 2-2V5c0-1.1-.9-2-2-2zM9 17H7v-7h2v7zm4 0h-2V7h2v10zm4 0h-2v-4h2v4z\"/>\n",
              "    </g>\n",
              "</svg>\n",
              "  </button>\n",
              "\n",
              "<style>\n",
              "  .colab-df-quickchart {\n",
              "      --bg-color: #E8F0FE;\n",
              "      --fill-color: #1967D2;\n",
              "      --hover-bg-color: #E2EBFA;\n",
              "      --hover-fill-color: #174EA6;\n",
              "      --disabled-fill-color: #AAA;\n",
              "      --disabled-bg-color: #DDD;\n",
              "  }\n",
              "\n",
              "  [theme=dark] .colab-df-quickchart {\n",
              "      --bg-color: #3B4455;\n",
              "      --fill-color: #D2E3FC;\n",
              "      --hover-bg-color: #434B5C;\n",
              "      --hover-fill-color: #FFFFFF;\n",
              "      --disabled-bg-color: #3B4455;\n",
              "      --disabled-fill-color: #666;\n",
              "  }\n",
              "\n",
              "  .colab-df-quickchart {\n",
              "    background-color: var(--bg-color);\n",
              "    border: none;\n",
              "    border-radius: 50%;\n",
              "    cursor: pointer;\n",
              "    display: none;\n",
              "    fill: var(--fill-color);\n",
              "    height: 32px;\n",
              "    padding: 0;\n",
              "    width: 32px;\n",
              "  }\n",
              "\n",
              "  .colab-df-quickchart:hover {\n",
              "    background-color: var(--hover-bg-color);\n",
              "    box-shadow: 0 1px 2px rgba(60, 64, 67, 0.3), 0 1px 3px 1px rgba(60, 64, 67, 0.15);\n",
              "    fill: var(--button-hover-fill-color);\n",
              "  }\n",
              "\n",
              "  .colab-df-quickchart-complete:disabled,\n",
              "  .colab-df-quickchart-complete:disabled:hover {\n",
              "    background-color: var(--disabled-bg-color);\n",
              "    fill: var(--disabled-fill-color);\n",
              "    box-shadow: none;\n",
              "  }\n",
              "\n",
              "  .colab-df-spinner {\n",
              "    border: 2px solid var(--fill-color);\n",
              "    border-color: transparent;\n",
              "    border-bottom-color: var(--fill-color);\n",
              "    animation:\n",
              "      spin 1s steps(1) infinite;\n",
              "  }\n",
              "\n",
              "  @keyframes spin {\n",
              "    0% {\n",
              "      border-color: transparent;\n",
              "      border-bottom-color: var(--fill-color);\n",
              "      border-left-color: var(--fill-color);\n",
              "    }\n",
              "    20% {\n",
              "      border-color: transparent;\n",
              "      border-left-color: var(--fill-color);\n",
              "      border-top-color: var(--fill-color);\n",
              "    }\n",
              "    30% {\n",
              "      border-color: transparent;\n",
              "      border-left-color: var(--fill-color);\n",
              "      border-top-color: var(--fill-color);\n",
              "      border-right-color: var(--fill-color);\n",
              "    }\n",
              "    40% {\n",
              "      border-color: transparent;\n",
              "      border-right-color: var(--fill-color);\n",
              "      border-top-color: var(--fill-color);\n",
              "    }\n",
              "    60% {\n",
              "      border-color: transparent;\n",
              "      border-right-color: var(--fill-color);\n",
              "    }\n",
              "    80% {\n",
              "      border-color: transparent;\n",
              "      border-right-color: var(--fill-color);\n",
              "      border-bottom-color: var(--fill-color);\n",
              "    }\n",
              "    90% {\n",
              "      border-color: transparent;\n",
              "      border-bottom-color: var(--fill-color);\n",
              "    }\n",
              "  }\n",
              "</style>\n",
              "\n",
              "  <script>\n",
              "    async function quickchart(key) {\n",
              "      const quickchartButtonEl =\n",
              "        document.querySelector('#' + key + ' button');\n",
              "      quickchartButtonEl.disabled = true;  // To prevent multiple clicks.\n",
              "      quickchartButtonEl.classList.add('colab-df-spinner');\n",
              "      try {\n",
              "        const charts = await google.colab.kernel.invokeFunction(\n",
              "            'suggestCharts', [key], {});\n",
              "      } catch (error) {\n",
              "        console.error('Error during call to suggestCharts:', error);\n",
              "      }\n",
              "      quickchartButtonEl.classList.remove('colab-df-spinner');\n",
              "      quickchartButtonEl.classList.add('colab-df-quickchart-complete');\n",
              "    }\n",
              "    (() => {\n",
              "      let quickchartButtonEl =\n",
              "        document.querySelector('#df-c9027f6d-2f76-43c1-9b61-0b4120a67243 button');\n",
              "      quickchartButtonEl.style.display =\n",
              "        google.colab.kernel.accessAllowed ? 'block' : 'none';\n",
              "    })();\n",
              "  </script>\n",
              "</div>\n",
              "\n",
              "  <div id=\"id_2de4f081-6759-4538-8e8b-6e6273fa9506\">\n",
              "    <style>\n",
              "      .colab-df-generate {\n",
              "        background-color: #E8F0FE;\n",
              "        border: none;\n",
              "        border-radius: 50%;\n",
              "        cursor: pointer;\n",
              "        display: none;\n",
              "        fill: #1967D2;\n",
              "        height: 32px;\n",
              "        padding: 0 0 0 0;\n",
              "        width: 32px;\n",
              "      }\n",
              "\n",
              "      .colab-df-generate:hover {\n",
              "        background-color: #E2EBFA;\n",
              "        box-shadow: 0px 1px 2px rgba(60, 64, 67, 0.3), 0px 1px 3px 1px rgba(60, 64, 67, 0.15);\n",
              "        fill: #174EA6;\n",
              "      }\n",
              "\n",
              "      [theme=dark] .colab-df-generate {\n",
              "        background-color: #3B4455;\n",
              "        fill: #D2E3FC;\n",
              "      }\n",
              "\n",
              "      [theme=dark] .colab-df-generate:hover {\n",
              "        background-color: #434B5C;\n",
              "        box-shadow: 0px 1px 3px 1px rgba(0, 0, 0, 0.15);\n",
              "        filter: drop-shadow(0px 1px 2px rgba(0, 0, 0, 0.3));\n",
              "        fill: #FFFFFF;\n",
              "      }\n",
              "    </style>\n",
              "    <button class=\"colab-df-generate\" onclick=\"generateWithVariable('test_images_df')\"\n",
              "            title=\"Generate code using this dataframe.\"\n",
              "            style=\"display:none;\">\n",
              "\n",
              "  <svg xmlns=\"http://www.w3.org/2000/svg\" height=\"24px\"viewBox=\"0 0 24 24\"\n",
              "       width=\"24px\">\n",
              "    <path d=\"M7,19H8.4L18.45,9,17,7.55,7,17.6ZM5,21V16.75L18.45,3.32a2,2,0,0,1,2.83,0l1.4,1.43a1.91,1.91,0,0,1,.58,1.4,1.91,1.91,0,0,1-.58,1.4L9.25,21ZM18.45,9,17,7.55Zm-12,3A5.31,5.31,0,0,0,4.9,8.1,5.31,5.31,0,0,0,1,6.5,5.31,5.31,0,0,0,4.9,4.9,5.31,5.31,0,0,0,6.5,1,5.31,5.31,0,0,0,8.1,4.9,5.31,5.31,0,0,0,12,6.5,5.46,5.46,0,0,0,6.5,12Z\"/>\n",
              "  </svg>\n",
              "    </button>\n",
              "    <script>\n",
              "      (() => {\n",
              "      const buttonEl =\n",
              "        document.querySelector('#id_2de4f081-6759-4538-8e8b-6e6273fa9506 button.colab-df-generate');\n",
              "      buttonEl.style.display =\n",
              "        google.colab.kernel.accessAllowed ? 'block' : 'none';\n",
              "\n",
              "      buttonEl.onclick = () => {\n",
              "        google.colab.notebook.generateWithVariable('test_images_df');\n",
              "      }\n",
              "      })();\n",
              "    </script>\n",
              "  </div>\n",
              "\n",
              "    </div>\n",
              "  </div>\n"
            ],
            "text/plain": [
              "                                                  paths label  body_part  \\\n",
              "0     /content/drive/My Drive/Project/MURA-v1.1/vali...     1   XR_WRIST   \n",
              "1     /content/drive/My Drive/Project/MURA-v1.1/vali...     1   XR_WRIST   \n",
              "2     /content/drive/My Drive/Project/MURA-v1.1/vali...     1   XR_WRIST   \n",
              "3     /content/drive/My Drive/Project/MURA-v1.1/vali...     1   XR_WRIST   \n",
              "4     /content/drive/My Drive/Project/MURA-v1.1/vali...     1   XR_WRIST   \n",
              "...                                                 ...   ...        ...   \n",
              "3192  /content/drive/My Drive/Project/MURA-v1.1/vali...     0  XR_FINGER   \n",
              "3193  /content/drive/My Drive/Project/MURA-v1.1/vali...     0  XR_FINGER   \n",
              "3194  /content/drive/My Drive/Project/MURA-v1.1/vali...     0  XR_FINGER   \n",
              "3195  /content/drive/My Drive/Project/MURA-v1.1/vali...     0  XR_FINGER   \n",
              "3196  /content/drive/My Drive/Project/MURA-v1.1/vali...     0  XR_FINGER   \n",
              "\n",
              "      label_index  \n",
              "0               2  \n",
              "1               2  \n",
              "2               2  \n",
              "3               2  \n",
              "4               2  \n",
              "...           ...  \n",
              "3192            4  \n",
              "3193            4  \n",
              "3194            4  \n",
              "3195            4  \n",
              "3196            4  \n",
              "\n",
              "[3197 rows x 4 columns]"
            ]
          },
          "execution_count": 16,
          "metadata": {},
          "output_type": "execute_result"
        }
      ],
      "source": [
        "test_images_df"
      ]
    },
    {
      "cell_type": "code",
      "execution_count": null,
      "metadata": {
        "colab": {
          "base_uri": "https://localhost:8080/"
        },
        "id": "1bg5RqmDbKRg",
        "outputId": "37742bf8-5314-4379-fecf-63e4ea2f6bda"
      },
      "outputs": [
        {
          "name": "stdout",
          "output_type": "stream",
          "text": [
            "<class 'pandas.core.frame.DataFrame'>\n",
            "RangeIndex: 3197 entries, 0 to 3196\n",
            "Data columns (total 4 columns):\n",
            " #   Column       Non-Null Count  Dtype \n",
            "---  ------       --------------  ----- \n",
            " 0   paths        3197 non-null   object\n",
            " 1   label        3197 non-null   object\n",
            " 2   body_part    3197 non-null   object\n",
            " 3   label_index  3197 non-null   int64 \n",
            "dtypes: int64(1), object(3)\n",
            "memory usage: 100.0+ KB\n"
          ]
        }
      ],
      "source": [
        "test_images_df.info()"
      ]
    },
    {
      "cell_type": "code",
      "execution_count": null,
      "metadata": {
        "colab": {
          "base_uri": "https://localhost:8080/"
        },
        "id": "VNZTOiYB6Lsn",
        "outputId": "d6165c5a-d71b-46c2-ac87-af2ad1a699a7"
      },
      "outputs": [
        {
          "data": {
            "text/plain": [
              "(3197, 4)"
            ]
          },
          "execution_count": 18,
          "metadata": {},
          "output_type": "execute_result"
        }
      ],
      "source": [
        "test_images_df.shape"
      ]
    },
    {
      "cell_type": "code",
      "execution_count": null,
      "metadata": {
        "colab": {
          "base_uri": "https://localhost:8080/",
          "height": 472
        },
        "id": "kJULXM51g6vI",
        "outputId": "adf551ed-1180-4aea-a2df-0713e0696158"
      },
      "outputs": [
        {
          "data": {
            "image/png": "[encoded data removed]",
            "text/plain": [
              "<Figure size 640x480 with 1 Axes>"
            ]
          },
          "metadata": {},
          "output_type": "display_data"
        }
      ],
      "source": [
        "sns.countplot(data= test_images_df, y='body_part' ,  palette=\"pastel\")\n",
        "plt.title('Distribution of Body Parts')\n",
        "plt.show()"
      ]
    },
    {
      "cell_type": "code",
      "execution_count": null,
      "metadata": {
        "id": "f4T2OgD6idgh"
      },
      "outputs": [],
      "source": [
        "test_images_df=test_images_df[test_images_df['body_part']=='XR_HUMERUS']"
      ]
    },
    {
      "cell_type": "code",
      "execution_count": null,
      "metadata": {
        "colab": {
          "base_uri": "https://localhost:8080/",
          "height": 206
        },
        "id": "C0hD4sHliieM",
        "outputId": "928cfcb4-f6c6-4d9a-a8a5-9b93c7ec74cd"
      },
      "outputs": [
        {
          "data": {
            "text/html": [
              "\n",
              "  <div id=\"df-73b2310b-32a6-4724-a61b-2afe67dc9366\" class=\"colab-df-container\">\n",
              "    <div>\n",
              "<style scoped>\n",
              "    .dataframe tbody tr th:only-of-type {\n",
              "        vertical-align: middle;\n",
              "    }\n",
              "\n",
              "    .dataframe tbody tr th {\n",
              "        vertical-align: top;\n",
              "    }\n",
              "\n",
              "    .dataframe thead th {\n",
              "        text-align: right;\n",
              "    }\n",
              "</style>\n",
              "<table border=\"1\" class=\"dataframe\">\n",
              "  <thead>\n",
              "    <tr style=\"text-align: right;\">\n",
              "      <th></th>\n",
              "      <th>paths</th>\n",
              "      <th>label</th>\n",
              "      <th>body_part</th>\n",
              "      <th>label_index</th>\n",
              "    </tr>\n",
              "  </thead>\n",
              "  <tbody>\n",
              "    <tr>\n",
              "      <th>1420</th>\n",
              "      <td>/content/drive/My Drive/Project/MURA-v1.1/vali...</td>\n",
              "      <td>1</td>\n",
              "      <td>XR_HUMERUS</td>\n",
              "      <td>5</td>\n",
              "    </tr>\n",
              "    <tr>\n",
              "      <th>1421</th>\n",
              "      <td>/content/drive/My Drive/Project/MURA-v1.1/vali...</td>\n",
              "      <td>1</td>\n",
              "      <td>XR_HUMERUS</td>\n",
              "      <td>5</td>\n",
              "    </tr>\n",
              "    <tr>\n",
              "      <th>1422</th>\n",
              "      <td>/content/drive/My Drive/Project/MURA-v1.1/vali...</td>\n",
              "      <td>1</td>\n",
              "      <td>XR_HUMERUS</td>\n",
              "      <td>5</td>\n",
              "    </tr>\n",
              "    <tr>\n",
              "      <th>1423</th>\n",
              "      <td>/content/drive/My Drive/Project/MURA-v1.1/vali...</td>\n",
              "      <td>1</td>\n",
              "      <td>XR_HUMERUS</td>\n",
              "      <td>5</td>\n",
              "    </tr>\n",
              "    <tr>\n",
              "      <th>1424</th>\n",
              "      <td>/content/drive/My Drive/Project/MURA-v1.1/vali...</td>\n",
              "      <td>1</td>\n",
              "      <td>XR_HUMERUS</td>\n",
              "      <td>5</td>\n",
              "    </tr>\n",
              "  </tbody>\n",
              "</table>\n",
              "</div>\n",
              "    <div class=\"colab-df-buttons\">\n",
              "\n",
              "  <div class=\"colab-df-container\">\n",
              "    <button class=\"colab-df-convert\" onclick=\"convertToInteractive('df-73b2310b-32a6-4724-a61b-2afe67dc9366')\"\n",
              "            title=\"Convert this dataframe to an interactive table.\"\n",
              "            style=\"display:none;\">\n",
              "\n",
              "  <svg xmlns=\"http://www.w3.org/2000/svg\" height=\"24px\" viewBox=\"0 -960 960 960\">\n",
              "    <path d=\"M120-120v-720h720v720H120Zm60-500h600v-160H180v160Zm220 220h160v-160H400v160Zm0 220h160v-160H400v160ZM180-400h160v-160H180v160Zm440 0h160v-160H620v160ZM180-180h160v-160H180v160Zm440 0h160v-160H620v160Z\"/>\n",
              "  </svg>\n",
              "    </button>\n",
              "\n",
              "  <style>\n",
              "    .colab-df-container {\n",
              "      display:flex;\n",
              "      gap: 12px;\n",
              "    }\n",
              "\n",
              "    .colab-df-convert {\n",
              "      background-color: #E8F0FE;\n",
              "      border: none;\n",
              "      border-radius: 50%;\n",
              "      cursor: pointer;\n",
              "      display: none;\n",
              "      fill: #1967D2;\n",
              "      height: 32px;\n",
              "      padding: 0 0 0 0;\n",
              "      width: 32px;\n",
              "    }\n",
              "\n",
              "    .colab-df-convert:hover {\n",
              "      background-color: #E2EBFA;\n",
              "      box-shadow: 0px 1px 2px rgba(60, 64, 67, 0.3), 0px 1px 3px 1px rgba(60, 64, 67, 0.15);\n",
              "      fill: #174EA6;\n",
              "    }\n",
              "\n",
              "    .colab-df-buttons div {\n",
              "      margin-bottom: 4px;\n",
              "    }\n",
              "\n",
              "    [theme=dark] .colab-df-convert {\n",
              "      background-color: #3B4455;\n",
              "      fill: #D2E3FC;\n",
              "    }\n",
              "\n",
              "    [theme=dark] .colab-df-convert:hover {\n",
              "      background-color: #434B5C;\n",
              "      box-shadow: 0px 1px 3px 1px rgba(0, 0, 0, 0.15);\n",
              "      filter: drop-shadow(0px 1px 2px rgba(0, 0, 0, 0.3));\n",
              "      fill: #FFFFFF;\n",
              "    }\n",
              "  </style>\n",
              "\n",
              "    <script>\n",
              "      const buttonEl =\n",
              "        document.querySelector('#df-73b2310b-32a6-4724-a61b-2afe67dc9366 button.colab-df-convert');\n",
              "      buttonEl.style.display =\n",
              "        google.colab.kernel.accessAllowed ? 'block' : 'none';\n",
              "\n",
              "      async function convertToInteractive(key) {\n",
              "        const element = document.querySelector('#df-73b2310b-32a6-4724-a61b-2afe67dc9366');\n",
              "        const dataTable =\n",
              "          await google.colab.kernel.invokeFunction('convertToInteractive',\n",
              "                                                    [key], {});\n",
              "        if (!dataTable) return;\n",
              "\n",
              "        const docLinkHtml = 'Like what you see? Visit the ' +\n",
              "          '<a target=\"_blank\" href=https://colab.research.google.com/notebooks/data_table.ipynb>data table notebook</a>'\n",
              "          + ' to learn more about interactive tables.';\n",
              "        element.innerHTML = '';\n",
              "        dataTable['output_type'] = 'display_data';\n",
              "        await google.colab.output.renderOutput(dataTable, element);\n",
              "        const docLink = document.createElement('div');\n",
              "        docLink.innerHTML = docLinkHtml;\n",
              "        element.appendChild(docLink);\n",
              "      }\n",
              "    </script>\n",
              "  </div>\n",
              "\n",
              "\n",
              "<div id=\"df-057c46ef-fe42-46e6-9932-af46990f4e4e\">\n",
              "  <button class=\"colab-df-quickchart\" onclick=\"quickchart('df-057c46ef-fe42-46e6-9932-af46990f4e4e')\"\n",
              "            title=\"Suggest charts\"\n",
              "            style=\"display:none;\">\n",
              "\n",
              "<svg xmlns=\"http://www.w3.org/2000/svg\" height=\"24px\"viewBox=\"0 0 24 24\"\n",
              "     width=\"24px\">\n",
              "    <g>\n",
              "        <path d=\"M19 3H5c-1.1 0-2 .9-2 2v14c0 1.1.9 2 2 2h14c1.1 0 2-.9 2-2V5c0-1.1-.9-2-2-2zM9 17H7v-7h2v7zm4 0h-2V7h2v10zm4 0h-2v-4h2v4z\"/>\n",
              "    </g>\n",
              "</svg>\n",
              "  </button>\n",
              "\n",
              "<style>\n",
              "  .colab-df-quickchart {\n",
              "      --bg-color: #E8F0FE;\n",
              "      --fill-color: #1967D2;\n",
              "      --hover-bg-color: #E2EBFA;\n",
              "      --hover-fill-color: #174EA6;\n",
              "      --disabled-fill-color: #AAA;\n",
              "      --disabled-bg-color: #DDD;\n",
              "  }\n",
              "\n",
              "  [theme=dark] .colab-df-quickchart {\n",
              "      --bg-color: #3B4455;\n",
              "      --fill-color: #D2E3FC;\n",
              "      --hover-bg-color: #434B5C;\n",
              "      --hover-fill-color: #FFFFFF;\n",
              "      --disabled-bg-color: #3B4455;\n",
              "      --disabled-fill-color: #666;\n",
              "  }\n",
              "\n",
              "  .colab-df-quickchart {\n",
              "    background-color: var(--bg-color);\n",
              "    border: none;\n",
              "    border-radius: 50%;\n",
              "    cursor: pointer;\n",
              "    display: none;\n",
              "    fill: var(--fill-color);\n",
              "    height: 32px;\n",
              "    padding: 0;\n",
              "    width: 32px;\n",
              "  }\n",
              "\n",
              "  .colab-df-quickchart:hover {\n",
              "    background-color: var(--hover-bg-color);\n",
              "    box-shadow: 0 1px 2px rgba(60, 64, 67, 0.3), 0 1px 3px 1px rgba(60, 64, 67, 0.15);\n",
              "    fill: var(--button-hover-fill-color);\n",
              "  }\n",
              "\n",
              "  .colab-df-quickchart-complete:disabled,\n",
              "  .colab-df-quickchart-complete:disabled:hover {\n",
              "    background-color: var(--disabled-bg-color);\n",
              "    fill: var(--disabled-fill-color);\n",
              "    box-shadow: none;\n",
              "  }\n",
              "\n",
              "  .colab-df-spinner {\n",
              "    border: 2px solid var(--fill-color);\n",
              "    border-color: transparent;\n",
              "    border-bottom-color: var(--fill-color);\n",
              "    animation:\n",
              "      spin 1s steps(1) infinite;\n",
              "  }\n",
              "\n",
              "  @keyframes spin {\n",
              "    0% {\n",
              "      border-color: transparent;\n",
              "      border-bottom-color: var(--fill-color);\n",
              "      border-left-color: var(--fill-color);\n",
              "    }\n",
              "    20% {\n",
              "      border-color: transparent;\n",
              "      border-left-color: var(--fill-color);\n",
              "      border-top-color: var(--fill-color);\n",
              "    }\n",
              "    30% {\n",
              "      border-color: transparent;\n",
              "      border-left-color: var(--fill-color);\n",
              "      border-top-color: var(--fill-color);\n",
              "      border-right-color: var(--fill-color);\n",
              "    }\n",
              "    40% {\n",
              "      border-color: transparent;\n",
              "      border-right-color: var(--fill-color);\n",
              "      border-top-color: var(--fill-color);\n",
              "    }\n",
              "    60% {\n",
              "      border-color: transparent;\n",
              "      border-right-color: var(--fill-color);\n",
              "    }\n",
              "    80% {\n",
              "      border-color: transparent;\n",
              "      border-right-color: var(--fill-color);\n",
              "      border-bottom-color: var(--fill-color);\n",
              "    }\n",
              "    90% {\n",
              "      border-color: transparent;\n",
              "      border-bottom-color: var(--fill-color);\n",
              "    }\n",
              "  }\n",
              "</style>\n",
              "\n",
              "  <script>\n",
              "    async function quickchart(key) {\n",
              "      const quickchartButtonEl =\n",
              "        document.querySelector('#' + key + ' button');\n",
              "      quickchartButtonEl.disabled = true;  // To prevent multiple clicks.\n",
              "      quickchartButtonEl.classList.add('colab-df-spinner');\n",
              "      try {\n",
              "        const charts = await google.colab.kernel.invokeFunction(\n",
              "            'suggestCharts', [key], {});\n",
              "      } catch (error) {\n",
              "        console.error('Error during call to suggestCharts:', error);\n",
              "      }\n",
              "      quickchartButtonEl.classList.remove('colab-df-spinner');\n",
              "      quickchartButtonEl.classList.add('colab-df-quickchart-complete');\n",
              "    }\n",
              "    (() => {\n",
              "      let quickchartButtonEl =\n",
              "        document.querySelector('#df-057c46ef-fe42-46e6-9932-af46990f4e4e button');\n",
              "      quickchartButtonEl.style.display =\n",
              "        google.colab.kernel.accessAllowed ? 'block' : 'none';\n",
              "    })();\n",
              "  </script>\n",
              "</div>\n",
              "\n",
              "    </div>\n",
              "  </div>\n"
            ],
            "text/plain": [
              "                                                  paths label   body_part  \\\n",
              "1420  /content/drive/My Drive/Project/MURA-v1.1/vali...     1  XR_HUMERUS   \n",
              "1421  /content/drive/My Drive/Project/MURA-v1.1/vali...     1  XR_HUMERUS   \n",
              "1422  /content/drive/My Drive/Project/MURA-v1.1/vali...     1  XR_HUMERUS   \n",
              "1423  /content/drive/My Drive/Project/MURA-v1.1/vali...     1  XR_HUMERUS   \n",
              "1424  /content/drive/My Drive/Project/MURA-v1.1/vali...     1  XR_HUMERUS   \n",
              "\n",
              "      label_index  \n",
              "1420            5  \n",
              "1421            5  \n",
              "1422            5  \n",
              "1423            5  \n",
              "1424            5  "
            ]
          },
          "execution_count": 21,
          "metadata": {},
          "output_type": "execute_result"
        }
      ],
      "source": [
        "test_images_df.head()"
      ]
    },
    {
      "cell_type": "code",
      "execution_count": null,
      "metadata": {
        "colab": {
          "base_uri": "https://localhost:8080/",
          "height": 607
        },
        "id": "OepdKLPLX5Xo",
        "outputId": "d96764e2-d3fc-407e-9f7e-2ecc34c4de5e"
      },
      "outputs": [
        {
          "data": {
            "image/png": "[encoded data removed]",
            "text/plain": [
              "<Figure size 1000x600 with 1 Axes>"
            ]
          },
          "metadata": {},
          "output_type": "display_data"
        }
      ],
      "source": [
        "plt.figure(figsize=(10, 6))\n",
        "sns.countplot(data= test_images_df , x='body_part', hue='label' ,  palette=\"pastel\")\n",
        "plt.title('Distribution of Body Parts with Respect to Labels')\n",
        "plt.xlabel('humerus')\n",
        "plt.ylabel('Count')\n",
        "plt.legend(title='Label', loc='lower right', labels=['Negative(0)', 'Positive(1)'])\n",
        "plt.tight_layout()\n",
        "plt.show()"
      ]
    },
    {
      "cell_type": "code",
      "execution_count": null,
      "metadata": {
        "colab": {
          "base_uri": "https://localhost:8080/"
        },
        "id": "-Nk5qGwwilW8",
        "outputId": "4dda1434-ce13-4238-cb36-164c7d3f1721"
      },
      "outputs": [
        {
          "data": {
            "text/plain": [
              "(288, 4)"
            ]
          },
          "execution_count": 23,
          "metadata": {},
          "output_type": "execute_result"
        }
      ],
      "source": [
        "test_images_df.shape"
      ]
    },
    {
      "cell_type": "markdown",
      "metadata": {
        "id": "cLdC3QeiY0d_"
      },
      "source": [
        "#Train-Test data preprocessing"
      ]
    },
    {
      "cell_type": "code",
      "execution_count": null,
      "metadata": {
        "id": "ldB7k3tkeC2H"
      },
      "outputs": [],
      "source": [
        "# Create an image data generator for validation\n",
        "Image_Generator = ImageDataGenerator(rotation_range=30,horizontal_flip=True)\n"
      ]
    },
    {
      "cell_type": "code",
      "execution_count": null,
      "metadata": {
        "colab": {
          "base_uri": "https://localhost:8080/"
        },
        "id": "HksWI8jveEU6",
        "outputId": "bbe00507-6f47-4709-eda7-baa4ffdcdda9"
      },
      "outputs": [
        {
          "name": "stdout",
          "output_type": "stream",
          "text": [
            "Found 1272 validated image filenames belonging to 2 classes.\n"
          ]
        }
      ],
      "source": [
        "#train data\n",
        "train_generator = Image_Generator.flow_from_dataframe(\n",
        "    dataframe=train_images_df,\n",
        "    x_col=\"paths\",\n",
        "    y_col=\"label\",\n",
        "    target_size=(224, 224),  # Match the input size of your model\n",
        "    color_mode='rgb',\n",
        "    class_mode='binary',  # Use 'binary' since we have two classes\n",
        "    batch_size=32,\n",
        "    shuffle=True\n",
        ")\n"
      ]
    },
    {
      "cell_type": "code",
      "execution_count": null,
      "metadata": {
        "colab": {
          "base_uri": "https://localhost:8080/"
        },
        "id": "PZ1aiTdm7ZTc",
        "outputId": "805f2445-5ea0-44db-e5c6-80e304cbec7b"
      },
      "outputs": [
        {
          "name": "stdout",
          "output_type": "stream",
          "text": [
            "Found 288 validated image filenames belonging to 2 classes.\n"
          ]
        }
      ],
      "source": [
        "#test data\n",
        "test_generator = Image_Generator.flow_from_dataframe(\n",
        "    dataframe=test_images_df,\n",
        "    x_col=\"paths\",\n",
        "    y_col=\"label\",\n",
        "    target_size=(224, 224),  # Match the input size of your model\n",
        "    color_mode='rgb',\n",
        "    class_mode='binary',  # Use 'binary' since we have two classes\n",
        "    batch_size=32,\n",
        "    shuffle=False  # Keep it False to match predictions with filenames\n",
        ")\n"
      ]
    },
    {
      "cell_type": "markdown",
      "metadata": {
        "id": "trJ-M22O76iW"
      },
      "source": [
        "#CNN model"
      ]
    },
    {
      "cell_type": "code",
      "execution_count": null,
      "metadata": {
        "id": "Cx-GriuRjzqL"
      },
      "outputs": [],
      "source": [
        "epochs = 100\n",
        "batch_size = 32\n",
        "input_shape = (224, 224, 1)"
      ]
    },
    {
      "cell_type": "code",
      "execution_count": null,
      "metadata": {
        "id": "X-wZ_82ds5r-"
      },
      "outputs": [],
      "source": [
        "def build_model():\n",
        "    base_model = DenseNet169(input_shape=(None, None,3),\n",
        "                             weights='imagenet',\n",
        "                             include_top=False,\n",
        "                             pooling='avg')\n",
        "\n",
        "    x = base_model.output\n",
        "\n",
        "    predictions = Dense(1,activation='sigmoid')(x)\n",
        "    model = Model(inputs=base_model.input, outputs=predictions)\n",
        "    return model\n",
        "#Building a model\n",
        "model = build_model()\n",
        "model.compile(loss=BinaryFocalLoss(gamma = 2), optimizer='adam', metrics=['acc'])\n",
        "early_stop = EarlyStopping(monitor='val_loss', patience=8, verbose=1, min_delta=1e-4)\n",
        "reduce_lr = ReduceLROnPlateau(monitor='val_loss', factor=0.1, patience=1, verbose=1, min_lr=0.0001)\n",
        "callbacks_list = [early_stop, reduce_lr]"
      ]
    },
    {
      "cell_type": "code",
      "execution_count": null,
      "metadata": {
        "colab": {
          "base_uri": "https://localhost:8080/"
        },
        "id": "DWKSMuPxkP9L",
        "outputId": "06b25fb0-1e0b-4ddf-91b1-a7f0892deece"
      },
      "outputs": [
        {
          "name": "stdout",
          "output_type": "stream",
          "text": [
            "Epoch 1/100\n",
            "39/39 [==============================] - 1338s 32s/step - loss: 0.2664 - acc: 0.5782 - val_loss: 7.8352 - val_acc: 0.5139 - lr: 0.0010\n",
            "Epoch 2/100\n",
            "39/39 [==============================] - 22s 555ms/step - loss: 0.1608 - acc: 0.6605 - val_loss: 7.7795 - val_acc: 0.5104 - lr: 0.0010\n",
            "Epoch 3/100\n",
            "39/39 [==============================] - 22s 552ms/step - loss: 0.1497 - acc: 0.6976 - val_loss: 1.8762 - val_acc: 0.5521 - lr: 0.0010\n",
            "Epoch 4/100\n",
            "39/39 [==============================] - 22s 553ms/step - loss: 0.1547 - acc: 0.7073 - val_loss: 0.8543 - val_acc: 0.5347 - lr: 0.0010\n",
            "Epoch 5/100\n",
            "39/39 [==============================] - ETA: 0s - loss: 0.1475 - acc: 0.7073\n",
            "Epoch 5: ReduceLROnPlateau reducing learning rate to 0.00010000000474974513.\n",
            "39/39 [==============================] - 22s 551ms/step - loss: 0.1475 - acc: 0.7073 - val_loss: 3.4507 - val_acc: 0.4931 - lr: 0.0010\n",
            "Epoch 6/100\n",
            "39/39 [==============================] - 22s 557ms/step - loss: 0.1438 - acc: 0.7371 - val_loss: 0.1317 - val_acc: 0.7917 - lr: 1.0000e-04\n",
            "Epoch 7/100\n",
            "39/39 [==============================] - 22s 557ms/step - loss: 0.1295 - acc: 0.7782 - val_loss: 0.1258 - val_acc: 0.7951 - lr: 1.0000e-04\n",
            "Epoch 8/100\n",
            "39/39 [==============================] - 22s 547ms/step - loss: 0.1242 - acc: 0.7903 - val_loss: 0.1253 - val_acc: 0.7708 - lr: 1.0000e-04\n",
            "Epoch 9/100\n",
            "39/39 [==============================] - 22s 556ms/step - loss: 0.1145 - acc: 0.8073 - val_loss: 0.1207 - val_acc: 0.8056 - lr: 1.0000e-04\n",
            "Epoch 10/100\n",
            "39/39 [==============================] - 22s 550ms/step - loss: 0.1108 - acc: 0.8194 - val_loss: 0.1114 - val_acc: 0.8229 - lr: 1.0000e-04\n",
            "Epoch 11/100\n",
            "39/39 [==============================] - 22s 557ms/step - loss: 0.1075 - acc: 0.8274 - val_loss: 0.1100 - val_acc: 0.8403 - lr: 1.0000e-04\n",
            "Epoch 12/100\n",
            "39/39 [==============================] - ETA: 0s - loss: 0.1026 - acc: 0.8435\n",
            "Epoch 12: ReduceLROnPlateau reducing learning rate to 0.0001.\n",
            "39/39 [==============================] - 22s 559ms/step - loss: 0.1026 - acc: 0.8435 - val_loss: 0.1214 - val_acc: 0.8125 - lr: 1.0000e-04\n",
            "Epoch 13/100\n",
            "39/39 [==============================] - 22s 545ms/step - loss: 0.1022 - acc: 0.8419 - val_loss: 0.1136 - val_acc: 0.8160 - lr: 1.0000e-04\n",
            "Epoch 14/100\n",
            "39/39 [==============================] - 22s 556ms/step - loss: 0.0971 - acc: 0.8427 - val_loss: 0.1174 - val_acc: 0.7986 - lr: 1.0000e-04\n",
            "Epoch 15/100\n",
            "39/39 [==============================] - 22s 548ms/step - loss: 0.0986 - acc: 0.8435 - val_loss: 0.1100 - val_acc: 0.8229 - lr: 1.0000e-04\n",
            "Epoch 16/100\n",
            "39/39 [==============================] - 22s 557ms/step - loss: 0.0993 - acc: 0.8411 - val_loss: 0.1151 - val_acc: 0.8472 - lr: 1.0000e-04\n",
            "Epoch 17/100\n",
            "39/39 [==============================] - 22s 554ms/step - loss: 0.0901 - acc: 0.8605 - val_loss: 0.0980 - val_acc: 0.8681 - lr: 1.0000e-04\n",
            "Epoch 18/100\n",
            "39/39 [==============================] - 22s 546ms/step - loss: 0.0843 - acc: 0.8605 - val_loss: 0.1169 - val_acc: 0.8438 - lr: 1.0000e-04\n",
            "Epoch 19/100\n",
            "39/39 [==============================] - 22s 548ms/step - loss: 0.0814 - acc: 0.8573 - val_loss: 0.1304 - val_acc: 0.8438 - lr: 1.0000e-04\n",
            "Epoch 20/100\n",
            "39/39 [==============================] - 22s 556ms/step - loss: 0.0811 - acc: 0.8637 - val_loss: 0.1137 - val_acc: 0.8507 - lr: 1.0000e-04\n",
            "Epoch 21/100\n",
            "39/39 [==============================] - 22s 548ms/step - loss: 0.0796 - acc: 0.8766 - val_loss: 0.1167 - val_acc: 0.8056 - lr: 1.0000e-04\n",
            "Epoch 22/100\n",
            "39/39 [==============================] - 22s 549ms/step - loss: 0.0756 - acc: 0.8766 - val_loss: 0.1203 - val_acc: 0.8333 - lr: 1.0000e-04\n",
            "Epoch 23/100\n",
            "39/39 [==============================] - 21s 535ms/step - loss: 0.0744 - acc: 0.8927 - val_loss: 0.1447 - val_acc: 0.8056 - lr: 1.0000e-04\n",
            "Epoch 24/100\n",
            "39/39 [==============================] - 21s 541ms/step - loss: 0.0700 - acc: 0.8911 - val_loss: 0.1265 - val_acc: 0.8264 - lr: 1.0000e-04\n",
            "Epoch 25/100\n",
            "39/39 [==============================] - 21s 538ms/step - loss: 0.0621 - acc: 0.9048 - val_loss: 0.1355 - val_acc: 0.8090 - lr: 1.0000e-04\n",
            "Epoch 25: early stopping\n"
          ]
        }
      ],
      "source": [
        "#train the module\n",
        "model_history = model.fit(\n",
        "    train_generator,\n",
        "    epochs=epochs,\n",
        "    workers=0,\n",
        "    use_multiprocessing=False,\n",
        "    steps_per_epoch = 39,\n",
        "    validation_data=test_generator,\n",
        "    validation_steps= 9,\n",
        "    callbacks=callbacks_list\n",
        ")\n"
      ]
    },
    {
      "cell_type": "markdown",
      "metadata": {
        "id": "p2ktM5sbY6uj"
      },
      "source": [
        "#Model Evaluation and performance check"
      ]
    },
    {
      "cell_type": "code",
      "execution_count": null,
      "metadata": {
        "id": "L6bInj5snZoB"
      },
      "outputs": [],
      "source": [
        "label=['Normal', 'Abnormal']"
      ]
    },
    {
      "cell_type": "code",
      "execution_count": null,
      "metadata": {
        "colab": {
          "base_uri": "https://localhost:8080/"
        },
        "id": "IO5U-DxNqi4Q",
        "outputId": "5503d0d3-a39c-474b-b83e-81bf2ab5c91a"
      },
      "outputs": [
        {
          "name": "stdout",
          "output_type": "stream",
          "text": [
            "9/9 [==============================] - 4s 440ms/step - loss: 0.1325 - acc: 0.7951\n"
          ]
        }
      ],
      "source": [
        "# Evaluate the models\n",
        "model_eval = model.evaluate(test_generator)"
      ]
    },
    {
      "cell_type": "code",
      "execution_count": null,
      "metadata": {
        "colab": {
          "base_uri": "https://localhost:8080/"
        },
        "id": "XVBqrspQqdgq",
        "outputId": "380d8702-da08-4dad-dbb8-b2d92e03e077"
      },
      "outputs": [
        {
          "name": "stdout",
          "output_type": "stream",
          "text": [
            "model Evaluation: \n",
            "\n",
            "Loss: 0.1325320601463318 \n",
            "\n",
            "Accuracy: 0.7951388955116272\n"
          ]
        }
      ],
      "source": [
        "print(\"model Evaluation:\", '\\n')\n",
        "print(\"Loss:\", model_eval[0], '\\n')\n",
        "print(\"Accuracy:\", model_eval[1])"
      ]
    },
    {
      "cell_type": "code",
      "execution_count": null,
      "metadata": {
        "colab": {
          "base_uri": "https://localhost:8080/"
        },
        "id": "4y8rGiPQrFN9",
        "outputId": "0e441d2e-c198-4a88-9b62-e792229bc970"
      },
      "outputs": [
        {
          "name": "stdout",
          "output_type": "stream",
          "text": [
            "9/9 [==============================] - 6s 434ms/step\n"
          ]
        }
      ],
      "source": [
        "# Make predictions on the test data\n",
        "y_pred = model.predict(test_generator)\n",
        "# Assuming y_pred contains probabilities of being 'abnormal'\n",
        "# Applying a threshold of 0.5\n",
        "y_pred_classes = (y_pred > 0.5).astype(int).reshape(-1)\n",
        "\n",
        "\n",
        "# Use the true labels from the test data generator\n",
        "y_true = test_generator.labels\n",
        "\n",
        "# Compute the confusion matrix\n",
        "confusion_mtx = confusion_matrix(y_true, y_pred_classes)"
      ]
    },
    {
      "cell_type": "code",
      "execution_count": null,
      "metadata": {
        "colab": {
          "base_uri": "https://localhost:8080/",
          "height": 718
        },
        "id": "txgj2bMXrWVn",
        "outputId": "1673735b-cc92-4749-a2b0-e4da24570f18"
      },
      "outputs": [
        {
          "data": {
            "image/png": "[encoded data removed]",
            "text/plain": [
              "<Figure size 1000x800 with 2 Axes>"
            ]
          },
          "metadata": {},
          "output_type": "display_data"
        }
      ],
      "source": [
        "# Visualize the confusion matrix as a heatmap\n",
        "plt.figure(figsize=(10, 8))\n",
        "sns.heatmap(confusion_mtx, annot=True, fmt='d', cmap='Blues', xticklabels=label, yticklabels=label)\n",
        "plt.xlabel('Predicted')\n",
        "plt.ylabel('True')\n",
        "plt.title('Confusion Matrix for humerus')\n",
        "plt.show()"
      ]
    },
    {
      "cell_type": "code",
      "execution_count": null,
      "metadata": {
        "colab": {
          "base_uri": "https://localhost:8080/"
        },
        "id": "HxJWbQzwrjJJ",
        "outputId": "5127f648-7db9-42f6-97de-65ed5739d764"
      },
      "outputs": [
        {
          "name": "stdout",
          "output_type": "stream",
          "text": [
            "              precision    recall  f1-score   support\n",
            "\n",
            "      Normal       0.78      0.86      0.82       148\n",
            "    Abnormal       0.83      0.74      0.78       140\n",
            "\n",
            "    accuracy                           0.80       288\n",
            "   macro avg       0.81      0.80      0.80       288\n",
            "weighted avg       0.80      0.80      0.80       288\n",
            "\n"
          ]
        }
      ],
      "source": [
        "# Print a classification report with additional metrics\n",
        "class_report = classification_report(y_true, y_pred_classes, target_names=label)\n",
        "print(class_report)"
      ]
    },
    {
      "cell_type": "markdown",
      "metadata": {
        "id": "_RLcyyw7xUoK"
      },
      "source": [
        "#save model"
      ]
    },
    {
      "cell_type": "code",
      "execution_count": null,
      "metadata": {
        "colab": {
          "base_uri": "https://localhost:8080/"
        },
        "id": "X8Mnz0txGXNp",
        "outputId": "739e8f41-715d-4947-8619-b5ec73c25d48"
      },
      "outputs": [
        {
          "name": "stderr",
          "output_type": "stream",
          "text": [
            "/usr/local/lib/python3.10/dist-packages/keras/src/engine/training.py:3079: UserWarning: You are saving your model as an HDF5 file via `model.save()`. This file format is considered legacy. We recommend using instead the native Keras format, e.g. `model.save('my_model.keras')`.\n",
            "  saving_api.save_model(\n"
          ]
        }
      ],
      "source": [
        "model.save('/content/drive/My Drive/Project/final_humreus_model_densnet.h5')"
      ]
    }
  ],
  "metadata": {
    "accelerator": "GPU",
    "colab": {
      "collapsed_sections": [
        "BP8JDhDX3qpm",
        "Pzvza0hlYraV",
        "cLdC3QeiY0d_",
        "KjOIhR5T1mPV",
        "_RLcyyw7xUoK"
      ],
      "gpuType": "T4",
      "machine_shape": "hm",
      "provenance": []
    },
    "kernelspec": {
      "display_name": "Python 3",
      "name": "python3"
    },
    "language_info": {
      "name": "python"
    }
  },
  "nbformat": 4,
  "nbformat_minor": 0
}
