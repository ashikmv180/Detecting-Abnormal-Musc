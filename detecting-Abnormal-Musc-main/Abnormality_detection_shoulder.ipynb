{
  "nbformat": 4,
  "nbformat_minor": 0,
  "metadata": {
    "colab": {
      "provenance": [],
      "machine_shape": "hm",
      "gpuType": "T4",
      "collapsed_sections": [
        "BP8JDhDX3qpm",
        "Pzvza0hlYraV",
        "cLdC3QeiY0d_",
        "KjOIhR5T1mPV",
        "_RLcyyw7xUoK"
      ]
    },
    "kernelspec": {
      "name": "python3",
      "display_name": "Python 3"
    },
    "language_info": {
      "name": "python"
    },
    "accelerator": "GPU"
  },
  "cells": [
    {
      "cell_type": "markdown",
      "source": [
        "#import libraries"
      ],
      "metadata": {
        "id": "BiuhtK7eYkvt"
      }
    },
    {
      "cell_type": "code",
      "source": [
        "!pip install focal_loss"
      ],
      "metadata": {
        "colab": {
          "base_uri": "https://localhost:8080/"
        },
        "id": "K1EZej_K7Xcr",
        "outputId": "da0b147d-37a6-4fab-bb73-eb14684e20eb"
      },
      "execution_count": 1,
      "outputs": [
        {
          "output_type": "stream",
          "name": "stdout",
          "text": [
            "Collecting focal_loss\n",
            "  Downloading focal_loss-0.0.7-py3-none-any.whl (19 kB)\n",
            "Requirement already satisfied: tensorflow>=2.2 in /usr/local/lib/python3.10/dist-packages (from focal_loss) (2.14.0)\n",
            "Requirement already satisfied: absl-py>=1.0.0 in /usr/local/lib/python3.10/dist-packages (from tensorflow>=2.2->focal_loss) (1.4.0)\n",
            "Requirement already satisfied: astunparse>=1.6.0 in /usr/local/lib/python3.10/dist-packages (from tensorflow>=2.2->focal_loss) (1.6.3)\n",
            "Requirement already satisfied: flatbuffers>=23.5.26 in /usr/local/lib/python3.10/dist-packages (from tensorflow>=2.2->focal_loss) (23.5.26)\n",
            "Requirement already satisfied: gast!=0.5.0,!=0.5.1,!=0.5.2,>=0.2.1 in /usr/local/lib/python3.10/dist-packages (from tensorflow>=2.2->focal_loss) (0.5.4)\n",
            "Requirement already satisfied: google-pasta>=0.1.1 in /usr/local/lib/python3.10/dist-packages (from tensorflow>=2.2->focal_loss) (0.2.0)\n",
            "Requirement already satisfied: h5py>=2.9.0 in /usr/local/lib/python3.10/dist-packages (from tensorflow>=2.2->focal_loss) (3.9.0)\n",
            "Requirement already satisfied: libclang>=13.0.0 in /usr/local/lib/python3.10/dist-packages (from tensorflow>=2.2->focal_loss) (16.0.6)\n",
            "Requirement already satisfied: ml-dtypes==0.2.0 in /usr/local/lib/python3.10/dist-packages (from tensorflow>=2.2->focal_loss) (0.2.0)\n",
            "Requirement already satisfied: numpy>=1.23.5 in /usr/local/lib/python3.10/dist-packages (from tensorflow>=2.2->focal_loss) (1.23.5)\n",
            "Requirement already satisfied: opt-einsum>=2.3.2 in /usr/local/lib/python3.10/dist-packages (from tensorflow>=2.2->focal_loss) (3.3.0)\n",
            "Requirement already satisfied: packaging in /usr/local/lib/python3.10/dist-packages (from tensorflow>=2.2->focal_loss) (23.2)\n",
            "Requirement already satisfied: protobuf!=4.21.0,!=4.21.1,!=4.21.2,!=4.21.3,!=4.21.4,!=4.21.5,<5.0.0dev,>=3.20.3 in /usr/local/lib/python3.10/dist-packages (from tensorflow>=2.2->focal_loss) (3.20.3)\n",
            "Requirement already satisfied: setuptools in /usr/local/lib/python3.10/dist-packages (from tensorflow>=2.2->focal_loss) (67.7.2)\n",
            "Requirement already satisfied: six>=1.12.0 in /usr/local/lib/python3.10/dist-packages (from tensorflow>=2.2->focal_loss) (1.16.0)\n",
            "Requirement already satisfied: termcolor>=1.1.0 in /usr/local/lib/python3.10/dist-packages (from tensorflow>=2.2->focal_loss) (2.3.0)\n",
            "Requirement already satisfied: typing-extensions>=3.6.6 in /usr/local/lib/python3.10/dist-packages (from tensorflow>=2.2->focal_loss) (4.5.0)\n",
            "Requirement already satisfied: wrapt<1.15,>=1.11.0 in /usr/local/lib/python3.10/dist-packages (from tensorflow>=2.2->focal_loss) (1.14.1)\n",
            "Requirement already satisfied: tensorflow-io-gcs-filesystem>=0.23.1 in /usr/local/lib/python3.10/dist-packages (from tensorflow>=2.2->focal_loss) (0.34.0)\n",
            "Requirement already satisfied: grpcio<2.0,>=1.24.3 in /usr/local/lib/python3.10/dist-packages (from tensorflow>=2.2->focal_loss) (1.59.2)\n",
            "Requirement already satisfied: tensorboard<2.15,>=2.14 in /usr/local/lib/python3.10/dist-packages (from tensorflow>=2.2->focal_loss) (2.14.1)\n",
            "Requirement already satisfied: tensorflow-estimator<2.15,>=2.14.0 in /usr/local/lib/python3.10/dist-packages (from tensorflow>=2.2->focal_loss) (2.14.0)\n",
            "Requirement already satisfied: keras<2.15,>=2.14.0 in /usr/local/lib/python3.10/dist-packages (from tensorflow>=2.2->focal_loss) (2.14.0)\n",
            "Requirement already satisfied: wheel<1.0,>=0.23.0 in /usr/local/lib/python3.10/dist-packages (from astunparse>=1.6.0->tensorflow>=2.2->focal_loss) (0.41.3)\n",
            "Requirement already satisfied: google-auth<3,>=1.6.3 in /usr/local/lib/python3.10/dist-packages (from tensorboard<2.15,>=2.14->tensorflow>=2.2->focal_loss) (2.17.3)\n",
            "Requirement already satisfied: google-auth-oauthlib<1.1,>=0.5 in /usr/local/lib/python3.10/dist-packages (from tensorboard<2.15,>=2.14->tensorflow>=2.2->focal_loss) (1.0.0)\n",
            "Requirement already satisfied: markdown>=2.6.8 in /usr/local/lib/python3.10/dist-packages (from tensorboard<2.15,>=2.14->tensorflow>=2.2->focal_loss) (3.5.1)\n",
            "Requirement already satisfied: requests<3,>=2.21.0 in /usr/local/lib/python3.10/dist-packages (from tensorboard<2.15,>=2.14->tensorflow>=2.2->focal_loss) (2.31.0)\n",
            "Requirement already satisfied: tensorboard-data-server<0.8.0,>=0.7.0 in /usr/local/lib/python3.10/dist-packages (from tensorboard<2.15,>=2.14->tensorflow>=2.2->focal_loss) (0.7.2)\n",
            "Requirement already satisfied: werkzeug>=1.0.1 in /usr/local/lib/python3.10/dist-packages (from tensorboard<2.15,>=2.14->tensorflow>=2.2->focal_loss) (3.0.1)\n",
            "Requirement already satisfied: cachetools<6.0,>=2.0.0 in /usr/local/lib/python3.10/dist-packages (from google-auth<3,>=1.6.3->tensorboard<2.15,>=2.14->tensorflow>=2.2->focal_loss) (5.3.2)\n",
            "Requirement already satisfied: pyasn1-modules>=0.2.1 in /usr/local/lib/python3.10/dist-packages (from google-auth<3,>=1.6.3->tensorboard<2.15,>=2.14->tensorflow>=2.2->focal_loss) (0.3.0)\n",
            "Requirement already satisfied: rsa<5,>=3.1.4 in /usr/local/lib/python3.10/dist-packages (from google-auth<3,>=1.6.3->tensorboard<2.15,>=2.14->tensorflow>=2.2->focal_loss) (4.9)\n",
            "Requirement already satisfied: requests-oauthlib>=0.7.0 in /usr/local/lib/python3.10/dist-packages (from google-auth-oauthlib<1.1,>=0.5->tensorboard<2.15,>=2.14->tensorflow>=2.2->focal_loss) (1.3.1)\n",
            "Requirement already satisfied: charset-normalizer<4,>=2 in /usr/local/lib/python3.10/dist-packages (from requests<3,>=2.21.0->tensorboard<2.15,>=2.14->tensorflow>=2.2->focal_loss) (3.3.2)\n",
            "Requirement already satisfied: idna<4,>=2.5 in /usr/local/lib/python3.10/dist-packages (from requests<3,>=2.21.0->tensorboard<2.15,>=2.14->tensorflow>=2.2->focal_loss) (3.4)\n",
            "Requirement already satisfied: urllib3<3,>=1.21.1 in /usr/local/lib/python3.10/dist-packages (from requests<3,>=2.21.0->tensorboard<2.15,>=2.14->tensorflow>=2.2->focal_loss) (2.0.7)\n",
            "Requirement already satisfied: certifi>=2017.4.17 in /usr/local/lib/python3.10/dist-packages (from requests<3,>=2.21.0->tensorboard<2.15,>=2.14->tensorflow>=2.2->focal_loss) (2023.7.22)\n",
            "Requirement already satisfied: MarkupSafe>=2.1.1 in /usr/local/lib/python3.10/dist-packages (from werkzeug>=1.0.1->tensorboard<2.15,>=2.14->tensorflow>=2.2->focal_loss) (2.1.3)\n",
            "Requirement already satisfied: pyasn1<0.6.0,>=0.4.6 in /usr/local/lib/python3.10/dist-packages (from pyasn1-modules>=0.2.1->google-auth<3,>=1.6.3->tensorboard<2.15,>=2.14->tensorflow>=2.2->focal_loss) (0.5.0)\n",
            "Requirement already satisfied: oauthlib>=3.0.0 in /usr/local/lib/python3.10/dist-packages (from requests-oauthlib>=0.7.0->google-auth-oauthlib<1.1,>=0.5->tensorboard<2.15,>=2.14->tensorflow>=2.2->focal_loss) (3.2.2)\n",
            "Installing collected packages: focal_loss\n",
            "Successfully installed focal_loss-0.0.7\n"
          ]
        }
      ]
    },
    {
      "cell_type": "code",
      "source": [
        "import os\n",
        "import pandas as pd\n",
        "from tensorflow import keras\n",
        "from tensorflow.keras.models import load_model\n",
        "from tensorflow.keras.preprocessing.image import ImageDataGenerator\n",
        "import numpy as np\n",
        "from google.colab import drive\n",
        "from tensorflow.keras.losses import binary_crossentropy\n",
        "from sklearn.metrics import f1_score, accuracy_score, precision_score, recall_score, classification_report, roc_curve, auc, confusion_matrix\n",
        "drive.mount('/content/drive')\n",
        "import matplotlib.pyplot as plt\n",
        "import seaborn as sns\n",
        "from tensorflow.keras.optimizers import Adam\n",
        "from sklearn.model_selection import train_test_split\n",
        "# Layers to be used for building our model\n",
        "from tensorflow.keras.layers import Activation, Input, Conv2D, MaxPool2D, GlobalMaxPooling2D,Flatten,Dense, Dropout\n",
        "from tensorflow.keras.models import Model\n",
        "from tensorflow.keras import Sequential\n",
        "from keras.applications.densenet import DenseNet169\n",
        "from focal_loss import BinaryFocalLoss\n",
        "from keras.callbacks import EarlyStopping, ReduceLROnPlateau, ModelCheckpoint, Callback"
      ],
      "metadata": {
        "colab": {
          "base_uri": "https://localhost:8080/"
        },
        "id": "Ze0sRfyLdynz",
        "outputId": "51fd5cee-2121-4e6c-ebec-60aa13bbcb38"
      },
      "execution_count": 2,
      "outputs": [
        {
          "output_type": "stream",
          "name": "stdout",
          "text": [
            "Mounted at /content/drive\n"
          ]
        }
      ]
    },
    {
      "cell_type": "markdown",
      "source": [
        "#load train dataset for shoulder"
      ],
      "metadata": {
        "id": "BP8JDhDX3qpm"
      }
    },
    {
      "cell_type": "code",
      "source": [
        "#defining base path\n",
        "base_path = \"/content/drive/My Drive/Project/MURA-v1.1\"\n",
        "#construct the file path to the CSV file named \"train_image_paths.csv\" by joining the base_path and the CSV file's name using the os.path.join\n",
        "train_image_csv_path = os.path.join(base_path, \"train_image_paths.csv\")\n",
        "#will read the above csv file and save in the data frame with column name paths\n",
        "train_images_df = pd.read_csv(train_image_csv_path, names=['paths'])\n",
        "#create complete file paths for each X-ray image.\n",
        "train_images_df[\"paths\"] = \"/content/drive/My Drive/Project/\" + train_images_df[\"paths\"]\n",
        "#create new column label in the dataframe  will indicate +ve or -ve\n",
        "# If a path contains the word 'positive,' it is assigned a label of 1 (abnormal), and if not, it's assigned a label of 0 (normal).\n",
        "train_images_df['label'] = train_images_df['paths'].str.contains('positive').astype(int)\n",
        "# It extracts the seventh element (index 7) of each path after splitting the path using '/'\n",
        "train_images_df['body_part'] = train_images_df['paths'].str.split('/').str[7]\n",
        "#  'label' column was initially created as integers (0 or 1), it is now converted to strings.\n",
        "train_images_df['label'] = train_images_df['label'].astype(str)"
      ],
      "metadata": {
        "id": "FC1wR7hV3uWg"
      },
      "execution_count": null,
      "outputs": []
    },
    {
      "cell_type": "code",
      "source": [
        "train_images_df['label_index']= train_images_df.body_part"
      ],
      "metadata": {
        "id": "XtA2EwOY34UO"
      },
      "execution_count": null,
      "outputs": []
    },
    {
      "cell_type": "code",
      "source": [
        "train_images_df.label_index.replace('XR_SHOULDER', 6, inplace=True)\n",
        "train_images_df.label_index.replace('XR_HUMERUS', 5, inplace=True)\n",
        "train_images_df.label_index.replace('XR_FINGER', 4, inplace=True)\n",
        "train_images_df.label_index.replace('XR_ELBOW', 3, inplace=True)\n",
        "train_images_df.label_index.replace('XR_WRIST', 2, inplace=True)\n",
        "train_images_df.label_index.replace('XR_FOREARM', 1, inplace=True)\n",
        "train_images_df.label_index.replace('XR_HAND', 0, inplace=True)"
      ],
      "metadata": {
        "id": "Tup49Yd84FXP"
      },
      "execution_count": null,
      "outputs": []
    },
    {
      "cell_type": "code",
      "source": [
        "train_images_df"
      ],
      "metadata": {
        "colab": {
          "base_uri": "https://localhost:8080/"
        },
        "id": "kNPNlHr54Fby",
        "outputId": "7f7295f0-95e6-4382-c6bd-7514bb2fa295"
      },
      "execution_count": null,
      "outputs": [
        {
          "output_type": "execute_result",
          "data": {
            "text/plain": [
              "                                                   paths label    body_part  \\\n",
              "0      /content/drive/My Drive/Project/MURA-v1.1/trai...     1  XR_SHOULDER   \n",
              "1      /content/drive/My Drive/Project/MURA-v1.1/trai...     1  XR_SHOULDER   \n",
              "2      /content/drive/My Drive/Project/MURA-v1.1/trai...     1  XR_SHOULDER   \n",
              "3      /content/drive/My Drive/Project/MURA-v1.1/trai...     1  XR_SHOULDER   \n",
              "4      /content/drive/My Drive/Project/MURA-v1.1/trai...     1  XR_SHOULDER   \n",
              "...                                                  ...   ...          ...   \n",
              "36803  /content/drive/My Drive/Project/MURA-v1.1/trai...     0      XR_HAND   \n",
              "36804  /content/drive/My Drive/Project/MURA-v1.1/trai...     0      XR_HAND   \n",
              "36805  /content/drive/My Drive/Project/MURA-v1.1/trai...     0      XR_HAND   \n",
              "36806  /content/drive/My Drive/Project/MURA-v1.1/trai...     0      XR_HAND   \n",
              "36807  /content/drive/My Drive/Project/MURA-v1.1/trai...     0      XR_HAND   \n",
              "\n",
              "       label_index  \n",
              "0                6  \n",
              "1                6  \n",
              "2                6  \n",
              "3                6  \n",
              "4                6  \n",
              "...            ...  \n",
              "36803            0  \n",
              "36804            0  \n",
              "36805            0  \n",
              "36806            0  \n",
              "36807            0  \n",
              "\n",
              "[36808 rows x 4 columns]"
            ],
            "text/html": [
              "\n",
              "  <div id=\"df-74cf75b5-bef4-42fa-a57c-c4cd5202eb60\" class=\"colab-df-container\">\n",
              "    <div>\n",
              "<style scoped>\n",
              "    .dataframe tbody tr th:only-of-type {\n",
              "        vertical-align: middle;\n",
              "    }\n",
              "\n",
              "    .dataframe tbody tr th {\n",
              "        vertical-align: top;\n",
              "    }\n",
              "\n",
              "    .dataframe thead th {\n",
              "        text-align: right;\n",
              "    }\n",
              "</style>\n",
              "<table border=\"1\" class=\"dataframe\">\n",
              "  <thead>\n",
              "    <tr style=\"text-align: right;\">\n",
              "      <th></th>\n",
              "      <th>paths</th>\n",
              "      <th>label</th>\n",
              "      <th>body_part</th>\n",
              "      <th>label_index</th>\n",
              "    </tr>\n",
              "  </thead>\n",
              "  <tbody>\n",
              "    <tr>\n",
              "      <th>0</th>\n",
              "      <td>/content/drive/My Drive/Project/MURA-v1.1/trai...</td>\n",
              "      <td>1</td>\n",
              "      <td>XR_SHOULDER</td>\n",
              "      <td>6</td>\n",
              "    </tr>\n",
              "    <tr>\n",
              "      <th>1</th>\n",
              "      <td>/content/drive/My Drive/Project/MURA-v1.1/trai...</td>\n",
              "      <td>1</td>\n",
              "      <td>XR_SHOULDER</td>\n",
              "      <td>6</td>\n",
              "    </tr>\n",
              "    <tr>\n",
              "      <th>2</th>\n",
              "      <td>/content/drive/My Drive/Project/MURA-v1.1/trai...</td>\n",
              "      <td>1</td>\n",
              "      <td>XR_SHOULDER</td>\n",
              "      <td>6</td>\n",
              "    </tr>\n",
              "    <tr>\n",
              "      <th>3</th>\n",
              "      <td>/content/drive/My Drive/Project/MURA-v1.1/trai...</td>\n",
              "      <td>1</td>\n",
              "      <td>XR_SHOULDER</td>\n",
              "      <td>6</td>\n",
              "    </tr>\n",
              "    <tr>\n",
              "      <th>4</th>\n",
              "      <td>/content/drive/My Drive/Project/MURA-v1.1/trai...</td>\n",
              "      <td>1</td>\n",
              "      <td>XR_SHOULDER</td>\n",
              "      <td>6</td>\n",
              "    </tr>\n",
              "    <tr>\n",
              "      <th>...</th>\n",
              "      <td>...</td>\n",
              "      <td>...</td>\n",
              "      <td>...</td>\n",
              "      <td>...</td>\n",
              "    </tr>\n",
              "    <tr>\n",
              "      <th>36803</th>\n",
              "      <td>/content/drive/My Drive/Project/MURA-v1.1/trai...</td>\n",
              "      <td>0</td>\n",
              "      <td>XR_HAND</td>\n",
              "      <td>0</td>\n",
              "    </tr>\n",
              "    <tr>\n",
              "      <th>36804</th>\n",
              "      <td>/content/drive/My Drive/Project/MURA-v1.1/trai...</td>\n",
              "      <td>0</td>\n",
              "      <td>XR_HAND</td>\n",
              "      <td>0</td>\n",
              "    </tr>\n",
              "    <tr>\n",
              "      <th>36805</th>\n",
              "      <td>/content/drive/My Drive/Project/MURA-v1.1/trai...</td>\n",
              "      <td>0</td>\n",
              "      <td>XR_HAND</td>\n",
              "      <td>0</td>\n",
              "    </tr>\n",
              "    <tr>\n",
              "      <th>36806</th>\n",
              "      <td>/content/drive/My Drive/Project/MURA-v1.1/trai...</td>\n",
              "      <td>0</td>\n",
              "      <td>XR_HAND</td>\n",
              "      <td>0</td>\n",
              "    </tr>\n",
              "    <tr>\n",
              "      <th>36807</th>\n",
              "      <td>/content/drive/My Drive/Project/MURA-v1.1/trai...</td>\n",
              "      <td>0</td>\n",
              "      <td>XR_HAND</td>\n",
              "      <td>0</td>\n",
              "    </tr>\n",
              "  </tbody>\n",
              "</table>\n",
              "<p>36808 rows × 4 columns</p>\n",
              "</div>\n",
              "    <div class=\"colab-df-buttons\">\n",
              "\n",
              "  <div class=\"colab-df-container\">\n",
              "    <button class=\"colab-df-convert\" onclick=\"convertToInteractive('df-74cf75b5-bef4-42fa-a57c-c4cd5202eb60')\"\n",
              "            title=\"Convert this dataframe to an interactive table.\"\n",
              "            style=\"display:none;\">\n",
              "\n",
              "  <svg xmlns=\"http://www.w3.org/2000/svg\" height=\"24px\" viewBox=\"0 -960 960 960\">\n",
              "    <path d=\"M120-120v-720h720v720H120Zm60-500h600v-160H180v160Zm220 220h160v-160H400v160Zm0 220h160v-160H400v160ZM180-400h160v-160H180v160Zm440 0h160v-160H620v160ZM180-180h160v-160H180v160Zm440 0h160v-160H620v160Z\"/>\n",
              "  </svg>\n",
              "    </button>\n",
              "\n",
              "  <style>\n",
              "    .colab-df-container {\n",
              "      display:flex;\n",
              "      gap: 12px;\n",
              "    }\n",
              "\n",
              "    .colab-df-convert {\n",
              "      background-color: #E8F0FE;\n",
              "      border: none;\n",
              "      border-radius: 50%;\n",
              "      cursor: pointer;\n",
              "      display: none;\n",
              "      fill: #1967D2;\n",
              "      height: 32px;\n",
              "      padding: 0 0 0 0;\n",
              "      width: 32px;\n",
              "    }\n",
              "\n",
              "    .colab-df-convert:hover {\n",
              "      background-color: #E2EBFA;\n",
              "      box-shadow: 0px 1px 2px rgba(60, 64, 67, 0.3), 0px 1px 3px 1px rgba(60, 64, 67, 0.15);\n",
              "      fill: #174EA6;\n",
              "    }\n",
              "\n",
              "    .colab-df-buttons div {\n",
              "      margin-bottom: 4px;\n",
              "    }\n",
              "\n",
              "    [theme=dark] .colab-df-convert {\n",
              "      background-color: #3B4455;\n",
              "      fill: #D2E3FC;\n",
              "    }\n",
              "\n",
              "    [theme=dark] .colab-df-convert:hover {\n",
              "      background-color: #434B5C;\n",
              "      box-shadow: 0px 1px 3px 1px rgba(0, 0, 0, 0.15);\n",
              "      filter: drop-shadow(0px 1px 2px rgba(0, 0, 0, 0.3));\n",
              "      fill: #FFFFFF;\n",
              "    }\n",
              "  </style>\n",
              "\n",
              "    <script>\n",
              "      const buttonEl =\n",
              "        document.querySelector('#df-74cf75b5-bef4-42fa-a57c-c4cd5202eb60 button.colab-df-convert');\n",
              "      buttonEl.style.display =\n",
              "        google.colab.kernel.accessAllowed ? 'block' : 'none';\n",
              "\n",
              "      async function convertToInteractive(key) {\n",
              "        const element = document.querySelector('#df-74cf75b5-bef4-42fa-a57c-c4cd5202eb60');\n",
              "        const dataTable =\n",
              "          await google.colab.kernel.invokeFunction('convertToInteractive',\n",
              "                                                    [key], {});\n",
              "        if (!dataTable) return;\n",
              "\n",
              "        const docLinkHtml = 'Like what you see? Visit the ' +\n",
              "          '<a target=\"_blank\" href=https://colab.research.google.com/notebooks/data_table.ipynb>data table notebook</a>'\n",
              "          + ' to learn more about interactive tables.';\n",
              "        element.innerHTML = '';\n",
              "        dataTable['output_type'] = 'display_data';\n",
              "        await google.colab.output.renderOutput(dataTable, element);\n",
              "        const docLink = document.createElement('div');\n",
              "        docLink.innerHTML = docLinkHtml;\n",
              "        element.appendChild(docLink);\n",
              "      }\n",
              "    </script>\n",
              "  </div>\n",
              "\n",
              "\n",
              "<div id=\"df-618cfde3-20dc-49a4-8b13-8ba56bddcc86\">\n",
              "  <button class=\"colab-df-quickchart\" onclick=\"quickchart('df-618cfde3-20dc-49a4-8b13-8ba56bddcc86')\"\n",
              "            title=\"Suggest charts\"\n",
              "            style=\"display:none;\">\n",
              "\n",
              "<svg xmlns=\"http://www.w3.org/2000/svg\" height=\"24px\"viewBox=\"0 0 24 24\"\n",
              "     width=\"24px\">\n",
              "    <g>\n",
              "        <path d=\"M19 3H5c-1.1 0-2 .9-2 2v14c0 1.1.9 2 2 2h14c1.1 0 2-.9 2-2V5c0-1.1-.9-2-2-2zM9 17H7v-7h2v7zm4 0h-2V7h2v10zm4 0h-2v-4h2v4z\"/>\n",
              "    </g>\n",
              "</svg>\n",
              "  </button>\n",
              "\n",
              "<style>\n",
              "  .colab-df-quickchart {\n",
              "      --bg-color: #E8F0FE;\n",
              "      --fill-color: #1967D2;\n",
              "      --hover-bg-color: #E2EBFA;\n",
              "      --hover-fill-color: #174EA6;\n",
              "      --disabled-fill-color: #AAA;\n",
              "      --disabled-bg-color: #DDD;\n",
              "  }\n",
              "\n",
              "  [theme=dark] .colab-df-quickchart {\n",
              "      --bg-color: #3B4455;\n",
              "      --fill-color: #D2E3FC;\n",
              "      --hover-bg-color: #434B5C;\n",
              "      --hover-fill-color: #FFFFFF;\n",
              "      --disabled-bg-color: #3B4455;\n",
              "      --disabled-fill-color: #666;\n",
              "  }\n",
              "\n",
              "  .colab-df-quickchart {\n",
              "    background-color: var(--bg-color);\n",
              "    border: none;\n",
              "    border-radius: 50%;\n",
              "    cursor: pointer;\n",
              "    display: none;\n",
              "    fill: var(--fill-color);\n",
              "    height: 32px;\n",
              "    padding: 0;\n",
              "    width: 32px;\n",
              "  }\n",
              "\n",
              "  .colab-df-quickchart:hover {\n",
              "    background-color: var(--hover-bg-color);\n",
              "    box-shadow: 0 1px 2px rgba(60, 64, 67, 0.3), 0 1px 3px 1px rgba(60, 64, 67, 0.15);\n",
              "    fill: var(--button-hover-fill-color);\n",
              "  }\n",
              "\n",
              "  .colab-df-quickchart-complete:disabled,\n",
              "  .colab-df-quickchart-complete:disabled:hover {\n",
              "    background-color: var(--disabled-bg-color);\n",
              "    fill: var(--disabled-fill-color);\n",
              "    box-shadow: none;\n",
              "  }\n",
              "\n",
              "  .colab-df-spinner {\n",
              "    border: 2px solid var(--fill-color);\n",
              "    border-color: transparent;\n",
              "    border-bottom-color: var(--fill-color);\n",
              "    animation:\n",
              "      spin 1s steps(1) infinite;\n",
              "  }\n",
              "\n",
              "  @keyframes spin {\n",
              "    0% {\n",
              "      border-color: transparent;\n",
              "      border-bottom-color: var(--fill-color);\n",
              "      border-left-color: var(--fill-color);\n",
              "    }\n",
              "    20% {\n",
              "      border-color: transparent;\n",
              "      border-left-color: var(--fill-color);\n",
              "      border-top-color: var(--fill-color);\n",
              "    }\n",
              "    30% {\n",
              "      border-color: transparent;\n",
              "      border-left-color: var(--fill-color);\n",
              "      border-top-color: var(--fill-color);\n",
              "      border-right-color: var(--fill-color);\n",
              "    }\n",
              "    40% {\n",
              "      border-color: transparent;\n",
              "      border-right-color: var(--fill-color);\n",
              "      border-top-color: var(--fill-color);\n",
              "    }\n",
              "    60% {\n",
              "      border-color: transparent;\n",
              "      border-right-color: var(--fill-color);\n",
              "    }\n",
              "    80% {\n",
              "      border-color: transparent;\n",
              "      border-right-color: var(--fill-color);\n",
              "      border-bottom-color: var(--fill-color);\n",
              "    }\n",
              "    90% {\n",
              "      border-color: transparent;\n",
              "      border-bottom-color: var(--fill-color);\n",
              "    }\n",
              "  }\n",
              "</style>\n",
              "\n",
              "  <script>\n",
              "    async function quickchart(key) {\n",
              "      const quickchartButtonEl =\n",
              "        document.querySelector('#' + key + ' button');\n",
              "      quickchartButtonEl.disabled = true;  // To prevent multiple clicks.\n",
              "      quickchartButtonEl.classList.add('colab-df-spinner');\n",
              "      try {\n",
              "        const charts = await google.colab.kernel.invokeFunction(\n",
              "            'suggestCharts', [key], {});\n",
              "      } catch (error) {\n",
              "        console.error('Error during call to suggestCharts:', error);\n",
              "      }\n",
              "      quickchartButtonEl.classList.remove('colab-df-spinner');\n",
              "      quickchartButtonEl.classList.add('colab-df-quickchart-complete');\n",
              "    }\n",
              "    (() => {\n",
              "      let quickchartButtonEl =\n",
              "        document.querySelector('#df-618cfde3-20dc-49a4-8b13-8ba56bddcc86 button');\n",
              "      quickchartButtonEl.style.display =\n",
              "        google.colab.kernel.accessAllowed ? 'block' : 'none';\n",
              "    })();\n",
              "  </script>\n",
              "</div>\n",
              "\n",
              "  <div id=\"id_d738d354-7732-45fc-a959-ecfee44b1c5e\">\n",
              "    <style>\n",
              "      .colab-df-generate {\n",
              "        background-color: #E8F0FE;\n",
              "        border: none;\n",
              "        border-radius: 50%;\n",
              "        cursor: pointer;\n",
              "        display: none;\n",
              "        fill: #1967D2;\n",
              "        height: 32px;\n",
              "        padding: 0 0 0 0;\n",
              "        width: 32px;\n",
              "      }\n",
              "\n",
              "      .colab-df-generate:hover {\n",
              "        background-color: #E2EBFA;\n",
              "        box-shadow: 0px 1px 2px rgba(60, 64, 67, 0.3), 0px 1px 3px 1px rgba(60, 64, 67, 0.15);\n",
              "        fill: #174EA6;\n",
              "      }\n",
              "\n",
              "      [theme=dark] .colab-df-generate {\n",
              "        background-color: #3B4455;\n",
              "        fill: #D2E3FC;\n",
              "      }\n",
              "\n",
              "      [theme=dark] .colab-df-generate:hover {\n",
              "        background-color: #434B5C;\n",
              "        box-shadow: 0px 1px 3px 1px rgba(0, 0, 0, 0.15);\n",
              "        filter: drop-shadow(0px 1px 2px rgba(0, 0, 0, 0.3));\n",
              "        fill: #FFFFFF;\n",
              "      }\n",
              "    </style>\n",
              "    <button class=\"colab-df-generate\" onclick=\"generateWithVariable('train_images_df')\"\n",
              "            title=\"Generate code using this dataframe.\"\n",
              "            style=\"display:none;\">\n",
              "\n",
              "  <svg xmlns=\"http://www.w3.org/2000/svg\" height=\"24px\"viewBox=\"0 0 24 24\"\n",
              "       width=\"24px\">\n",
              "    <path d=\"M7,19H8.4L18.45,9,17,7.55,7,17.6ZM5,21V16.75L18.45,3.32a2,2,0,0,1,2.83,0l1.4,1.43a1.91,1.91,0,0,1,.58,1.4,1.91,1.91,0,0,1-.58,1.4L9.25,21ZM18.45,9,17,7.55Zm-12,3A5.31,5.31,0,0,0,4.9,8.1,5.31,5.31,0,0,0,1,6.5,5.31,5.31,0,0,0,4.9,4.9,5.31,5.31,0,0,0,6.5,1,5.31,5.31,0,0,0,8.1,4.9,5.31,5.31,0,0,0,12,6.5,5.46,5.46,0,0,0,6.5,12Z\"/>\n",
              "  </svg>\n",
              "    </button>\n",
              "    <script>\n",
              "      (() => {\n",
              "      const buttonEl =\n",
              "        document.querySelector('#id_d738d354-7732-45fc-a959-ecfee44b1c5e button.colab-df-generate');\n",
              "      buttonEl.style.display =\n",
              "        google.colab.kernel.accessAllowed ? 'block' : 'none';\n",
              "\n",
              "      buttonEl.onclick = () => {\n",
              "        google.colab.notebook.generateWithVariable('train_images_df');\n",
              "      }\n",
              "      })();\n",
              "    </script>\n",
              "  </div>\n",
              "\n",
              "    </div>\n",
              "  </div>\n"
            ]
          },
          "metadata": {},
          "execution_count": 7
        }
      ]
    },
    {
      "cell_type": "code",
      "source": [
        "train_images_df.info()"
      ],
      "metadata": {
        "colab": {
          "base_uri": "https://localhost:8080/"
        },
        "id": "OZ1ruT3i4JvC",
        "outputId": "0429da31-4d54-4e87-c139-a15896a43777"
      },
      "execution_count": null,
      "outputs": [
        {
          "output_type": "stream",
          "name": "stdout",
          "text": [
            "<class 'pandas.core.frame.DataFrame'>\n",
            "RangeIndex: 36808 entries, 0 to 36807\n",
            "Data columns (total 4 columns):\n",
            " #   Column       Non-Null Count  Dtype \n",
            "---  ------       --------------  ----- \n",
            " 0   paths        36808 non-null  object\n",
            " 1   label        36808 non-null  object\n",
            " 2   body_part    36808 non-null  object\n",
            " 3   label_index  36808 non-null  int64 \n",
            "dtypes: int64(1), object(3)\n",
            "memory usage: 1.1+ MB\n"
          ]
        }
      ]
    },
    {
      "cell_type": "code",
      "source": [
        "train_images_df.shape"
      ],
      "metadata": {
        "colab": {
          "base_uri": "https://localhost:8080/"
        },
        "id": "OQauzyVU6no4",
        "outputId": "8c398348-61a5-467d-953a-049261a33f43"
      },
      "execution_count": null,
      "outputs": [
        {
          "output_type": "execute_result",
          "data": {
            "text/plain": [
              "(36808, 4)"
            ]
          },
          "metadata": {},
          "execution_count": 9
        }
      ]
    },
    {
      "cell_type": "code",
      "source": [
        "sns.countplot(data= train_images_df, y='body_part' ,  palette=\"pastel\")\n",
        "plt.title('Distribution of Body Parts')\n",
        "plt.show()"
      ],
      "metadata": {
        "colab": {
          "base_uri": "https://localhost:8080/"
        },
        "id": "fqEuhYmRhRdR",
        "outputId": "a4ed03a1-c4f4-4073-b472-0f2d1c65986d"
      },
      "execution_count": null,
      "outputs": [
        {
          "output_type": "display_data",
          "data": {
            "text/plain": [
              "<Figure size 640x480 with 1 Axes>"
            ],
            "image/png": "[encoded data removed]"
          },
          "metadata": {}
        }
      ]
    },
    {
      "cell_type": "code",
      "source": [
        "train_images_df=train_images_df[train_images_df['body_part']=='XR_SHOULDER']"
      ],
      "metadata": {
        "id": "FJcaKG6PhkXz"
      },
      "execution_count": null,
      "outputs": []
    },
    {
      "cell_type": "code",
      "source": [
        "train_images_df.head"
      ],
      "metadata": {
        "colab": {
          "base_uri": "https://localhost:8080/"
        },
        "id": "1DubVaSNhvwB",
        "outputId": "d4c47dfc-252b-4271-e17e-d7d361c28181"
      },
      "execution_count": null,
      "outputs": [
        {
          "output_type": "execute_result",
          "data": {
            "text/plain": [
              "<bound method NDFrame.head of                                                   paths label    body_part  \\\n",
              "0     /content/drive/My Drive/Project/MURA-v1.1/trai...     1  XR_SHOULDER   \n",
              "1     /content/drive/My Drive/Project/MURA-v1.1/trai...     1  XR_SHOULDER   \n",
              "2     /content/drive/My Drive/Project/MURA-v1.1/trai...     1  XR_SHOULDER   \n",
              "3     /content/drive/My Drive/Project/MURA-v1.1/trai...     1  XR_SHOULDER   \n",
              "4     /content/drive/My Drive/Project/MURA-v1.1/trai...     1  XR_SHOULDER   \n",
              "...                                                 ...   ...          ...   \n",
              "8374  /content/drive/My Drive/Project/MURA-v1.1/trai...     0  XR_SHOULDER   \n",
              "8375  /content/drive/My Drive/Project/MURA-v1.1/trai...     0  XR_SHOULDER   \n",
              "8376  /content/drive/My Drive/Project/MURA-v1.1/trai...     0  XR_SHOULDER   \n",
              "8377  /content/drive/My Drive/Project/MURA-v1.1/trai...     0  XR_SHOULDER   \n",
              "8378  /content/drive/My Drive/Project/MURA-v1.1/trai...     0  XR_SHOULDER   \n",
              "\n",
              "      label_index  \n",
              "0               6  \n",
              "1               6  \n",
              "2               6  \n",
              "3               6  \n",
              "4               6  \n",
              "...           ...  \n",
              "8374            6  \n",
              "8375            6  \n",
              "8376            6  \n",
              "8377            6  \n",
              "8378            6  \n",
              "\n",
              "[8379 rows x 4 columns]>"
            ]
          },
          "metadata": {},
          "execution_count": 12
        }
      ]
    },
    {
      "cell_type": "code",
      "source": [
        "train_images_df.shape"
      ],
      "metadata": {
        "colab": {
          "base_uri": "https://localhost:8080/"
        },
        "id": "sixNNR5aiEZK",
        "outputId": "fb6ce9b3-1621-476b-c083-ecb7a689f13d"
      },
      "execution_count": null,
      "outputs": [
        {
          "output_type": "execute_result",
          "data": {
            "text/plain": [
              "(8379, 4)"
            ]
          },
          "metadata": {},
          "execution_count": 13
        }
      ]
    },
    {
      "cell_type": "code",
      "source": [
        "plt.figure(figsize=(10, 6))\n",
        "sns.countplot(data= train_images_df , x='body_part', hue='label' ,  palette=\"pastel\")\n",
        "plt.title('Distribution of Body Parts with Respect to Labels')\n",
        "plt.xlabel('humerus')\n",
        "plt.ylabel('Count')\n",
        "plt.legend(title='Label', loc='lower right', labels=['Negative(0)', 'Positive(1)'])\n",
        "plt.tight_layout()\n",
        "plt.show()"
      ],
      "metadata": {
        "colab": {
          "base_uri": "https://localhost:8080/"
        },
        "id": "lBdJ7JEqWVcf",
        "outputId": "f3e09738-3fd0-4f41-c3f8-67616582c811"
      },
      "execution_count": null,
      "outputs": [
        {
          "output_type": "display_data",
          "data": {
            "text/plain": [
              "<Figure size 1000x600 with 1 Axes>"
            ],
            "image/png": "[encoded data removed]"
          },
          "metadata": {}
        }
      ]
    },
    {
      "cell_type": "markdown",
      "source": [
        "#load test dataset for shoulder"
      ],
      "metadata": {
        "id": "Pzvza0hlYraV"
      }
    },
    {
      "cell_type": "code",
      "source": [
        "#defining base path\n",
        "base_path = \"/content/drive/My Drive/Project/MURA-v1.1\"\n",
        "#construct the file path to the CSV file named \"train_image_paths.csv\" by joining the base_path and the CSV file's name using the os.path.join\n",
        "test_image_csv_path = os.path.join(base_path, \"valid_image_paths.csv\")\n",
        "#will read the above csv file and save in the data frame with column name paths\n",
        "test_images_df = pd.read_csv(test_image_csv_path, names=['paths'])\n",
        "#create complete file paths for each X-ray image.\n",
        "test_images_df[\"paths\"] = \"/content/drive/My Drive/Project/\" + test_images_df[\"paths\"]\n",
        "#create new column label in the dataframe  will indicate +ve or -ve\n",
        "# If a path contains the word 'positive,' it is assigned a label of 1 (abnormal), and if not, it's assigned a label of 0 (normal).\n",
        "test_images_df['label'] = test_images_df['paths'].str.contains('positive').astype(int)\n",
        "# It extracts the seventh element (index 7) of each path after splitting the path using '/'\n",
        "test_images_df['body_part'] = test_images_df['paths'].str.split('/').str[7]\n",
        "#  'label' column was initially created as integers (0 or 1), it is now converted to strings.\n",
        "test_images_df['label'] = test_images_df['label'].astype(str)"
      ],
      "metadata": {
        "id": "5PFO0hLnXJa3"
      },
      "execution_count": 3,
      "outputs": []
    },
    {
      "cell_type": "code",
      "source": [
        "test_images_df['label_index']= test_images_df.body_part"
      ],
      "metadata": {
        "id": "NX4A9za6aYbo"
      },
      "execution_count": 4,
      "outputs": []
    },
    {
      "cell_type": "code",
      "source": [
        "test_images_df.label_index.replace('XR_SHOULDER', 6, inplace=True)\n",
        "test_images_df.label_index.replace('XR_HUMERUS', 5, inplace=True)\n",
        "test_images_df.label_index.replace('XR_FINGER', 4, inplace=True)\n",
        "test_images_df.label_index.replace('XR_ELBOW', 3, inplace=True)\n",
        "test_images_df.label_index.replace('XR_WRIST', 2, inplace=True)\n",
        "test_images_df.label_index.replace('XR_FOREARM', 1, inplace=True)\n",
        "test_images_df.label_index.replace('XR_HAND', 0, inplace=True)"
      ],
      "metadata": {
        "id": "SB1n2h0RX9e_"
      },
      "execution_count": 5,
      "outputs": []
    },
    {
      "cell_type": "code",
      "source": [
        "test_images_df"
      ],
      "metadata": {
        "id": "P46nXiS6YF8e",
        "colab": {
          "base_uri": "https://localhost:8080/",
          "height": 0
        },
        "outputId": "4bb6559f-720d-46ba-ded5-dde861d9120d"
      },
      "execution_count": 6,
      "outputs": [
        {
          "output_type": "execute_result",
          "data": {
            "text/plain": [
              "                                                  paths label  body_part  \\\n",
              "0     /content/drive/My Drive/Project/MURA-v1.1/vali...     1   XR_WRIST   \n",
              "1     /content/drive/My Drive/Project/MURA-v1.1/vali...     1   XR_WRIST   \n",
              "2     /content/drive/My Drive/Project/MURA-v1.1/vali...     1   XR_WRIST   \n",
              "3     /content/drive/My Drive/Project/MURA-v1.1/vali...     1   XR_WRIST   \n",
              "4     /content/drive/My Drive/Project/MURA-v1.1/vali...     1   XR_WRIST   \n",
              "...                                                 ...   ...        ...   \n",
              "3192  /content/drive/My Drive/Project/MURA-v1.1/vali...     0  XR_FINGER   \n",
              "3193  /content/drive/My Drive/Project/MURA-v1.1/vali...     0  XR_FINGER   \n",
              "3194  /content/drive/My Drive/Project/MURA-v1.1/vali...     0  XR_FINGER   \n",
              "3195  /content/drive/My Drive/Project/MURA-v1.1/vali...     0  XR_FINGER   \n",
              "3196  /content/drive/My Drive/Project/MURA-v1.1/vali...     0  XR_FINGER   \n",
              "\n",
              "      label_index  \n",
              "0               2  \n",
              "1               2  \n",
              "2               2  \n",
              "3               2  \n",
              "4               2  \n",
              "...           ...  \n",
              "3192            4  \n",
              "3193            4  \n",
              "3194            4  \n",
              "3195            4  \n",
              "3196            4  \n",
              "\n",
              "[3197 rows x 4 columns]"
            ],
            "text/html": [
              "\n",
              "  <div id=\"df-739ff123-0f3a-4d99-ad15-3628b7c05332\" class=\"colab-df-container\">\n",
              "    <div>\n",
              "<style scoped>\n",
              "    .dataframe tbody tr th:only-of-type {\n",
              "        vertical-align: middle;\n",
              "    }\n",
              "\n",
              "    .dataframe tbody tr th {\n",
              "        vertical-align: top;\n",
              "    }\n",
              "\n",
              "    .dataframe thead th {\n",
              "        text-align: right;\n",
              "    }\n",
              "</style>\n",
              "<table border=\"1\" class=\"dataframe\">\n",
              "  <thead>\n",
              "    <tr style=\"text-align: right;\">\n",
              "      <th></th>\n",
              "      <th>paths</th>\n",
              "      <th>label</th>\n",
              "      <th>body_part</th>\n",
              "      <th>label_index</th>\n",
              "    </tr>\n",
              "  </thead>\n",
              "  <tbody>\n",
              "    <tr>\n",
              "      <th>0</th>\n",
              "      <td>/content/drive/My Drive/Project/MURA-v1.1/vali...</td>\n",
              "      <td>1</td>\n",
              "      <td>XR_WRIST</td>\n",
              "      <td>2</td>\n",
              "    </tr>\n",
              "    <tr>\n",
              "      <th>1</th>\n",
              "      <td>/content/drive/My Drive/Project/MURA-v1.1/vali...</td>\n",
              "      <td>1</td>\n",
              "      <td>XR_WRIST</td>\n",
              "      <td>2</td>\n",
              "    </tr>\n",
              "    <tr>\n",
              "      <th>2</th>\n",
              "      <td>/content/drive/My Drive/Project/MURA-v1.1/vali...</td>\n",
              "      <td>1</td>\n",
              "      <td>XR_WRIST</td>\n",
              "      <td>2</td>\n",
              "    </tr>\n",
              "    <tr>\n",
              "      <th>3</th>\n",
              "      <td>/content/drive/My Drive/Project/MURA-v1.1/vali...</td>\n",
              "      <td>1</td>\n",
              "      <td>XR_WRIST</td>\n",
              "      <td>2</td>\n",
              "    </tr>\n",
              "    <tr>\n",
              "      <th>4</th>\n",
              "      <td>/content/drive/My Drive/Project/MURA-v1.1/vali...</td>\n",
              "      <td>1</td>\n",
              "      <td>XR_WRIST</td>\n",
              "      <td>2</td>\n",
              "    </tr>\n",
              "    <tr>\n",
              "      <th>...</th>\n",
              "      <td>...</td>\n",
              "      <td>...</td>\n",
              "      <td>...</td>\n",
              "      <td>...</td>\n",
              "    </tr>\n",
              "    <tr>\n",
              "      <th>3192</th>\n",
              "      <td>/content/drive/My Drive/Project/MURA-v1.1/vali...</td>\n",
              "      <td>0</td>\n",
              "      <td>XR_FINGER</td>\n",
              "      <td>4</td>\n",
              "    </tr>\n",
              "    <tr>\n",
              "      <th>3193</th>\n",
              "      <td>/content/drive/My Drive/Project/MURA-v1.1/vali...</td>\n",
              "      <td>0</td>\n",
              "      <td>XR_FINGER</td>\n",
              "      <td>4</td>\n",
              "    </tr>\n",
              "    <tr>\n",
              "      <th>3194</th>\n",
              "      <td>/content/drive/My Drive/Project/MURA-v1.1/vali...</td>\n",
              "      <td>0</td>\n",
              "      <td>XR_FINGER</td>\n",
              "      <td>4</td>\n",
              "    </tr>\n",
              "    <tr>\n",
              "      <th>3195</th>\n",
              "      <td>/content/drive/My Drive/Project/MURA-v1.1/vali...</td>\n",
              "      <td>0</td>\n",
              "      <td>XR_FINGER</td>\n",
              "      <td>4</td>\n",
              "    </tr>\n",
              "    <tr>\n",
              "      <th>3196</th>\n",
              "      <td>/content/drive/My Drive/Project/MURA-v1.1/vali...</td>\n",
              "      <td>0</td>\n",
              "      <td>XR_FINGER</td>\n",
              "      <td>4</td>\n",
              "    </tr>\n",
              "  </tbody>\n",
              "</table>\n",
              "<p>3197 rows × 4 columns</p>\n",
              "</div>\n",
              "    <div class=\"colab-df-buttons\">\n",
              "\n",
              "  <div class=\"colab-df-container\">\n",
              "    <button class=\"colab-df-convert\" onclick=\"convertToInteractive('df-739ff123-0f3a-4d99-ad15-3628b7c05332')\"\n",
              "            title=\"Convert this dataframe to an interactive table.\"\n",
              "            style=\"display:none;\">\n",
              "\n",
              "  <svg xmlns=\"http://www.w3.org/2000/svg\" height=\"24px\" viewBox=\"0 -960 960 960\">\n",
              "    <path d=\"M120-120v-720h720v720H120Zm60-500h600v-160H180v160Zm220 220h160v-160H400v160Zm0 220h160v-160H400v160ZM180-400h160v-160H180v160Zm440 0h160v-160H620v160ZM180-180h160v-160H180v160Zm440 0h160v-160H620v160Z\"/>\n",
              "  </svg>\n",
              "    </button>\n",
              "\n",
              "  <style>\n",
              "    .colab-df-container {\n",
              "      display:flex;\n",
              "      gap: 12px;\n",
              "    }\n",
              "\n",
              "    .colab-df-convert {\n",
              "      background-color: #E8F0FE;\n",
              "      border: none;\n",
              "      border-radius: 50%;\n",
              "      cursor: pointer;\n",
              "      display: none;\n",
              "      fill: #1967D2;\n",
              "      height: 32px;\n",
              "      padding: 0 0 0 0;\n",
              "      width: 32px;\n",
              "    }\n",
              "\n",
              "    .colab-df-convert:hover {\n",
              "      background-color: #E2EBFA;\n",
              "      box-shadow: 0px 1px 2px rgba(60, 64, 67, 0.3), 0px 1px 3px 1px rgba(60, 64, 67, 0.15);\n",
              "      fill: #174EA6;\n",
              "    }\n",
              "\n",
              "    .colab-df-buttons div {\n",
              "      margin-bottom: 4px;\n",
              "    }\n",
              "\n",
              "    [theme=dark] .colab-df-convert {\n",
              "      background-color: #3B4455;\n",
              "      fill: #D2E3FC;\n",
              "    }\n",
              "\n",
              "    [theme=dark] .colab-df-convert:hover {\n",
              "      background-color: #434B5C;\n",
              "      box-shadow: 0px 1px 3px 1px rgba(0, 0, 0, 0.15);\n",
              "      filter: drop-shadow(0px 1px 2px rgba(0, 0, 0, 0.3));\n",
              "      fill: #FFFFFF;\n",
              "    }\n",
              "  </style>\n",
              "\n",
              "    <script>\n",
              "      const buttonEl =\n",
              "        document.querySelector('#df-739ff123-0f3a-4d99-ad15-3628b7c05332 button.colab-df-convert');\n",
              "      buttonEl.style.display =\n",
              "        google.colab.kernel.accessAllowed ? 'block' : 'none';\n",
              "\n",
              "      async function convertToInteractive(key) {\n",
              "        const element = document.querySelector('#df-739ff123-0f3a-4d99-ad15-3628b7c05332');\n",
              "        const dataTable =\n",
              "          await google.colab.kernel.invokeFunction('convertToInteractive',\n",
              "                                                    [key], {});\n",
              "        if (!dataTable) return;\n",
              "\n",
              "        const docLinkHtml = 'Like what you see? Visit the ' +\n",
              "          '<a target=\"_blank\" href=https://colab.research.google.com/notebooks/data_table.ipynb>data table notebook</a>'\n",
              "          + ' to learn more about interactive tables.';\n",
              "        element.innerHTML = '';\n",
              "        dataTable['output_type'] = 'display_data';\n",
              "        await google.colab.output.renderOutput(dataTable, element);\n",
              "        const docLink = document.createElement('div');\n",
              "        docLink.innerHTML = docLinkHtml;\n",
              "        element.appendChild(docLink);\n",
              "      }\n",
              "    </script>\n",
              "  </div>\n",
              "\n",
              "\n",
              "<div id=\"df-71d74eef-16e0-4739-960b-b7e28a3add4b\">\n",
              "  <button class=\"colab-df-quickchart\" onclick=\"quickchart('df-71d74eef-16e0-4739-960b-b7e28a3add4b')\"\n",
              "            title=\"Suggest charts\"\n",
              "            style=\"display:none;\">\n",
              "\n",
              "<svg xmlns=\"http://www.w3.org/2000/svg\" height=\"24px\"viewBox=\"0 0 24 24\"\n",
              "     width=\"24px\">\n",
              "    <g>\n",
              "        <path d=\"M19 3H5c-1.1 0-2 .9-2 2v14c0 1.1.9 2 2 2h14c1.1 0 2-.9 2-2V5c0-1.1-.9-2-2-2zM9 17H7v-7h2v7zm4 0h-2V7h2v10zm4 0h-2v-4h2v4z\"/>\n",
              "    </g>\n",
              "</svg>\n",
              "  </button>\n",
              "\n",
              "<style>\n",
              "  .colab-df-quickchart {\n",
              "      --bg-color: #E8F0FE;\n",
              "      --fill-color: #1967D2;\n",
              "      --hover-bg-color: #E2EBFA;\n",
              "      --hover-fill-color: #174EA6;\n",
              "      --disabled-fill-color: #AAA;\n",
              "      --disabled-bg-color: #DDD;\n",
              "  }\n",
              "\n",
              "  [theme=dark] .colab-df-quickchart {\n",
              "      --bg-color: #3B4455;\n",
              "      --fill-color: #D2E3FC;\n",
              "      --hover-bg-color: #434B5C;\n",
              "      --hover-fill-color: #FFFFFF;\n",
              "      --disabled-bg-color: #3B4455;\n",
              "      --disabled-fill-color: #666;\n",
              "  }\n",
              "\n",
              "  .colab-df-quickchart {\n",
              "    background-color: var(--bg-color);\n",
              "    border: none;\n",
              "    border-radius: 50%;\n",
              "    cursor: pointer;\n",
              "    display: none;\n",
              "    fill: var(--fill-color);\n",
              "    height: 32px;\n",
              "    padding: 0;\n",
              "    width: 32px;\n",
              "  }\n",
              "\n",
              "  .colab-df-quickchart:hover {\n",
              "    background-color: var(--hover-bg-color);\n",
              "    box-shadow: 0 1px 2px rgba(60, 64, 67, 0.3), 0 1px 3px 1px rgba(60, 64, 67, 0.15);\n",
              "    fill: var(--button-hover-fill-color);\n",
              "  }\n",
              "\n",
              "  .colab-df-quickchart-complete:disabled,\n",
              "  .colab-df-quickchart-complete:disabled:hover {\n",
              "    background-color: var(--disabled-bg-color);\n",
              "    fill: var(--disabled-fill-color);\n",
              "    box-shadow: none;\n",
              "  }\n",
              "\n",
              "  .colab-df-spinner {\n",
              "    border: 2px solid var(--fill-color);\n",
              "    border-color: transparent;\n",
              "    border-bottom-color: var(--fill-color);\n",
              "    animation:\n",
              "      spin 1s steps(1) infinite;\n",
              "  }\n",
              "\n",
              "  @keyframes spin {\n",
              "    0% {\n",
              "      border-color: transparent;\n",
              "      border-bottom-color: var(--fill-color);\n",
              "      border-left-color: var(--fill-color);\n",
              "    }\n",
              "    20% {\n",
              "      border-color: transparent;\n",
              "      border-left-color: var(--fill-color);\n",
              "      border-top-color: var(--fill-color);\n",
              "    }\n",
              "    30% {\n",
              "      border-color: transparent;\n",
              "      border-left-color: var(--fill-color);\n",
              "      border-top-color: var(--fill-color);\n",
              "      border-right-color: var(--fill-color);\n",
              "    }\n",
              "    40% {\n",
              "      border-color: transparent;\n",
              "      border-right-color: var(--fill-color);\n",
              "      border-top-color: var(--fill-color);\n",
              "    }\n",
              "    60% {\n",
              "      border-color: transparent;\n",
              "      border-right-color: var(--fill-color);\n",
              "    }\n",
              "    80% {\n",
              "      border-color: transparent;\n",
              "      border-right-color: var(--fill-color);\n",
              "      border-bottom-color: var(--fill-color);\n",
              "    }\n",
              "    90% {\n",
              "      border-color: transparent;\n",
              "      border-bottom-color: var(--fill-color);\n",
              "    }\n",
              "  }\n",
              "</style>\n",
              "\n",
              "  <script>\n",
              "    async function quickchart(key) {\n",
              "      const quickchartButtonEl =\n",
              "        document.querySelector('#' + key + ' button');\n",
              "      quickchartButtonEl.disabled = true;  // To prevent multiple clicks.\n",
              "      quickchartButtonEl.classList.add('colab-df-spinner');\n",
              "      try {\n",
              "        const charts = await google.colab.kernel.invokeFunction(\n",
              "            'suggestCharts', [key], {});\n",
              "      } catch (error) {\n",
              "        console.error('Error during call to suggestCharts:', error);\n",
              "      }\n",
              "      quickchartButtonEl.classList.remove('colab-df-spinner');\n",
              "      quickchartButtonEl.classList.add('colab-df-quickchart-complete');\n",
              "    }\n",
              "    (() => {\n",
              "      let quickchartButtonEl =\n",
              "        document.querySelector('#df-71d74eef-16e0-4739-960b-b7e28a3add4b button');\n",
              "      quickchartButtonEl.style.display =\n",
              "        google.colab.kernel.accessAllowed ? 'block' : 'none';\n",
              "    })();\n",
              "  </script>\n",
              "</div>\n",
              "\n",
              "  <div id=\"id_aafe6c06-8809-4e4b-8d5f-5a354f5df920\">\n",
              "    <style>\n",
              "      .colab-df-generate {\n",
              "        background-color: #E8F0FE;\n",
              "        border: none;\n",
              "        border-radius: 50%;\n",
              "        cursor: pointer;\n",
              "        display: none;\n",
              "        fill: #1967D2;\n",
              "        height: 32px;\n",
              "        padding: 0 0 0 0;\n",
              "        width: 32px;\n",
              "      }\n",
              "\n",
              "      .colab-df-generate:hover {\n",
              "        background-color: #E2EBFA;\n",
              "        box-shadow: 0px 1px 2px rgba(60, 64, 67, 0.3), 0px 1px 3px 1px rgba(60, 64, 67, 0.15);\n",
              "        fill: #174EA6;\n",
              "      }\n",
              "\n",
              "      [theme=dark] .colab-df-generate {\n",
              "        background-color: #3B4455;\n",
              "        fill: #D2E3FC;\n",
              "      }\n",
              "\n",
              "      [theme=dark] .colab-df-generate:hover {\n",
              "        background-color: #434B5C;\n",
              "        box-shadow: 0px 1px 3px 1px rgba(0, 0, 0, 0.15);\n",
              "        filter: drop-shadow(0px 1px 2px rgba(0, 0, 0, 0.3));\n",
              "        fill: #FFFFFF;\n",
              "      }\n",
              "    </style>\n",
              "    <button class=\"colab-df-generate\" onclick=\"generateWithVariable('test_images_df')\"\n",
              "            title=\"Generate code using this dataframe.\"\n",
              "            style=\"display:none;\">\n",
              "\n",
              "  <svg xmlns=\"http://www.w3.org/2000/svg\" height=\"24px\"viewBox=\"0 0 24 24\"\n",
              "       width=\"24px\">\n",
              "    <path d=\"M7,19H8.4L18.45,9,17,7.55,7,17.6ZM5,21V16.75L18.45,3.32a2,2,0,0,1,2.83,0l1.4,1.43a1.91,1.91,0,0,1,.58,1.4,1.91,1.91,0,0,1-.58,1.4L9.25,21ZM18.45,9,17,7.55Zm-12,3A5.31,5.31,0,0,0,4.9,8.1,5.31,5.31,0,0,0,1,6.5,5.31,5.31,0,0,0,4.9,4.9,5.31,5.31,0,0,0,6.5,1,5.31,5.31,0,0,0,8.1,4.9,5.31,5.31,0,0,0,12,6.5,5.46,5.46,0,0,0,6.5,12Z\"/>\n",
              "  </svg>\n",
              "    </button>\n",
              "    <script>\n",
              "      (() => {\n",
              "      const buttonEl =\n",
              "        document.querySelector('#id_aafe6c06-8809-4e4b-8d5f-5a354f5df920 button.colab-df-generate');\n",
              "      buttonEl.style.display =\n",
              "        google.colab.kernel.accessAllowed ? 'block' : 'none';\n",
              "\n",
              "      buttonEl.onclick = () => {\n",
              "        google.colab.notebook.generateWithVariable('test_images_df');\n",
              "      }\n",
              "      })();\n",
              "    </script>\n",
              "  </div>\n",
              "\n",
              "    </div>\n",
              "  </div>\n"
            ]
          },
          "metadata": {},
          "execution_count": 6
        }
      ]
    },
    {
      "cell_type": "code",
      "source": [
        "test_images_df.info()"
      ],
      "metadata": {
        "colab": {
          "base_uri": "https://localhost:8080/"
        },
        "id": "1bg5RqmDbKRg",
        "outputId": "79399491-2752-48d7-a064-30f425cce6e4"
      },
      "execution_count": 7,
      "outputs": [
        {
          "output_type": "stream",
          "name": "stdout",
          "text": [
            "<class 'pandas.core.frame.DataFrame'>\n",
            "RangeIndex: 3197 entries, 0 to 3196\n",
            "Data columns (total 4 columns):\n",
            " #   Column       Non-Null Count  Dtype \n",
            "---  ------       --------------  ----- \n",
            " 0   paths        3197 non-null   object\n",
            " 1   label        3197 non-null   object\n",
            " 2   body_part    3197 non-null   object\n",
            " 3   label_index  3197 non-null   int64 \n",
            "dtypes: int64(1), object(3)\n",
            "memory usage: 100.0+ KB\n"
          ]
        }
      ]
    },
    {
      "cell_type": "code",
      "source": [
        "test_images_df.shape"
      ],
      "metadata": {
        "colab": {
          "base_uri": "https://localhost:8080/"
        },
        "id": "VNZTOiYB6Lsn",
        "outputId": "d45bd3fc-43a3-4efe-93ae-fd078a34fbd4"
      },
      "execution_count": 8,
      "outputs": [
        {
          "output_type": "execute_result",
          "data": {
            "text/plain": [
              "(3197, 4)"
            ]
          },
          "metadata": {},
          "execution_count": 8
        }
      ]
    },
    {
      "cell_type": "code",
      "source": [
        "sns.countplot(data= test_images_df, y='body_part' ,  palette=\"pastel\")\n",
        "plt.title('Distribution of Body Parts')\n",
        "plt.show()"
      ],
      "metadata": {
        "colab": {
          "base_uri": "https://localhost:8080/",
          "height": 0
        },
        "id": "kJULXM51g6vI",
        "outputId": "731b4e5b-c675-42c5-f962-32b403b8e89b"
      },
      "execution_count": 9,
      "outputs": [
        {
          "output_type": "display_data",
          "data": {
            "text/plain": [
              "<Figure size 640x480 with 1 Axes>"
            ],
            "image/png": "[encoded data removed]"
          },
          "metadata": {}
        }
      ]
    },
    {
      "cell_type": "code",
      "source": [
        "test_images_df=test_images_df[test_images_df['body_part']=='XR_SHOULDER']"
      ],
      "metadata": {
        "id": "f4T2OgD6idgh"
      },
      "execution_count": 10,
      "outputs": []
    },
    {
      "cell_type": "code",
      "source": [
        "test_images_df.head()"
      ],
      "metadata": {
        "colab": {
          "base_uri": "https://localhost:8080/",
          "height": 0
        },
        "id": "C0hD4sHliieM",
        "outputId": "53e5a83d-d8cc-489c-d7f4-d7bf37d42e67"
      },
      "execution_count": 11,
      "outputs": [
        {
          "output_type": "execute_result",
          "data": {
            "text/plain": [
              "                                                  paths label    body_part  \\\n",
              "1708  /content/drive/My Drive/Project/MURA-v1.1/vali...     1  XR_SHOULDER   \n",
              "1709  /content/drive/My Drive/Project/MURA-v1.1/vali...     1  XR_SHOULDER   \n",
              "1710  /content/drive/My Drive/Project/MURA-v1.1/vali...     1  XR_SHOULDER   \n",
              "1711  /content/drive/My Drive/Project/MURA-v1.1/vali...     1  XR_SHOULDER   \n",
              "1712  /content/drive/My Drive/Project/MURA-v1.1/vali...     1  XR_SHOULDER   \n",
              "\n",
              "      label_index  \n",
              "1708            6  \n",
              "1709            6  \n",
              "1710            6  \n",
              "1711            6  \n",
              "1712            6  "
            ],
            "text/html": [
              "\n",
              "  <div id=\"df-76d4be28-43d6-4e98-a14b-7b17d460ac12\" class=\"colab-df-container\">\n",
              "    <div>\n",
              "<style scoped>\n",
              "    .dataframe tbody tr th:only-of-type {\n",
              "        vertical-align: middle;\n",
              "    }\n",
              "\n",
              "    .dataframe tbody tr th {\n",
              "        vertical-align: top;\n",
              "    }\n",
              "\n",
              "    .dataframe thead th {\n",
              "        text-align: right;\n",
              "    }\n",
              "</style>\n",
              "<table border=\"1\" class=\"dataframe\">\n",
              "  <thead>\n",
              "    <tr style=\"text-align: right;\">\n",
              "      <th></th>\n",
              "      <th>paths</th>\n",
              "      <th>label</th>\n",
              "      <th>body_part</th>\n",
              "      <th>label_index</th>\n",
              "    </tr>\n",
              "  </thead>\n",
              "  <tbody>\n",
              "    <tr>\n",
              "      <th>1708</th>\n",
              "      <td>/content/drive/My Drive/Project/MURA-v1.1/vali...</td>\n",
              "      <td>1</td>\n",
              "      <td>XR_SHOULDER</td>\n",
              "      <td>6</td>\n",
              "    </tr>\n",
              "    <tr>\n",
              "      <th>1709</th>\n",
              "      <td>/content/drive/My Drive/Project/MURA-v1.1/vali...</td>\n",
              "      <td>1</td>\n",
              "      <td>XR_SHOULDER</td>\n",
              "      <td>6</td>\n",
              "    </tr>\n",
              "    <tr>\n",
              "      <th>1710</th>\n",
              "      <td>/content/drive/My Drive/Project/MURA-v1.1/vali...</td>\n",
              "      <td>1</td>\n",
              "      <td>XR_SHOULDER</td>\n",
              "      <td>6</td>\n",
              "    </tr>\n",
              "    <tr>\n",
              "      <th>1711</th>\n",
              "      <td>/content/drive/My Drive/Project/MURA-v1.1/vali...</td>\n",
              "      <td>1</td>\n",
              "      <td>XR_SHOULDER</td>\n",
              "      <td>6</td>\n",
              "    </tr>\n",
              "    <tr>\n",
              "      <th>1712</th>\n",
              "      <td>/content/drive/My Drive/Project/MURA-v1.1/vali...</td>\n",
              "      <td>1</td>\n",
              "      <td>XR_SHOULDER</td>\n",
              "      <td>6</td>\n",
              "    </tr>\n",
              "  </tbody>\n",
              "</table>\n",
              "</div>\n",
              "    <div class=\"colab-df-buttons\">\n",
              "\n",
              "  <div class=\"colab-df-container\">\n",
              "    <button class=\"colab-df-convert\" onclick=\"convertToInteractive('df-76d4be28-43d6-4e98-a14b-7b17d460ac12')\"\n",
              "            title=\"Convert this dataframe to an interactive table.\"\n",
              "            style=\"display:none;\">\n",
              "\n",
              "  <svg xmlns=\"http://www.w3.org/2000/svg\" height=\"24px\" viewBox=\"0 -960 960 960\">\n",
              "    <path d=\"M120-120v-720h720v720H120Zm60-500h600v-160H180v160Zm220 220h160v-160H400v160Zm0 220h160v-160H400v160ZM180-400h160v-160H180v160Zm440 0h160v-160H620v160ZM180-180h160v-160H180v160Zm440 0h160v-160H620v160Z\"/>\n",
              "  </svg>\n",
              "    </button>\n",
              "\n",
              "  <style>\n",
              "    .colab-df-container {\n",
              "      display:flex;\n",
              "      gap: 12px;\n",
              "    }\n",
              "\n",
              "    .colab-df-convert {\n",
              "      background-color: #E8F0FE;\n",
              "      border: none;\n",
              "      border-radius: 50%;\n",
              "      cursor: pointer;\n",
              "      display: none;\n",
              "      fill: #1967D2;\n",
              "      height: 32px;\n",
              "      padding: 0 0 0 0;\n",
              "      width: 32px;\n",
              "    }\n",
              "\n",
              "    .colab-df-convert:hover {\n",
              "      background-color: #E2EBFA;\n",
              "      box-shadow: 0px 1px 2px rgba(60, 64, 67, 0.3), 0px 1px 3px 1px rgba(60, 64, 67, 0.15);\n",
              "      fill: #174EA6;\n",
              "    }\n",
              "\n",
              "    .colab-df-buttons div {\n",
              "      margin-bottom: 4px;\n",
              "    }\n",
              "\n",
              "    [theme=dark] .colab-df-convert {\n",
              "      background-color: #3B4455;\n",
              "      fill: #D2E3FC;\n",
              "    }\n",
              "\n",
              "    [theme=dark] .colab-df-convert:hover {\n",
              "      background-color: #434B5C;\n",
              "      box-shadow: 0px 1px 3px 1px rgba(0, 0, 0, 0.15);\n",
              "      filter: drop-shadow(0px 1px 2px rgba(0, 0, 0, 0.3));\n",
              "      fill: #FFFFFF;\n",
              "    }\n",
              "  </style>\n",
              "\n",
              "    <script>\n",
              "      const buttonEl =\n",
              "        document.querySelector('#df-76d4be28-43d6-4e98-a14b-7b17d460ac12 button.colab-df-convert');\n",
              "      buttonEl.style.display =\n",
              "        google.colab.kernel.accessAllowed ? 'block' : 'none';\n",
              "\n",
              "      async function convertToInteractive(key) {\n",
              "        const element = document.querySelector('#df-76d4be28-43d6-4e98-a14b-7b17d460ac12');\n",
              "        const dataTable =\n",
              "          await google.colab.kernel.invokeFunction('convertToInteractive',\n",
              "                                                    [key], {});\n",
              "        if (!dataTable) return;\n",
              "\n",
              "        const docLinkHtml = 'Like what you see? Visit the ' +\n",
              "          '<a target=\"_blank\" href=https://colab.research.google.com/notebooks/data_table.ipynb>data table notebook</a>'\n",
              "          + ' to learn more about interactive tables.';\n",
              "        element.innerHTML = '';\n",
              "        dataTable['output_type'] = 'display_data';\n",
              "        await google.colab.output.renderOutput(dataTable, element);\n",
              "        const docLink = document.createElement('div');\n",
              "        docLink.innerHTML = docLinkHtml;\n",
              "        element.appendChild(docLink);\n",
              "      }\n",
              "    </script>\n",
              "  </div>\n",
              "\n",
              "\n",
              "<div id=\"df-9f942660-30c4-4837-9572-0ab74a524b64\">\n",
              "  <button class=\"colab-df-quickchart\" onclick=\"quickchart('df-9f942660-30c4-4837-9572-0ab74a524b64')\"\n",
              "            title=\"Suggest charts\"\n",
              "            style=\"display:none;\">\n",
              "\n",
              "<svg xmlns=\"http://www.w3.org/2000/svg\" height=\"24px\"viewBox=\"0 0 24 24\"\n",
              "     width=\"24px\">\n",
              "    <g>\n",
              "        <path d=\"M19 3H5c-1.1 0-2 .9-2 2v14c0 1.1.9 2 2 2h14c1.1 0 2-.9 2-2V5c0-1.1-.9-2-2-2zM9 17H7v-7h2v7zm4 0h-2V7h2v10zm4 0h-2v-4h2v4z\"/>\n",
              "    </g>\n",
              "</svg>\n",
              "  </button>\n",
              "\n",
              "<style>\n",
              "  .colab-df-quickchart {\n",
              "      --bg-color: #E8F0FE;\n",
              "      --fill-color: #1967D2;\n",
              "      --hover-bg-color: #E2EBFA;\n",
              "      --hover-fill-color: #174EA6;\n",
              "      --disabled-fill-color: #AAA;\n",
              "      --disabled-bg-color: #DDD;\n",
              "  }\n",
              "\n",
              "  [theme=dark] .colab-df-quickchart {\n",
              "      --bg-color: #3B4455;\n",
              "      --fill-color: #D2E3FC;\n",
              "      --hover-bg-color: #434B5C;\n",
              "      --hover-fill-color: #FFFFFF;\n",
              "      --disabled-bg-color: #3B4455;\n",
              "      --disabled-fill-color: #666;\n",
              "  }\n",
              "\n",
              "  .colab-df-quickchart {\n",
              "    background-color: var(--bg-color);\n",
              "    border: none;\n",
              "    border-radius: 50%;\n",
              "    cursor: pointer;\n",
              "    display: none;\n",
              "    fill: var(--fill-color);\n",
              "    height: 32px;\n",
              "    padding: 0;\n",
              "    width: 32px;\n",
              "  }\n",
              "\n",
              "  .colab-df-quickchart:hover {\n",
              "    background-color: var(--hover-bg-color);\n",
              "    box-shadow: 0 1px 2px rgba(60, 64, 67, 0.3), 0 1px 3px 1px rgba(60, 64, 67, 0.15);\n",
              "    fill: var(--button-hover-fill-color);\n",
              "  }\n",
              "\n",
              "  .colab-df-quickchart-complete:disabled,\n",
              "  .colab-df-quickchart-complete:disabled:hover {\n",
              "    background-color: var(--disabled-bg-color);\n",
              "    fill: var(--disabled-fill-color);\n",
              "    box-shadow: none;\n",
              "  }\n",
              "\n",
              "  .colab-df-spinner {\n",
              "    border: 2px solid var(--fill-color);\n",
              "    border-color: transparent;\n",
              "    border-bottom-color: var(--fill-color);\n",
              "    animation:\n",
              "      spin 1s steps(1) infinite;\n",
              "  }\n",
              "\n",
              "  @keyframes spin {\n",
              "    0% {\n",
              "      border-color: transparent;\n",
              "      border-bottom-color: var(--fill-color);\n",
              "      border-left-color: var(--fill-color);\n",
              "    }\n",
              "    20% {\n",
              "      border-color: transparent;\n",
              "      border-left-color: var(--fill-color);\n",
              "      border-top-color: var(--fill-color);\n",
              "    }\n",
              "    30% {\n",
              "      border-color: transparent;\n",
              "      border-left-color: var(--fill-color);\n",
              "      border-top-color: var(--fill-color);\n",
              "      border-right-color: var(--fill-color);\n",
              "    }\n",
              "    40% {\n",
              "      border-color: transparent;\n",
              "      border-right-color: var(--fill-color);\n",
              "      border-top-color: var(--fill-color);\n",
              "    }\n",
              "    60% {\n",
              "      border-color: transparent;\n",
              "      border-right-color: var(--fill-color);\n",
              "    }\n",
              "    80% {\n",
              "      border-color: transparent;\n",
              "      border-right-color: var(--fill-color);\n",
              "      border-bottom-color: var(--fill-color);\n",
              "    }\n",
              "    90% {\n",
              "      border-color: transparent;\n",
              "      border-bottom-color: var(--fill-color);\n",
              "    }\n",
              "  }\n",
              "</style>\n",
              "\n",
              "  <script>\n",
              "    async function quickchart(key) {\n",
              "      const quickchartButtonEl =\n",
              "        document.querySelector('#' + key + ' button');\n",
              "      quickchartButtonEl.disabled = true;  // To prevent multiple clicks.\n",
              "      quickchartButtonEl.classList.add('colab-df-spinner');\n",
              "      try {\n",
              "        const charts = await google.colab.kernel.invokeFunction(\n",
              "            'suggestCharts', [key], {});\n",
              "      } catch (error) {\n",
              "        console.error('Error during call to suggestCharts:', error);\n",
              "      }\n",
              "      quickchartButtonEl.classList.remove('colab-df-spinner');\n",
              "      quickchartButtonEl.classList.add('colab-df-quickchart-complete');\n",
              "    }\n",
              "    (() => {\n",
              "      let quickchartButtonEl =\n",
              "        document.querySelector('#df-9f942660-30c4-4837-9572-0ab74a524b64 button');\n",
              "      quickchartButtonEl.style.display =\n",
              "        google.colab.kernel.accessAllowed ? 'block' : 'none';\n",
              "    })();\n",
              "  </script>\n",
              "</div>\n",
              "\n",
              "    </div>\n",
              "  </div>\n"
            ]
          },
          "metadata": {},
          "execution_count": 11
        }
      ]
    },
    {
      "cell_type": "code",
      "source": [
        "plt.figure(figsize=(10, 6))\n",
        "sns.countplot(data= test_images_df , x='body_part', hue='label' ,  palette=\"pastel\")\n",
        "plt.title('Distribution of Body Parts with Respect to Labels')\n",
        "plt.xlabel('humerus')\n",
        "plt.ylabel('Count')\n",
        "plt.legend(title='Label', loc='lower right', labels=['Negative(0)', 'Positive(1)'])\n",
        "plt.tight_layout()\n",
        "plt.show()"
      ],
      "metadata": {
        "colab": {
          "base_uri": "https://localhost:8080/",
          "height": 0
        },
        "id": "OepdKLPLX5Xo",
        "outputId": "18851350-4e74-4d48-b969-3b2a1229a875"
      },
      "execution_count": 12,
      "outputs": [
        {
          "output_type": "display_data",
          "data": {
            "text/plain": [
              "<Figure size 1000x600 with 1 Axes>"
            ],
            "image/png": "[encoded data removed]"
          },
          "metadata": {}
        }
      ]
    },
    {
      "cell_type": "code",
      "source": [
        "test_images_df.shape"
      ],
      "metadata": {
        "colab": {
          "base_uri": "https://localhost:8080/"
        },
        "id": "-Nk5qGwwilW8",
        "outputId": "d00dbe11-1360-4583-9736-b8decfda142f"
      },
      "execution_count": 13,
      "outputs": [
        {
          "output_type": "execute_result",
          "data": {
            "text/plain": [
              "(563, 4)"
            ]
          },
          "metadata": {},
          "execution_count": 13
        }
      ]
    },
    {
      "cell_type": "markdown",
      "source": [
        "#Train-Test data preprocessing"
      ],
      "metadata": {
        "id": "cLdC3QeiY0d_"
      }
    },
    {
      "cell_type": "code",
      "source": [
        "# Create an image data generator for validation\n",
        "Image_Generator = ImageDataGenerator(rotation_range=30,horizontal_flip=True)\n"
      ],
      "metadata": {
        "id": "ldB7k3tkeC2H"
      },
      "execution_count": 15,
      "outputs": []
    },
    {
      "cell_type": "code",
      "source": [
        "#train data\n",
        "train_generator = Image_Generator.flow_from_dataframe(\n",
        "    dataframe=train_images_df,\n",
        "    x_col=\"paths\",\n",
        "    y_col=\"label\",\n",
        "    target_size=(224, 224),  # Match the input size of your model\n",
        "    color_mode='rgb',\n",
        "    class_mode='binary',  # Use 'binary' since we have two classes\n",
        "    batch_size=32,\n",
        "    shuffle=True\n",
        ")\n"
      ],
      "metadata": {
        "colab": {
          "base_uri": "https://localhost:8080/"
        },
        "id": "HksWI8jveEU6",
        "outputId": "a74f57e9-7c43-444d-88e8-96e151bb221b"
      },
      "execution_count": null,
      "outputs": [
        {
          "output_type": "stream",
          "name": "stdout",
          "text": [
            "Found 8379 validated image filenames belonging to 2 classes.\n"
          ]
        }
      ]
    },
    {
      "cell_type": "code",
      "source": [
        "#test data\n",
        "test_generator = Image_Generator.flow_from_dataframe(\n",
        "    dataframe=test_images_df,\n",
        "    x_col=\"paths\",\n",
        "    y_col=\"label\",\n",
        "    target_size=(224, 224),  # Match the input size of your model\n",
        "    color_mode='rgb',\n",
        "    class_mode='binary',  # Use 'binary' since we have two classes\n",
        "    batch_size=32,\n",
        "    shuffle=False  # Keep it False to match predictions with filenames\n",
        ")\n"
      ],
      "metadata": {
        "colab": {
          "base_uri": "https://localhost:8080/"
        },
        "id": "PZ1aiTdm7ZTc",
        "outputId": "94808640-fa4d-44db-91c1-7a126cc0899e"
      },
      "execution_count": 16,
      "outputs": [
        {
          "output_type": "stream",
          "name": "stdout",
          "text": [
            "Found 563 validated image filenames belonging to 2 classes.\n"
          ]
        }
      ]
    },
    {
      "cell_type": "markdown",
      "source": [
        "#CNN model"
      ],
      "metadata": {
        "id": "trJ-M22O76iW"
      }
    },
    {
      "cell_type": "code",
      "source": [
        "epochs = 50\n",
        "batch_size = 32\n",
        "input_shape = (224, 224, 1)"
      ],
      "metadata": {
        "id": "Cx-GriuRjzqL"
      },
      "execution_count": null,
      "outputs": []
    },
    {
      "cell_type": "code",
      "source": [
        "def build_model():\n",
        "    base_model = DenseNet169(input_shape=(None, None,3),\n",
        "                             weights='imagenet',\n",
        "                             include_top=False,\n",
        "                             pooling='avg')\n",
        "\n",
        "    x = base_model.output\n",
        "\n",
        "    predictions = Dense(1,activation='sigmoid')(x)\n",
        "    model = Model(inputs=base_model.input, outputs=predictions)\n",
        "    return model\n",
        "#Building a model\n",
        "model = build_model()\n",
        "model.compile(loss=BinaryFocalLoss(gamma = 2), optimizer='adam', metrics=['acc'])\n",
        "early_stop = EarlyStopping(monitor='val_loss', patience=8, verbose=1, min_delta=1e-4)\n",
        "reduce_lr = ReduceLROnPlateau(monitor='val_loss', factor=0.1, patience=1, verbose=1, min_lr=0.0001)\n",
        "callbacks_list = [early_stop, reduce_lr]"
      ],
      "metadata": {
        "id": "X-wZ_82ds5r-",
        "colab": {
          "base_uri": "https://localhost:8080/"
        },
        "outputId": "f7cfaed8-4208-492d-ea7b-462246bb65f4"
      },
      "execution_count": null,
      "outputs": [
        {
          "output_type": "stream",
          "name": "stdout",
          "text": [
            "Downloading data from https://storage.googleapis.com/tensorflow/keras-applications/densenet/densenet169_weights_tf_dim_ordering_tf_kernels_notop.h5\n",
            "51877672/51877672 [==============================] - 0s 0us/step\n"
          ]
        }
      ]
    },
    {
      "cell_type": "code",
      "source": [
        "#train the module\n",
        "model_history = model.fit(\n",
        "    train_generator,\n",
        "    epochs=epochs,\n",
        "    workers=0,\n",
        "    use_multiprocessing=False,\n",
        "    steps_per_epoch = 261,\n",
        "    validation_data=test_generator,\n",
        "    validation_steps= 17,\n",
        "    callbacks=callbacks_list\n",
        ")\n"
      ],
      "metadata": {
        "colab": {
          "base_uri": "https://localhost:8080/"
        },
        "id": "DWKSMuPxkP9L",
        "outputId": "9d27f0db-f78e-4f06-e9b1-cb2f83ef1b85"
      },
      "execution_count": null,
      "outputs": [
        {
          "output_type": "stream",
          "name": "stdout",
          "text": [
            "Epoch 1/50\n",
            "261/261 [==============================] - 1938s 7s/step - loss: 0.1666 - acc: 0.6358 - val_loss: 0.1808 - val_acc: 0.6213 - lr: 0.0010\n",
            "Epoch 2/50\n",
            "261/261 [==============================] - ETA: 0s - loss: 0.1584 - acc: 0.6695\n",
            "Epoch 2: ReduceLROnPlateau reducing learning rate to 0.00010000000474974513.\n",
            "261/261 [==============================] - 126s 481ms/step - loss: 0.1584 - acc: 0.6695 - val_loss: 0.5921 - val_acc: 0.5607 - lr: 0.0010\n",
            "Epoch 3/50\n",
            "261/261 [==============================] - 125s 476ms/step - loss: 0.1405 - acc: 0.7273 - val_loss: 0.1400 - val_acc: 0.6912 - lr: 1.0000e-04\n",
            "Epoch 4/50\n",
            "261/261 [==============================] - 123s 472ms/step - loss: 0.1337 - acc: 0.7463 - val_loss: 0.1366 - val_acc: 0.7316 - lr: 1.0000e-04\n",
            "Epoch 5/50\n",
            "261/261 [==============================] - 123s 468ms/step - loss: 0.1310 - acc: 0.7596 - val_loss: 0.1320 - val_acc: 0.7335 - lr: 1.0000e-04\n",
            "Epoch 6/50\n",
            "261/261 [==============================] - ETA: 0s - loss: 0.1280 - acc: 0.7727\n",
            "Epoch 6: ReduceLROnPlateau reducing learning rate to 0.0001.\n",
            "261/261 [==============================] - 123s 472ms/step - loss: 0.1280 - acc: 0.7727 - val_loss: 0.1320 - val_acc: 0.7390 - lr: 1.0000e-04\n",
            "Epoch 7/50\n",
            "261/261 [==============================] - 122s 465ms/step - loss: 0.1262 - acc: 0.7742 - val_loss: 0.1274 - val_acc: 0.7684 - lr: 1.0000e-04\n",
            "Epoch 8/50\n",
            "261/261 [==============================] - 123s 470ms/step - loss: 0.1236 - acc: 0.7792 - val_loss: 0.1464 - val_acc: 0.7316 - lr: 1.0000e-04\n",
            "Epoch 9/50\n",
            "261/261 [==============================] - 122s 467ms/step - loss: 0.1203 - acc: 0.7887 - val_loss: 0.1310 - val_acc: 0.7555 - lr: 1.0000e-04\n",
            "Epoch 10/50\n",
            "261/261 [==============================] - 122s 466ms/step - loss: 0.1188 - acc: 0.7890 - val_loss: 0.1262 - val_acc: 0.7610 - lr: 1.0000e-04\n",
            "Epoch 11/50\n",
            "261/261 [==============================] - 122s 465ms/step - loss: 0.1184 - acc: 0.7927 - val_loss: 0.1526 - val_acc: 0.7151 - lr: 1.0000e-04\n",
            "Epoch 12/50\n",
            "261/261 [==============================] - 121s 463ms/step - loss: 0.1161 - acc: 0.7972 - val_loss: 0.1419 - val_acc: 0.7335 - lr: 1.0000e-04\n",
            "Epoch 13/50\n",
            "261/261 [==============================] - 123s 472ms/step - loss: 0.1148 - acc: 0.8017 - val_loss: 0.1434 - val_acc: 0.7188 - lr: 1.0000e-04\n",
            "Epoch 14/50\n",
            "261/261 [==============================] - 121s 464ms/step - loss: 0.1134 - acc: 0.8056 - val_loss: 0.1305 - val_acc: 0.7647 - lr: 1.0000e-04\n",
            "Epoch 15/50\n",
            "261/261 [==============================] - 123s 468ms/step - loss: 0.1131 - acc: 0.7996 - val_loss: 0.1334 - val_acc: 0.7463 - lr: 1.0000e-04\n",
            "Epoch 16/50\n",
            "261/261 [==============================] - 123s 469ms/step - loss: 0.1110 - acc: 0.8058 - val_loss: 0.1254 - val_acc: 0.7574 - lr: 1.0000e-04\n",
            "Epoch 17/50\n",
            "261/261 [==============================] - 123s 471ms/step - loss: 0.1075 - acc: 0.8135 - val_loss: 0.1453 - val_acc: 0.7537 - lr: 1.0000e-04\n",
            "Epoch 18/50\n",
            "261/261 [==============================] - 123s 469ms/step - loss: 0.1058 - acc: 0.8178 - val_loss: 0.2263 - val_acc: 0.6397 - lr: 1.0000e-04\n",
            "Epoch 19/50\n",
            "261/261 [==============================] - 123s 471ms/step - loss: 0.1049 - acc: 0.8157 - val_loss: 0.1580 - val_acc: 0.7096 - lr: 1.0000e-04\n",
            "Epoch 20/50\n",
            "261/261 [==============================] - 124s 474ms/step - loss: 0.1022 - acc: 0.8265 - val_loss: 0.1298 - val_acc: 0.7610 - lr: 1.0000e-04\n",
            "Epoch 21/50\n",
            "261/261 [==============================] - 125s 479ms/step - loss: 0.1011 - acc: 0.8275 - val_loss: 0.1491 - val_acc: 0.7188 - lr: 1.0000e-04\n",
            "Epoch 22/50\n",
            "261/261 [==============================] - 127s 486ms/step - loss: 0.0962 - acc: 0.8348 - val_loss: 0.1431 - val_acc: 0.7426 - lr: 1.0000e-04\n",
            "Epoch 23/50\n",
            "261/261 [==============================] - 126s 480ms/step - loss: 0.0944 - acc: 0.8399 - val_loss: 0.1485 - val_acc: 0.7555 - lr: 1.0000e-04\n",
            "Epoch 24/50\n",
            "261/261 [==============================] - 126s 480ms/step - loss: 0.0926 - acc: 0.8496 - val_loss: 0.1329 - val_acc: 0.7592 - lr: 1.0000e-04\n",
            "Epoch 24: early stopping\n"
          ]
        }
      ]
    },
    {
      "cell_type": "markdown",
      "source": [
        "#Model Evaluation and performance check"
      ],
      "metadata": {
        "id": "p2ktM5sbY6uj"
      }
    },
    {
      "cell_type": "code",
      "source": [
        "model = keras.models.load_model('/content/drive/My Drive/Project/Final models/final_shoulder_model_densnet.h5')"
      ],
      "metadata": {
        "id": "8Yob0PwSfJme"
      },
      "execution_count": 17,
      "outputs": []
    },
    {
      "cell_type": "code",
      "source": [
        "label=['Normal', 'Abnormal']"
      ],
      "metadata": {
        "id": "L6bInj5snZoB"
      },
      "execution_count": 18,
      "outputs": []
    },
    {
      "cell_type": "code",
      "source": [
        "# Evaluate the models\n",
        "model_eval = model.evaluate(test_generator)"
      ],
      "metadata": {
        "id": "IO5U-DxNqi4Q",
        "colab": {
          "base_uri": "https://localhost:8080/"
        },
        "outputId": "9bbdec43-d3f3-4521-9f12-d416d38d033d"
      },
      "execution_count": 19,
      "outputs": [
        {
          "output_type": "stream",
          "name": "stdout",
          "text": [
            "18/18 [==============================] - 554s 32s/step - loss: 0.1316 - acc: 0.7726\n"
          ]
        }
      ]
    },
    {
      "cell_type": "code",
      "source": [
        "print(\"model Evaluation:\", '\\n')\n",
        "print(\"Loss:\", model_eval[0], '\\n')\n",
        "print(\"Accuracy:\", model_eval[1])"
      ],
      "metadata": {
        "id": "XVBqrspQqdgq",
        "colab": {
          "base_uri": "https://localhost:8080/"
        },
        "outputId": "9ecb82f5-e5b0-40cf-e5f1-567b3568cffb"
      },
      "execution_count": 20,
      "outputs": [
        {
          "output_type": "stream",
          "name": "stdout",
          "text": [
            "model Evaluation: \n",
            "\n",
            "Loss: 0.131591796875 \n",
            "\n",
            "Accuracy: 0.7726465463638306\n"
          ]
        }
      ]
    },
    {
      "cell_type": "code",
      "source": [
        "# Make predictions on the test data\n",
        "y_pred = model.predict(test_generator)\n",
        "# Assuming y_pred contains probabilities of being 'abnormal'\n",
        "# Applying a threshold of 0.5\n",
        "y_pred_classes = (y_pred > 0.5).astype(int).reshape(-1)\n",
        "\n",
        "\n",
        "# Use the true labels from the test data generator\n",
        "y_true = test_generator.labels\n",
        "\n",
        "# Compute the confusion matrix\n",
        "confusion_mtx = confusion_matrix(y_true, y_pred_classes)"
      ],
      "metadata": {
        "id": "4y8rGiPQrFN9",
        "colab": {
          "base_uri": "https://localhost:8080/"
        },
        "outputId": "9396d9f2-52d9-4b6c-fe41-6423bc3997b5"
      },
      "execution_count": 21,
      "outputs": [
        {
          "output_type": "stream",
          "name": "stdout",
          "text": [
            "18/18 [==============================] - 10s 435ms/step\n"
          ]
        }
      ]
    },
    {
      "cell_type": "code",
      "source": [
        "# Visualize the confusion matrix as a heatmap\n",
        "plt.figure(figsize=(10, 8))\n",
        "sns.heatmap(confusion_mtx, annot=True, fmt='d', cmap='Blues', xticklabels=label, yticklabels=label)\n",
        "plt.xlabel('Predicted')\n",
        "plt.ylabel('True')\n",
        "plt.title('Confusion Matrix for shoulder')\n",
        "plt.show()"
      ],
      "metadata": {
        "id": "txgj2bMXrWVn",
        "colab": {
          "base_uri": "https://localhost:8080/",
          "height": 718
        },
        "outputId": "07470150-1d60-4340-d8d4-0e01dae2fd4d"
      },
      "execution_count": 22,
      "outputs": [
        {
          "output_type": "display_data",
          "data": {
            "text/plain": [
              "<Figure size 1000x800 with 2 Axes>"
            ],
            "image/png": "[encoded data removed]"
          },
          "metadata": {}
        }
      ]
    },
    {
      "cell_type": "code",
      "source": [
        "# Print a classification report with additional metrics\n",
        "class_report = classification_report(y_true, y_pred_classes, target_names=label)\n",
        "print(class_report)"
      ],
      "metadata": {
        "id": "HxJWbQzwrjJJ",
        "colab": {
          "base_uri": "https://localhost:8080/"
        },
        "outputId": "4e81860a-1665-49ae-d4d0-f2b05e9ef4d9"
      },
      "execution_count": 23,
      "outputs": [
        {
          "output_type": "stream",
          "name": "stdout",
          "text": [
            "              precision    recall  f1-score   support\n",
            "\n",
            "      Normal       0.78      0.71      0.75       285\n",
            "    Abnormal       0.73      0.80      0.76       278\n",
            "\n",
            "    accuracy                           0.75       563\n",
            "   macro avg       0.76      0.76      0.75       563\n",
            "weighted avg       0.76      0.75      0.75       563\n",
            "\n"
          ]
        }
      ]
    },
    {
      "cell_type": "markdown",
      "source": [
        "#save model"
      ],
      "metadata": {
        "id": "_RLcyyw7xUoK"
      }
    },
    {
      "cell_type": "code",
      "source": [
        "model.save('/content/drive/My Drive/Project/final_shoulder_model_densnet.h5')"
      ],
      "metadata": {
        "id": "X8Mnz0txGXNp",
        "colab": {
          "base_uri": "https://localhost:8080/"
        },
        "outputId": "31dee92f-05dc-44d1-897c-25ba587553f1"
      },
      "execution_count": null,
      "outputs": [
        {
          "output_type": "stream",
          "name": "stderr",
          "text": [
            "/usr/local/lib/python3.10/dist-packages/keras/src/engine/training.py:3079: UserWarning: You are saving your model as an HDF5 file via `model.save()`. This file format is considered legacy. We recommend using instead the native Keras format, e.g. `model.save('my_model.keras')`.\n",
            "  saving_api.save_model(\n"
          ]
        }
      ]
    }
  ]
}